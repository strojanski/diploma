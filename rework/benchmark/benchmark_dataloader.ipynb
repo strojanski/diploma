{
 "cells": [
  {
   "cell_type": "code",
   "execution_count": 1,
   "metadata": {},
   "outputs": [],
   "source": [
    "import os\n",
    "import numpy as np\n",
    "\n",
    "# from torch.utils.data import DataLoader, Dataset\n",
    "\n",
    "from preprocess import resize_input, train_test_split, read_raw\n",
    "from ear_triplet import EarTriplet\n",
    "\n",
    "import cv2\n",
    "import torch\n",
    "import torchvision"
   ]
  },
  {
   "cell_type": "code",
   "execution_count": 2,
   "metadata": {},
   "outputs": [],
   "source": [
    "train_dataset = torchvision.datasets.MNIST(\n",
    "    \"/files/\",\n",
    "    train=True,\n",
    "    download=True,\n",
    "    transform=torchvision.transforms.Compose(\n",
    "        [\n",
    "            torchvision.transforms.ToTensor(),\n",
    "            #    torchvision.transforms.Normalize(\n",
    "            #      (0.1307,), (0.3081,))\n",
    "        ]\n",
    "    ),\n",
    ")\n",
    "\n",
    "eval_dataset = torchvision.datasets.MNIST(\n",
    "    \"/files/\",\n",
    "    train=False,\n",
    "    download=True,\n",
    "    transform=torchvision.transforms.Compose(\n",
    "        [\n",
    "            torchvision.transforms.ToTensor(),\n",
    "            #    torchvision.transforms.Normalize(\n",
    "            #      (0.1307,), (0.3081,))\n",
    "        ]\n",
    "    ),\n",
    ")"
   ]
  },
  {
   "cell_type": "code",
   "execution_count": 3,
   "metadata": {},
   "outputs": [
    {
     "name": "stdout",
     "output_type": "stream",
     "text": [
      "label: 5\n"
     ]
    },
    {
     "data": {
      "image/png": "[encoded data removed]",
      "text/plain": [
       "<Figure size 640x480 with 1 Axes>"
      ]
     },
     "metadata": {},
     "output_type": "display_data"
    }
   ],
   "source": [
    "import matplotlib.pyplot as plt\n",
    "\n",
    "img, label = train_dataset[0]\n",
    "\n",
    "plt.imshow(train_dataset.data[0])\n",
    "print(\"label:\", label)"
   ]
  },
  {
   "cell_type": "code",
   "execution_count": 4,
   "metadata": {},
   "outputs": [],
   "source": [
    "def split_triplets(X, y):\n",
    "    # Constraint: anchor and positive must be the same person\n",
    "    X, y = np.array(X), np.array(y)\n",
    "    print(\"Classes: \", len(np.unique(y)))\n",
    "\n",
    "    # Key has a list of indices of instances of that label\n",
    "    # label_to_indices[label] returns indices of all the instances of class=label\n",
    "    label_to_indices = {label: np.where(y == label)[0] for label in np.unique(y)}\n",
    "\n",
    "    for key in label_to_indices.keys():\n",
    "        np.random.shuffle(label_to_indices[key])\n",
    "\n",
    "    an, pos, neg = [], [], []\n",
    "\n",
    "    # For each class\n",
    "    for i, label in enumerate(label_to_indices.keys()):\n",
    "        subarray_size = len(label_to_indices[label]) // 2\n",
    "\n",
    "        # Get random negative classes; negs = array of classes\n",
    "        negs = list(label_to_indices.keys()).copy()\n",
    "        negs.remove(label)\n",
    "        print(negs, subarray_size)\n",
    "        negs = np.random.choice(negs, size=subarray_size, replace=True)\n",
    "        while label in negs:\n",
    "            negs = np.random.choice(\n",
    "                list(label_to_indices.keys()), size=subarray_size, replace=False\n",
    "            )\n",
    "\n",
    "        # anchor and positive have label = label and negative is random\n",
    "        an.extend(label_to_indices[label][:subarray_size])\n",
    "        pos.extend(label_to_indices[label][subarray_size:][:subarray_size])\n",
    "\n",
    "        # Negative = random class od vseh ostalih, vzami random instanco iz vsakega\n",
    "        for neg_label in negs:\n",
    "            neg.extend(np.random.choice(label_to_indices[neg_label], size=1))\n",
    "\n",
    "    print(len(an), len(pos), len(neg))\n",
    "\n",
    "    # Use the resulting arrays of indices to get the split arrays\n",
    "    anchor_data, anchor_labels = X[an], y[an]\n",
    "    positive_data, positive_labels = X[pos], y[pos]\n",
    "    negative_data, negative_labels = X[neg], y[neg]\n",
    "\n",
    "    return (\n",
    "        (anchor_data, anchor_labels),\n",
    "        (positive_data, positive_labels),\n",
    "        (negative_data, negative_labels),\n",
    "    )"
   ]
  },
  {
   "cell_type": "code",
   "execution_count": 5,
   "metadata": {},
   "outputs": [],
   "source": [
    "X_train, X_test, y_train, y_test = [], [], [], []\n",
    "\n",
    "for item in train_dataset:\n",
    "    img, label = item\n",
    "\n",
    "    X_train.append(img)\n",
    "    y_train.append(label)\n",
    "\n",
    "for item in eval_dataset:\n",
    "    img, label = item\n",
    "\n",
    "    X_test.append(img)\n",
    "    y_test.append(label)"
   ]
  },
  {
   "cell_type": "code",
   "execution_count": 6,
   "metadata": {},
   "outputs": [],
   "source": [
    "# X_train, X_eval, y_train, y_eval = train_test_split(data_dict)"
   ]
  },
  {
   "cell_type": "code",
   "execution_count": 7,
   "metadata": {},
   "outputs": [
    {
     "data": {
      "text/plain": [
       "60000"
      ]
     },
     "execution_count": 7,
     "metadata": {},
     "output_type": "execute_result"
    }
   ],
   "source": [
    "len(X_train)"
   ]
  },
  {
   "cell_type": "code",
   "execution_count": 8,
   "metadata": {},
   "outputs": [
    {
     "name": "stderr",
     "output_type": "stream",
     "text": [
      "c:\\Users\\sebas\\miniconda3\\Lib\\site-packages\\torchvision\\transforms\\v2\\_deprecated.py:41: UserWarning: The transform `ToTensor()` is deprecated and will be removed in a future release. Instead, please use `v2.Compose([v2.ToImage(), v2.ToDtype(torch.float32, scale=True)])`.\n",
      "  warnings.warn(\n"
     ]
    }
   ],
   "source": [
    "X_train = resize_input(X_train, 64, mode=\"train\")"
   ]
  },
  {
   "cell_type": "code",
   "execution_count": 9,
   "metadata": {},
   "outputs": [
    {
     "name": "stdout",
     "output_type": "stream",
     "text": [
      "Classes:  10\n",
      "[1, 2, 3, 4, 5, 6, 7, 8, 9] 2961\n",
      "[0, 2, 3, 4, 5, 6, 7, 8, 9] 3371\n",
      "[0, 1, 3, 4, 5, 6, 7, 8, 9] 2979\n",
      "[0, 1, 2, 4, 5, 6, 7, 8, 9] 3065\n",
      "[0, 1, 2, 3, 5, 6, 7, 8, 9] 2921\n",
      "[0, 1, 2, 3, 4, 6, 7, 8, 9] 2710\n",
      "[0, 1, 2, 3, 4, 5, 7, 8, 9] 2959\n",
      "[0, 1, 2, 3, 4, 5, 6, 8, 9] 3132\n",
      "[0, 1, 2, 3, 4, 5, 6, 7, 9] 2925\n",
      "[0, 1, 2, 3, 4, 5, 6, 7, 8] 2974\n",
      "29997 29997 29997\n"
     ]
    },
    {
     "data": {
      "text/plain": [
       "(29997, 29997, 29997, 29997, 29997, 29997)"
      ]
     },
     "execution_count": 9,
     "metadata": {},
     "output_type": "execute_result"
    }
   ],
   "source": [
    "train_triplets = split_triplets(X_train, y_train)\n",
    "\n",
    "train_anc, train_pos, train_neg = train_triplets\n",
    "\n",
    "train_dataset = EarTriplet(\n",
    "    train_anc[0], train_anc[1], train_pos[0], train_pos[1], train_neg[0], train_neg[1]\n",
    ")\n",
    "\n",
    "len(train_dataset.anchor_data), len(train_dataset.anchor_labels), len(\n",
    "    train_dataset.positive_data\n",
    "), len(train_dataset.positive_labels), len(train_dataset.negative_data), len(\n",
    "    train_dataset.negative_labels\n",
    ")"
   ]
  },
  {
   "cell_type": "code",
   "execution_count": 10,
   "metadata": {},
   "outputs": [],
   "source": [
    "torch.save(train_dataset, \"data/train_dataset.pt\")"
   ]
  },
  {
   "cell_type": "code",
   "execution_count": 11,
   "metadata": {},
   "outputs": [
    {
     "name": "stdout",
     "output_type": "stream",
     "text": [
      "Classes:  10\n",
      "[1, 2, 3, 4, 5, 6, 7, 8, 9] 490\n",
      "[0, 2, 3, 4, 5, 6, 7, 8, 9] 567\n",
      "[0, 1, 3, 4, 5, 6, 7, 8, 9] 516\n",
      "[0, 1, 2, 4, 5, 6, 7, 8, 9] 505\n",
      "[0, 1, 2, 3, 5, 6, 7, 8, 9] 491\n",
      "[0, 1, 2, 3, 4, 6, 7, 8, 9] 446\n",
      "[0, 1, 2, 3, 4, 5, 7, 8, 9] 479\n",
      "[0, 1, 2, 3, 4, 5, 6, 8, 9] 514\n",
      "[0, 1, 2, 3, 4, 5, 6, 7, 9] 487\n",
      "[0, 1, 2, 3, 4, 5, 6, 7, 8] 504\n",
      "4999 4999 4999\n"
     ]
    }
   ],
   "source": [
    "X_eval = resize_input(X_test, 64, mode=\"test\")\n",
    "\n",
    "eval_triplets = split_triplets(X_eval, y_test)\n",
    "\n",
    "eval_anc, eval_pos, eval_neg = eval_triplets\n",
    "\n",
    "eval_dataset = EarTriplet(\n",
    "    eval_anc[0], eval_anc[1], eval_pos[0], eval_pos[1], eval_neg[0], eval_neg[1]\n",
    ")"
   ]
  },
  {
   "cell_type": "code",
   "execution_count": 12,
   "metadata": {},
   "outputs": [],
   "source": [
    "torch.save(eval_dataset, \"data/eval_dataset.pt\")"
   ]
  }
 ],
 "metadata": {
  "kernelspec": {
   "display_name": "base",
   "language": "python",
   "name": "python3"
  },
  "language_info": {
   "codemirror_mode": {
    "name": "ipython",
    "version": 3
   },
   "file_extension": ".py",
   "mimetype": "text/x-python",
   "name": "python",
   "nbconvert_exporter": "python",
   "pygments_lexer": "ipython3",
   "version": "3.11.5"
  },
  "orig_nbformat": 4
 },
 "nbformat": 4,
 "nbformat_minor": 2
}

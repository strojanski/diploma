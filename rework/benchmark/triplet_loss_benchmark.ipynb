{
 "cells": [
  {
   "cell_type": "code",
   "execution_count": 14,
   "metadata": {},
   "outputs": [],
   "source": [
    "# import matplotlib.pyplot as plt\n",
    "import numpy as np\n",
    "import torch\n",
    "import torchvision.models as models\n",
    "from PIL import Image\n",
    "from sklearn.metrics import accuracy_score, precision_score\n",
    "from torch import nn\n",
    "from torchvision import transforms as T\n",
    "import torchvision.models as models\n",
    "\n",
    "from torch.utils.data import DataLoader"
   ]
  },
  {
   "cell_type": "code",
   "execution_count": 15,
   "metadata": {},
   "outputs": [
    {
     "data": {
      "text/plain": [
       "device(type='cuda')"
      ]
     },
     "execution_count": 15,
     "metadata": {},
     "output_type": "execute_result"
    }
   ],
   "source": [
    "device = torch.device(\"cuda\" if torch.cuda.is_available() else \"cpu\")\n",
    "device"
   ]
  },
  {
   "attachments": {},
   "cell_type": "markdown",
   "metadata": {},
   "source": [
    "### 1. Load dataloaders"
   ]
  },
  {
   "cell_type": "code",
   "execution_count": 16,
   "metadata": {},
   "outputs": [],
   "source": [
    "train_ds = torch.load(\"data/train_dataset.pt\")\n",
    "eval_ds = torch.load(\"data/eval_dataset.pt\")"
   ]
  },
  {
   "cell_type": "code",
   "execution_count": 17,
   "metadata": {},
   "outputs": [
    {
     "data": {
      "text/plain": [
       "(29997, 29997, 4999, 4999)"
      ]
     },
     "execution_count": 17,
     "metadata": {},
     "output_type": "execute_result"
    }
   ],
   "source": [
    "len(train_ds.anchor_data), len(train_ds.anchor_labels), len(eval_ds.anchor_data), len(eval_ds.anchor_labels)"
   ]
  },
  {
   "cell_type": "code",
   "execution_count": 18,
   "metadata": {},
   "outputs": [],
   "source": [
    "BATCH_SIZE = 32\n",
    "\n",
    "train_dl = DataLoader(train_ds, batch_size=BATCH_SIZE, shuffle=True)\n",
    "eval_dl = DataLoader(eval_ds, batch_size=BATCH_SIZE, shuffle=True)"
   ]
  },
  {
   "cell_type": "code",
   "execution_count": 19,
   "metadata": {},
   "outputs": [],
   "source": [
    "from sklearn.metrics.pairwise import cosine_similarity\n",
    "\n",
    "\n",
    "loss_history = []\n",
    "accuracy_history = []\n",
    "\n",
    "def train(model, criterion, optimizer, train_loader, valid_loader, epochs, save_path=\"models/model\"):\n",
    "    best_val_loss = float('inf')  # Initialize with infinity\n",
    "    \n",
    "    model = model.to(device)\n",
    "    scheduler = torch.optim.lr_scheduler.ReduceLROnPlateau(optimizer, mode='min', factor=0.1, patience=5)    \n",
    "    \n",
    "    for epoch in range(epochs):\n",
    "        # Training loop\n",
    "        model.train()\n",
    "        train_loss = 0.0\n",
    "        val_loss = 0\n",
    "        \n",
    "        for inputs, labels in train_loader:\n",
    "            \n",
    "            input_anchor, input_pos, input_neg = inputs\n",
    "            # label_anchor, label_pos, label_neg = labels\n",
    "            \n",
    "            input_anchor = input_anchor.to(device)\n",
    "            input_pos = input_pos.to(device)\n",
    "            input_neg = input_neg.to(device)\n",
    "            \n",
    "            emb_anchor = model(input_anchor)\n",
    "            emb_pos = model(input_pos)\n",
    "            emb_neg = model(input_neg)\n",
    "            \n",
    "            loss = criterion(emb_anchor, emb_pos, emb_neg)\n",
    "            loss.backward()\n",
    "            optimizer.step()\n",
    "            optimizer.zero_grad()\n",
    "            \n",
    "            train_loss += loss.item()\n",
    "            \n",
    "        loss_history.append(loss.item())    \n",
    "        \n",
    "        scheduler.step(val_loss)\n",
    "        \n",
    "        # Validation loop\n",
    "        model.eval()\n",
    "        val_loss = 0\n",
    "        correct = 0\n",
    "        total = 0\n",
    "        \n",
    "        embeddings = []\n",
    "        targets = []\n",
    "        \n",
    "        with torch.no_grad():\n",
    "            for inputs, labels in valid_loader:\n",
    "                input_anchor, input_pos, input_neg = inputs\n",
    "                label_anchor, label_pos, label_neg = labels\n",
    "                \n",
    "                batch_emb, batch_lab = [], []\n",
    "                \n",
    "                input_anchor = input_anchor.to(device)\n",
    "                input_pos = input_pos.to(device)\n",
    "                input_neg = input_neg.to(device)\n",
    "                \n",
    "                emb_anchor = model(input_anchor)\n",
    "                emb_pos = model(input_pos)\n",
    "                emb_neg = model(input_neg)\n",
    "                \n",
    "                # embeddings.extend(emb_anchor)\n",
    "                batch_emb.extend(emb_pos.cpu())\n",
    "                batch_emb.extend(emb_neg.cpu())\n",
    "                \n",
    "                # labels.extend(label_anchor)\n",
    "                batch_lab.extend(label_pos.cpu().tolist())\n",
    "                batch_lab.extend(label_neg.cpu().tolist())\n",
    "                \n",
    "                embeddings.extend(batch_emb)\n",
    "                targets.extend(batch_lab)\n",
    "                \n",
    "                \n",
    "                loss = criterion(emb_anchor, emb_pos, emb_neg)\n",
    "                val_loss += loss.item()\n",
    "        \n",
    "        # Average losses\n",
    "        train_loss /= len(train_loader)\n",
    "        val_loss /= len(valid_loader)\n",
    "        \n",
    "        for i in range(len(embeddings)):\n",
    "            embeddings[i] = embeddings[i].detach().numpy()\n",
    "            \n",
    "        \n",
    "        embeddings = np.array(embeddings)\n",
    "        targets = np.array(targets)\n",
    "        \n",
    "        # Get cosine similarity for all embeddings\n",
    "        similarity_matrix = cosine_similarity(embeddings)\n",
    "        \n",
    "        # Fill diagonal with inf\n",
    "        np.fill_diagonal(similarity_matrix, -np.inf)\n",
    "        \n",
    "        # Find the index of max sim for each embedding\n",
    "        most_similar_indices = np.argmax(similarity_matrix, axis=1)\n",
    "        \n",
    "        # Extract the labels of the most similar items\n",
    "        predicted_labels = [targets[i] for i in most_similar_indices]\n",
    "        \n",
    "        \n",
    "        # Get number of correct predictions\n",
    "        # n_correct = sum(1 for true_label, predicted_label in zip(labels, predicted_labels) if true_label == predicted_label)\n",
    "        n_correct = sum(1 for true, pred in zip(targets, predicted_labels) if true == pred)\n",
    "        \n",
    "        print(\"Number of correct matches: \", n_correct)\n",
    "\n",
    "        val_acc = 100 * (n_correct / len(embeddings))\n",
    "\n",
    "        accuracy_history.append(val_acc)\n",
    "        \n",
    "        print(f\"Validation accuracy: {val_acc:0.3f}%\")\n",
    "        \n",
    "        print(f'Epoch {epoch+1}/{epochs}, Train Loss: {train_loss:.4f}, Valid Loss: {val_loss:.4f}')\n",
    "        \n",
    "        # Save the model if validation loss is improved\n",
    "        if val_loss < best_val_loss:\n",
    "            best_val_loss = val_loss\n",
    "            torch.save(model.state_dict(), f\"{save_path}_{epoch}\")\n",
    "            print(\"Model saved with validation loss:\", best_val_loss)\n"
   ]
  },
  {
   "attachments": {},
   "cell_type": "markdown",
   "metadata": {},
   "source": [
    "### 2. Get model & train"
   ]
  },
  {
   "cell_type": "code",
   "execution_count": 20,
   "metadata": {},
   "outputs": [
    {
     "name": "stderr",
     "output_type": "stream",
     "text": [
      "c:\\Users\\sebas\\miniconda3\\envs\\trust-me\\Lib\\site-packages\\torchvision\\models\\_utils.py:208: UserWarning: The parameter 'pretrained' is deprecated since 0.13 and may be removed in the future, please use 'weights' instead.\n",
      "  warnings.warn(\n",
      "c:\\Users\\sebas\\miniconda3\\envs\\trust-me\\Lib\\site-packages\\torchvision\\models\\_utils.py:223: UserWarning: Arguments other than a weight enum or `None` for 'weights' are deprecated since 0.13 and may be removed in the future. The current behavior is equivalent to passing `weights=ResNet18_Weights.IMAGENET1K_V1`. You can also use `weights=ResNet18_Weights.DEFAULT` to get the most up-to-date weights.\n",
      "  warnings.warn(msg)\n"
     ]
    }
   ],
   "source": [
    "import os\n",
    "\n",
    "model = models.resnet18(pretrained=True)\n",
    "model.fc = torch.nn.Identity()\n",
    "model.conv1 = torch.nn.Conv2d(1, 64, kernel_size=(7, 7), stride=(2, 2), padding=(3, 3), bias=False)\n",
    "\n",
    "if os.path.exists(\"models/resnet50.pt\"):\n",
    "    model.load_state_dict(torch.load(\"models/resnet50.pt\"))\n",
    "\n",
    "model = model.to(device)\n"
   ]
  },
  {
   "cell_type": "code",
   "execution_count": 21,
   "metadata": {},
   "outputs": [],
   "source": [
    "# import os\n",
    "\n",
    "# model = models.resnet50(pretrained=True)\n",
    "# print(model)\n",
    "# model.fc = torch.nn.Identity()\n",
    "\n",
    "# if os.path.exists(\"models/resnet50.pt\"):\n",
    "#     model.load_state_dict(torch.load(\"models/resnet50.pt\"))\n",
    "\n",
    "# model = model.to(device)\n"
   ]
  },
  {
   "cell_type": "code",
   "execution_count": 22,
   "metadata": {},
   "outputs": [],
   "source": [
    "LR = 1e-1\n",
    "\n",
    "n_epochs = 20\n",
    "\n",
    "criterion = torch.nn.TripletMarginLoss(margin=1, p=2) \n",
    "optimizer = torch.optim.Adam(model.parameters(), lr=LR)"
   ]
  },
  {
   "cell_type": "code",
   "execution_count": 23,
   "metadata": {},
   "outputs": [
    {
     "data": {
      "text/plain": [
       "torch.Size([1, 64, 64])"
      ]
     },
     "execution_count": 23,
     "metadata": {},
     "output_type": "execute_result"
    }
   ],
   "source": [
    "train_ds.anchor_data[0].shape"
   ]
  },
  {
   "cell_type": "code",
   "execution_count": 24,
   "metadata": {},
   "outputs": [
    {
     "name": "stdout",
     "output_type": "stream",
     "text": [
      "Number of correct matches:  9811\n",
      "Validation accuracy: 98.130%\n",
      "Epoch 1/20, Train Loss: 0.1255, Valid Loss: 0.0639\n",
      "Model saved with validation loss: 0.0639195565110559\n",
      "Number of correct matches:  9796\n",
      "Validation accuracy: 97.980%\n",
      "Epoch 2/20, Train Loss: 0.0322, Valid Loss: 0.0845\n",
      "Number of correct matches:  9816\n",
      "Validation accuracy: 98.180%\n",
      "Epoch 3/20, Train Loss: 0.0284, Valid Loss: 0.0535\n",
      "Model saved with validation loss: 0.05354513583859061\n",
      "Number of correct matches:  9766\n",
      "Validation accuracy: 97.680%\n",
      "Epoch 4/20, Train Loss: 0.0161, Valid Loss: 0.0655\n",
      "Number of correct matches:  9825\n",
      "Validation accuracy: 98.270%\n",
      "Epoch 5/20, Train Loss: 0.0220, Valid Loss: 0.0511\n",
      "Model saved with validation loss: 0.05106787264916548\n",
      "Number of correct matches:  9815\n",
      "Validation accuracy: 98.170%\n",
      "Epoch 6/20, Train Loss: 0.0130, Valid Loss: 0.0511\n",
      "Number of correct matches:  9833\n",
      "Validation accuracy: 98.350%\n",
      "Epoch 7/20, Train Loss: 0.0158, Valid Loss: 0.0322\n",
      "Model saved with validation loss: 0.03224921577675327\n",
      "Number of correct matches:  9858\n",
      "Validation accuracy: 98.600%\n",
      "Epoch 8/20, Train Loss: 0.0063, Valid Loss: 0.0235\n",
      "Model saved with validation loss: 0.023468637186440693\n",
      "Number of correct matches:  9869\n",
      "Validation accuracy: 98.710%\n",
      "Epoch 9/20, Train Loss: 0.0030, Valid Loss: 0.0203\n",
      "Model saved with validation loss: 0.020343101233433768\n",
      "Number of correct matches:  9872\n",
      "Validation accuracy: 98.740%\n",
      "Epoch 10/20, Train Loss: 0.0019, Valid Loss: 0.0215\n",
      "Number of correct matches:  9859\n",
      "Validation accuracy: 98.610%\n",
      "Epoch 11/20, Train Loss: 0.0022, Valid Loss: 0.0192\n",
      "Model saved with validation loss: 0.019202709625101393\n",
      "Number of correct matches:  9859\n",
      "Validation accuracy: 98.610%\n",
      "Epoch 12/20, Train Loss: 0.0025, Valid Loss: 0.0193\n",
      "Number of correct matches:  9857\n",
      "Validation accuracy: 98.590%\n",
      "Epoch 13/20, Train Loss: 0.0026, Valid Loss: 0.0244\n",
      "Number of correct matches:  9861\n",
      "Validation accuracy: 98.630%\n",
      "Epoch 14/20, Train Loss: 0.0015, Valid Loss: 0.0239\n",
      "Number of correct matches:  9857\n",
      "Validation accuracy: 98.590%\n",
      "Epoch 15/20, Train Loss: 0.0012, Valid Loss: 0.0228\n",
      "Number of correct matches:  9865\n",
      "Validation accuracy: 98.670%\n",
      "Epoch 16/20, Train Loss: 0.0016, Valid Loss: 0.0225\n",
      "Number of correct matches:  9856\n",
      "Validation accuracy: 98.580%\n",
      "Epoch 17/20, Train Loss: 0.0015, Valid Loss: 0.0223\n",
      "Number of correct matches:  9859\n",
      "Validation accuracy: 98.610%\n",
      "Epoch 18/20, Train Loss: 0.0009, Valid Loss: 0.0234\n",
      "Number of correct matches:  9855\n",
      "Validation accuracy: 98.570%\n",
      "Epoch 19/20, Train Loss: 0.0015, Valid Loss: 0.0224\n",
      "Number of correct matches:  9856\n",
      "Validation accuracy: 98.580%\n",
      "Epoch 20/20, Train Loss: 0.0012, Valid Loss: 0.0227\n"
     ]
    }
   ],
   "source": [
    "train(model, criterion, optimizer, train_dl, eval_dl, n_epochs, \"models/resnet50\")"
   ]
  },
  {
   "cell_type": "code",
   "execution_count": 32,
   "metadata": {},
   "outputs": [
    {
     "data": {
      "text/plain": [
       "<matplotlib.legend.Legend at 0x2ae8438de10>"
      ]
     },
     "execution_count": 32,
     "metadata": {},
     "output_type": "execute_result"
    },
    {
     "data": {
      "image/png": "[encoded data removed]",
      "text/plain": [
       "<Figure size 640x480 with 1 Axes>"
      ]
     },
     "metadata": {},
     "output_type": "display_data"
    }
   ],
   "source": [
    "import matplotlib.pyplot as plt\n",
    "\n",
    "\n",
    "plt.plot(loss_history, label=\"loss\")\n",
    "plt.plot(accuracy_history, label=\"accuracy\")\n",
    "plt.legend()"
   ]
  },
  {
   "cell_type": "code",
   "execution_count": 26,
   "metadata": {},
   "outputs": [
    {
     "data": {
      "text/plain": [
       "[1, 2, 3, 4, 4]"
      ]
     },
     "execution_count": 26,
     "metadata": {},
     "output_type": "execute_result"
    }
   ],
   "source": [
    "a = torch.tensor([1,2,3,4,4])\n",
    "a\n",
    "b = []\n",
    "b.extend(a.tolist())\n",
    "b"
   ]
  },
  {
   "cell_type": "code",
   "execution_count": 31,
   "metadata": {},
   "outputs": [
    {
     "data": {
      "image/png": "[encoded data removed]",
      "text/plain": [
       "<Figure size 640x480 with 2 Axes>"
      ]
     },
     "metadata": {},
     "output_type": "display_data"
    }
   ],
   "source": [
    "import matplotlib.pyplot as plt\n",
    "\n",
    "epoch_cutoff = 20\n",
    "\n",
    "# Create a figure and primary y-axis\n",
    "fig, ax1 = plt.subplots()\n",
    "\n",
    "# Plot data on the primary y-axis\n",
    "ax1.plot(loss_history, color='blue', label='Training loss')\n",
    "ax1.set_ylabel('Training loss', color='blue')\n",
    "\n",
    "# Create a secondary y-axis\n",
    "ax2 = ax1.twinx()\n",
    "\n",
    "# Plot data on the secondary y-axis\n",
    "ax2.plot(accuracy_history, color='red', label='Validation accuracy')\n",
    "ax2.set_ylabel('Validation accuracy [%]', color='red')\n",
    "\n",
    "# Add legend\n",
    "ax1.legend(loc='best')\n",
    "ax2.legend(loc='best')\n",
    "ax1.set_xlabel(\"Epoch\")\n",
    "# Show plot\n",
    "plt.show()"
   ]
  }
 ],
 "metadata": {
  "kernelspec": {
   "display_name": "torch",
   "language": "python",
   "name": "python3"
  },
  "language_info": {
   "codemirror_mode": {
    "name": "ipython",
    "version": 3
   },
   "file_extension": ".py",
   "mimetype": "text/x-python",
   "name": "python",
   "nbconvert_exporter": "python",
   "pygments_lexer": "ipython3",
   "version": "3.11.5"
  },
  "orig_nbformat": 4
 },
 "nbformat": 4,
 "nbformat_minor": 2
}

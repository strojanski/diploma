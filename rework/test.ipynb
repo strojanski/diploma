{
 "cells": [
  {
   "cell_type": "code",
   "execution_count": 1,
   "metadata": {},
   "outputs": [],
   "source": []
  },
  {
   "cell_type": "code",
   "execution_count": null,
   "metadata": {},
   "outputs": [],
   "source": []
  },
  {
   "cell_type": "code",
   "execution_count": null,
   "metadata": {},
   "outputs": [],
   "source": [
    "upsampler = torch.hub.load(\"mhamilton723/FeatUp\", \"clip\").cuda()\n",
    "hr_feats = upsampler(image_tensor)\n",
    "lr_feats = upsampler.model(image_tensor)\n",
    "plot_feats(unnorm(image_tensor)[0], lr_feats[0], hr_feats[0])"
   ]
  }
 ],
 "metadata": {
  "kernelspec": {
   "display_name": "trust-me",
   "language": "python",
   "name": "python3"
  },
  "language_info": {
   "codemirror_mode": {
    "name": "ipython",
    "version": 3
   },
   "file_extension": ".py",
   "mimetype": "text/x-python",
   "name": "python",
   "nbconvert_exporter": "python",
   "pygments_lexer": "ipython3",
   "version": "3.11.5"
  }
 },
 "nbformat": 4,
 "nbformat_minor": 2
}

{
 "cells": [
  {
   "cell_type": "code",
   "execution_count": 1,
   "metadata": {},
   "outputs": [],
   "source": [
    "# import matplotlib.pyplot as plt\n",
    "import numpy as np\n",
    "import torch\n",
    "import torchvision.models as models\n",
    "from PIL import Image\n",
    "from sklearn.metrics import accuracy_score, precision_score\n",
    "from torch import nn\n",
    "from torchvision import transforms as T\n",
    "import torchvision.models as models\n",
    "\n",
    "from torch.utils.data import DataLoader"
   ]
  },
  {
   "cell_type": "code",
   "execution_count": 2,
   "metadata": {},
   "outputs": [
    {
     "data": {
      "text/plain": [
       "device(type='cuda')"
      ]
     },
     "execution_count": 2,
     "metadata": {},
     "output_type": "execute_result"
    }
   ],
   "source": [
    "device = torch.device(\"cuda\" if torch.cuda.is_available() else \"cpu\")\n",
    "device"
   ]
  },
  {
   "attachments": {},
   "cell_type": "markdown",
   "metadata": {},
   "source": [
    "### 1. Load dataloaders"
   ]
  },
  {
   "cell_type": "code",
   "execution_count": 3,
   "metadata": {},
   "outputs": [],
   "source": [
    "from triplet_dataset import TripletDataset"
   ]
  },
  {
   "cell_type": "code",
   "execution_count": 4,
   "metadata": {},
   "outputs": [],
   "source": [
    "train_ds = torch.load(\"data/train_dataset_shuffled.pt\")\n",
    "eval_ds = torch.load(\"data/eval_dataset_shuffled.pt\")"
   ]
  },
  {
   "cell_type": "code",
   "execution_count": 5,
   "metadata": {},
   "outputs": [],
   "source": [
    "# train_ds.reshuffle()\n",
    "# eval_ds.reshuffle()"
   ]
  },
  {
   "cell_type": "code",
   "execution_count": 6,
   "metadata": {},
   "outputs": [
    {
     "data": {
      "text/plain": [
       "(52270, 52270, 52270)"
      ]
     },
     "execution_count": 6,
     "metadata": {},
     "output_type": "execute_result"
    }
   ],
   "source": [
    "len(eval_ds.data), len(eval_ds.labels), len(eval_ds.triplets)"
   ]
  },
  {
   "cell_type": "code",
   "execution_count": 7,
   "metadata": {},
   "outputs": [],
   "source": [
    "eval_set_size = 30_000"
   ]
  },
  {
   "cell_type": "code",
   "execution_count": 8,
   "metadata": {},
   "outputs": [],
   "source": [
    "eval_ds.data = eval_ds.data[:eval_set_size]\n",
    "eval_ds.labels = eval_ds.labels[:eval_set_size]\n",
    "eval_ds.triplets = eval_ds.triplets[:eval_set_size]"
   ]
  },
  {
   "cell_type": "code",
   "execution_count": 9,
   "metadata": {},
   "outputs": [],
   "source": [
    "def get_majority(ds, get_value_counts=False):\n",
    "    \"\"\"Returns accuracy of the majority classifier\"\"\"\n",
    "    # Get the labels from the dataset\n",
    "    labels = [ys[0] for Xs, ys in ds.triplets]\n",
    "    \n",
    "    # Calculate the majority class label and its count\n",
    "    majority_class = np.argmax(np.bincount(labels))\n",
    "    majority_class_count = np.sum(labels == majority_class)\n",
    "    \n",
    "    # Calculate the accuracy of the majority classifier\n",
    "    accuracy = majority_class_count / len(labels)\n",
    "    \n",
    "    if get_value_counts:\n",
    "        return majority_class, accuracy, np.bincount(labels)\n",
    "    \n",
    "    return majority_class, accuracy"
   ]
  },
  {
   "cell_type": "code",
   "execution_count": 10,
   "metadata": {},
   "outputs": [
    {
     "ename": "ValueError",
     "evalue": "'list' argument must have no negative elements",
     "output_type": "error",
     "traceback": [
      "\u001b[1;31m---------------------------------------------------------------------------\u001b[0m",
      "\u001b[1;31mValueError\u001b[0m                                Traceback (most recent call last)",
      "Cell \u001b[1;32mIn[10], line 1\u001b[0m\n\u001b[1;32m----> 1\u001b[0m \u001b[38;5;28mprint\u001b[39m(\u001b[43mget_majority\u001b[49m\u001b[43m(\u001b[49m\u001b[43mtrain_ds\u001b[49m\u001b[43m)\u001b[49m)\n\u001b[0;32m      2\u001b[0m \u001b[38;5;28mprint\u001b[39m(get_majority(eval_ds, get_value_counts\u001b[38;5;241m=\u001b[39m\u001b[38;5;28;01mTrue\u001b[39;00m))\n",
      "Cell \u001b[1;32mIn[9], line 7\u001b[0m, in \u001b[0;36mget_majority\u001b[1;34m(ds, get_value_counts)\u001b[0m\n\u001b[0;32m      4\u001b[0m labels \u001b[38;5;241m=\u001b[39m [ys[\u001b[38;5;241m0\u001b[39m] \u001b[38;5;28;01mfor\u001b[39;00m Xs, ys \u001b[38;5;129;01min\u001b[39;00m ds\u001b[38;5;241m.\u001b[39mtriplets]\n\u001b[0;32m      6\u001b[0m \u001b[38;5;66;03m# Calculate the majority class label and its count\u001b[39;00m\n\u001b[1;32m----> 7\u001b[0m majority_class \u001b[38;5;241m=\u001b[39m np\u001b[38;5;241m.\u001b[39margmax(\u001b[43mnp\u001b[49m\u001b[38;5;241;43m.\u001b[39;49m\u001b[43mbincount\u001b[49m\u001b[43m(\u001b[49m\u001b[43mlabels\u001b[49m\u001b[43m)\u001b[49m)\n\u001b[0;32m      8\u001b[0m majority_class_count \u001b[38;5;241m=\u001b[39m np\u001b[38;5;241m.\u001b[39msum(labels \u001b[38;5;241m==\u001b[39m majority_class)\n\u001b[0;32m     10\u001b[0m \u001b[38;5;66;03m# Calculate the accuracy of the majority classifier\u001b[39;00m\n",
      "File \u001b[1;32m<__array_function__ internals>:180\u001b[0m, in \u001b[0;36mbincount\u001b[1;34m(*args, **kwargs)\u001b[0m\n",
      "\u001b[1;31mValueError\u001b[0m: 'list' argument must have no negative elements"
     ]
    }
   ],
   "source": [
    "print(get_majority(train_ds))\n",
    "print(get_majority(eval_ds, get_value_counts=True))"
   ]
  },
  {
   "cell_type": "code",
   "execution_count": 11,
   "metadata": {},
   "outputs": [
    {
     "data": {
      "text/plain": [
       "(30000, 30000, 30000)"
      ]
     },
     "execution_count": 11,
     "metadata": {},
     "output_type": "execute_result"
    }
   ],
   "source": [
    "len(eval_ds.data), len(eval_ds.labels), len(eval_ds.triplets)"
   ]
  },
  {
   "cell_type": "code",
   "execution_count": 12,
   "metadata": {},
   "outputs": [],
   "source": [
    "BATCH_SIZE = 256\n",
    "\n",
    "train_dl = DataLoader(train_ds, batch_size=BATCH_SIZE, shuffle=True)\n",
    "eval_dl = DataLoader(eval_ds, batch_size=BATCH_SIZE, shuffle=True)"
   ]
  },
  {
   "cell_type": "code",
   "execution_count": 21,
   "metadata": {},
   "outputs": [],
   "source": [
    "special_embeddings_batch = []"
   ]
  },
  {
   "cell_type": "code",
   "execution_count": 38,
   "metadata": {},
   "outputs": [],
   "source": [
    "def min_max_normalize_batch(batch):\n",
    "    min_vals = np.min(batch, axis=1, keepdims=True)\n",
    "    max_vals = np.max(batch, axis=1, keepdims=True)\n",
    "    normalized_batch = (batch - min_vals) / (max_vals - min_vals)\n",
    "    return normalized_batch"
   ]
  },
  {
   "cell_type": "code",
   "execution_count": 22,
   "metadata": {},
   "outputs": [],
   "source": [
    "from sklearn.metrics.pairwise import cosine_similarity\n",
    "\n",
    "\n",
    "loss_history = []\n",
    "accuracy_history = []\n",
    "\n",
    "def train(model, criterion, optimizer, train_loader, valid_loader, epochs, save_path=\"models/model\"):\n",
    "    a = True\n",
    "    best_val_loss = float('inf')  # Initialize with infinity\n",
    "    \n",
    "    model = model.to(device)\n",
    "    scheduler = torch.optim.lr_scheduler.ReduceLROnPlateau(optimizer, mode='min', factor=0.1, patience=3, verbose=True)    \n",
    "    \n",
    "    for epoch in range(epochs):\n",
    "        # Training loop\n",
    "        model.train()\n",
    "        train_loss = 0.0\n",
    "        val_loss = 0\n",
    "        \n",
    "        for inputs, labels in train_loader:\n",
    "            \n",
    "            input_anchor, input_pos, input_neg = inputs\n",
    "            # label_anchor, label_pos, label_neg = labels\n",
    "            \n",
    "            input_anchor = input_anchor.to(device)\n",
    "            input_pos = input_pos.to(device)\n",
    "            input_neg = input_neg.to(device)\n",
    "            \n",
    "            emb_anchor = model(input_anchor)\n",
    "            emb_pos = model(input_pos)\n",
    "            emb_neg = model(input_neg)\n",
    "            \n",
    "            loss = criterion(emb_anchor, emb_pos, emb_neg)\n",
    "            loss.backward()\n",
    "            optimizer.step()\n",
    "            optimizer.zero_grad()\n",
    "            \n",
    "            train_loss += loss.item()\n",
    "            \n",
    "        loss_history.append(loss.item())    \n",
    "        \n",
    "        scheduler.step(val_loss)\n",
    "        \n",
    "        # Validation loop\n",
    "        model.eval()\n",
    "        val_loss = 0\n",
    "        \n",
    "        embeddings = []\n",
    "        targets = []\n",
    "        \n",
    "        with torch.no_grad():\n",
    "            for inputs, labels in valid_loader:\n",
    "                input_anchor, input_pos, input_neg = inputs\n",
    "                label_anchor, label_pos, label_neg = labels\n",
    "                \n",
    "                batch_emb, batch_lab = [], []\n",
    "                \n",
    "                input_anchor = input_anchor.to(device)\n",
    "                input_pos = input_pos.to(device)\n",
    "                input_neg = input_neg.to(device)\n",
    "                \n",
    "                emb_anchor = model(input_anchor)\n",
    "                emb_pos = model(input_pos)\n",
    "                emb_neg = model(input_neg)\n",
    "                \n",
    "                # embeddings.extend(emb_anchor)\n",
    "                batch_emb.extend(emb_pos.cpu())\n",
    "                batch_emb.extend(emb_neg.cpu())\n",
    "                \n",
    "                # Print min, max, dist\n",
    "                \n",
    "                # labels.extend(label_anchor)\n",
    "                batch_lab.extend(label_pos.cpu().tolist())\n",
    "                batch_lab.extend(label_neg.cpu().tolist())\n",
    "                \n",
    "                embeddings.extend(batch_emb)\n",
    "                targets.extend(batch_lab)\n",
    "                \n",
    "                \n",
    "                loss = criterion(emb_anchor, emb_pos, emb_neg)\n",
    "                val_loss += loss.item()\n",
    "        \n",
    "        # Average losses\n",
    "        train_loss /= len(train_loader)\n",
    "        val_loss /= len(valid_loader)\n",
    "        \n",
    "        for i in range(len(embeddings)):\n",
    "            embeddings[i] = embeddings[i].detach().numpy()\n",
    "            \n",
    "        embeddings = np.array(embeddings)        \n",
    "        targets = np.array(targets)\n",
    "        \n",
    "        # Min max normalize embeddings\n",
    "        embeddings = min_max_normalize_batch(embeddings)\n",
    "        \n",
    "        # Get cosine similarity for all embeddings\n",
    "        similarity_matrix = cosine_similarity(embeddings)\n",
    "        \n",
    "        # Fill diagonal with inf\n",
    "        np.fill_diagonal(similarity_matrix, -np.inf)\n",
    "        \n",
    "        # Find the index of max sim for each embedding\n",
    "        most_similar_indices = np.argmax(similarity_matrix, axis=1)\n",
    "        \n",
    "        # Extract the labels of the most similar items\n",
    "        predicted_labels = [targets[i] for i in most_similar_indices]\n",
    "        \n",
    "        \n",
    "        # Get number of correct predictions\n",
    "        # n_correct = sum(1 for true_label, predicted_label in zip(labels, predicted_labels) if true_label == predicted_label)\n",
    "        n_correct = sum(1 for true, pred in zip(targets, predicted_labels) if true == pred)\n",
    "        \n",
    "        print(\"Number of correct matches: \", n_correct)\n",
    "\n",
    "        val_acc = 100 * (n_correct / len(embeddings))\n",
    "\n",
    "        accuracy_history.append(val_acc)\n",
    "        \n",
    "        print(f\"Validation accuracy: {val_acc:0.3f}%\")\n",
    "        \n",
    "        print(f'Epoch {epoch+1}/{epochs}, Train Loss: {train_loss:.4f}, Valid Loss: {val_loss:.4f}')\n",
    "        \n",
    "        if a:\n",
    "            special_embeddings_batch.append(embeddings)\n",
    "            a = False\n",
    "        \n",
    "        # Save the model if validation loss is improved\n",
    "        if val_loss < best_val_loss:\n",
    "            best_val_loss = val_loss\n",
    "            torch.save(model.state_dict(), f\"{save_path}_{epoch+1}\")\n",
    "            print(\"Model saved with validation loss:\", best_val_loss)\n",
    "        \n",
    "        embeddings = []\n",
    "        similarity_matrix = None"
   ]
  },
  {
   "attachments": {},
   "cell_type": "markdown",
   "metadata": {},
   "source": [
    "### 2. Get model & train"
   ]
  },
  {
   "cell_type": "code",
   "execution_count": 23,
   "metadata": {},
   "outputs": [],
   "source": [
    "RESNET_VERSION = 18"
   ]
  },
  {
   "cell_type": "code",
   "execution_count": 40,
   "metadata": {},
   "outputs": [
    {
     "data": {
      "text/plain": [
       "0.4989257"
      ]
     },
     "execution_count": 40,
     "metadata": {},
     "output_type": "execute_result"
    }
   ],
   "source": [
    "special_embeddings_batch = min_max_normalize_batch(special_embeddings_batch)\n",
    "np.mean(special_embeddings_batch)"
   ]
  },
  {
   "cell_type": "code",
   "execution_count": 37,
   "metadata": {},
   "outputs": [
    {
     "name": "stdout",
     "output_type": "stream",
     "text": [
      "[[0.   0.25 0.5  0.75 1.  ]\n",
      " [0.   0.25 0.5  0.75 1.  ]\n",
      " [0.   0.25 0.5  0.75 1.  ]]\n"
     ]
    }
   ],
   "source": [
    "import numpy as np\n",
    "\n",
    "\n"
   ]
  },
  {
   "cell_type": "code",
   "execution_count": 24,
   "metadata": {},
   "outputs": [],
   "source": [
    "# import os\n",
    "\n",
    "# baseline = models.resnet50(pretrained=True)\n",
    "    \n",
    "# baseline.fc = nn.Linear(2048, 910)\n",
    "    \n",
    "# if os.path.exists(f\"models/baseline_resnet50.pt.pt\"):\n",
    "#     baseline.load_state_dict(torch.load(f\"models/baseline_resnet50.pt\"))\n",
    "\n",
    "# baseline.fc = torch.nn.Identity()\n",
    "# model = baseline"
   ]
  },
  {
   "cell_type": "code",
   "execution_count": 25,
   "metadata": {},
   "outputs": [],
   "source": [
    "import os\n",
    "\n",
    "if RESNET_VERSION == 50:\n",
    "    model = models.resnet50(pretrained=True)\n",
    "else:\n",
    "    model = models.resnet18(pretrained=True)\n",
    "    \n",
    "# model.fc = torch.nn.Identity()\n",
    "\n",
    "if os.path.exists(f\"models/resnet{RESNET_VERSION}.pt\"):\n",
    "    model.load_state_dict(torch.load(f\"models/resnet{RESNET_VERSION}.pt\"))\n"
   ]
  },
  {
   "cell_type": "code",
   "execution_count": 26,
   "metadata": {},
   "outputs": [],
   "source": [
    "import warnings\n",
    "\n",
    "warnings.filterwarnings(\"ignore\")"
   ]
  },
  {
   "cell_type": "code",
   "execution_count": 27,
   "metadata": {},
   "outputs": [],
   "source": [
    "LR = 1e-2\n",
    "\n",
    "n_epochs = 20\n",
    "\n",
    "# TODO: Fix margin\n",
    "criterion = torch.nn.TripletMarginLoss(margin=1000, p=2) \n",
    "optimizer = torch.optim.Adam(model.parameters(), lr=LR)"
   ]
  },
  {
   "cell_type": "code",
   "execution_count": 28,
   "metadata": {},
   "outputs": [
    {
     "name": "stdout",
     "output_type": "stream",
     "text": [
      "-0.36060682 -0.61618894 -255.19563 290.68045\n",
      "Number of correct matches:  37271\n",
      "Validation accuracy: 62.118%\n",
      "Epoch 1/20, Train Loss: 797.6217, Valid Loss: 759.0367\n",
      "Model saved with validation loss: 759.0366971290717\n",
      "-2.0147176 -3.9141006 -363.86224 362.49426\n",
      "Number of correct matches:  40874\n",
      "Validation accuracy: 68.123%\n",
      "Epoch 2/20, Train Loss: 616.7294, Valid Loss: 1006.7423\n",
      "-0.23380587 -0.891978 -565.5967 539.90924\n",
      "Number of correct matches:  41795\n",
      "Validation accuracy: 69.658%\n",
      "Epoch 3/20, Train Loss: 22.0540, Valid Loss: 831.5551\n",
      "-3.477298 -4.2603555 -782.7686 627.87866\n",
      "Number of correct matches:  24070\n",
      "Validation accuracy: 40.117%\n",
      "Epoch 4/20, Train Loss: 153.2375, Valid Loss: 934.4678\n",
      "Epoch 00005: reducing learning rate of group 0 to 1.0000e-03.\n",
      "-0.0059618144 -0.0047617187 -761.0801 1037.1289\n",
      "Number of correct matches:  40019\n",
      "Validation accuracy: 66.698%\n",
      "Epoch 5/20, Train Loss: 22.6615, Valid Loss: 985.2989\n",
      "0.550201 2.204084 -874.84595 1165.1497\n",
      "Number of correct matches:  41580\n",
      "Validation accuracy: 69.300%\n",
      "Epoch 6/20, Train Loss: 0.5836, Valid Loss: 1215.0910\n",
      "0.352611 0.13939844 -805.5699 1045.8403\n",
      "Number of correct matches:  41225\n",
      "Validation accuracy: 68.708%\n",
      "Epoch 7/20, Train Loss: 0.0455, Valid Loss: 1116.7478\n",
      "0.19115758 2.5981505 -769.2716 1010.4638\n",
      "Number of correct matches:  41103\n",
      "Validation accuracy: 68.505%\n",
      "Epoch 8/20, Train Loss: 0.1074, Valid Loss: 1088.4996\n",
      "Epoch 00009: reducing learning rate of group 0 to 1.0000e-04.\n",
      "0.54266804 -3.585543 -776.9452 976.2599\n",
      "Number of correct matches:  41353\n",
      "Validation accuracy: 68.922%\n",
      "Epoch 9/20, Train Loss: 0.0585, Valid Loss: 1150.8030\n",
      "0.37763962 2.8571796 -822.4916 1055.0337\n",
      "Number of correct matches:  41335\n",
      "Validation accuracy: 68.892%\n",
      "Epoch 10/20, Train Loss: 0.0468, Valid Loss: 1154.1323\n",
      "1.1442075 2.8163984 -818.5014 1050.6259\n",
      "Number of correct matches:  41444\n",
      "Validation accuracy: 69.073%\n",
      "Epoch 11/20, Train Loss: 0.0000, Valid Loss: 1276.6948\n",
      "-0.030120641 -1.9925596 -714.6425 881.8254\n",
      "Number of correct matches:  40103\n",
      "Validation accuracy: 66.838%\n",
      "Epoch 12/20, Train Loss: 0.1866, Valid Loss: 979.5863\n",
      "Epoch 00013: reducing learning rate of group 0 to 1.0000e-05.\n",
      "-0.0022752804 1.4718574 -776.3349 976.61163\n",
      "Number of correct matches:  40645\n",
      "Validation accuracy: 67.742%\n",
      "Epoch 13/20, Train Loss: 0.0000, Valid Loss: 1033.7506\n",
      "0.1458371 -2.129129 -731.61285 904.4006\n",
      "Number of correct matches:  40874\n",
      "Validation accuracy: 68.123%\n",
      "Epoch 14/20, Train Loss: 0.0603, Valid Loss: 1028.0816\n",
      "-0.051505454 0.71546286 -804.4634 1030.4554\n",
      "Number of correct matches:  40836\n",
      "Validation accuracy: 68.060%\n",
      "Epoch 15/20, Train Loss: 0.0120, Valid Loss: 1041.8703\n",
      "0.16623686 -1.9025136 -761.352 959.30804\n",
      "Number of correct matches:  40926\n",
      "Validation accuracy: 68.210%\n",
      "Epoch 16/20, Train Loss: 0.0000, Valid Loss: 1041.4410\n",
      "Epoch 00017: reducing learning rate of group 0 to 1.0000e-06.\n",
      "-0.04565795 0.88382226 -766.76587 964.031\n",
      "Number of correct matches:  40647\n",
      "Validation accuracy: 67.745%\n",
      "Epoch 17/20, Train Loss: 0.0195, Valid Loss: 1022.9280\n",
      "0.08969575 1.9412462 -759.54333 947.2688\n",
      "Number of correct matches:  40811\n",
      "Validation accuracy: 68.018%\n",
      "Epoch 18/20, Train Loss: 0.0067, Valid Loss: 1037.6391\n",
      "0.1995747 -2.6737714 -790.4225 999.238\n",
      "Number of correct matches:  41137\n",
      "Validation accuracy: 68.562%\n",
      "Epoch 19/20, Train Loss: 0.0033, Valid Loss: 1084.4734\n",
      "0.24490489 -2.709791 -806.0905 1025.9895\n",
      "Number of correct matches:  41192\n",
      "Validation accuracy: 68.653%\n",
      "Epoch 20/20, Train Loss: 0.0070, Valid Loss: 1103.4643\n"
     ]
    }
   ],
   "source": [
    "train(model, criterion, optimizer, train_dl, eval_dl, n_epochs, f\"models/resnet{RESNET_VERSION}.pt\")"
   ]
  },
  {
   "cell_type": "code",
   "execution_count": 32,
   "metadata": {},
   "outputs": [
    {
     "data": {
      "text/plain": [
       "<matplotlib.legend.Legend at 0x289e1760450>"
      ]
     },
     "execution_count": 32,
     "metadata": {},
     "output_type": "execute_result"
    },
    {
     "data": {
      "image/png": "[encoded data removed]",
      "text/plain": [
       "<Figure size 640x480 with 1 Axes>"
      ]
     },
     "metadata": {},
     "output_type": "display_data"
    }
   ],
   "source": [
    "import matplotlib.pyplot as plt\n",
    "\n",
    "\n",
    "plt.plot(loss_history, label=\"loss\")\n",
    "plt.plot(accuracy_history, label=\"accuracy\") \n",
    "plt.legend()"
   ]
  },
  {
   "cell_type": "code",
   "execution_count": 33,
   "metadata": {},
   "outputs": [
    {
     "data": {
      "image/png": "[encoded data removed]",
      "text/plain": [
       "<Figure size 640x480 with 2 Axes>"
      ]
     },
     "metadata": {},
     "output_type": "display_data"
    }
   ],
   "source": [
    "import matplotlib.pyplot as plt\n",
    "\n",
    "epoch_cutoff = np.argmin(loss_history)\n",
    "epoch_cutoff = 20\n",
    "\n",
    "# Create a figure and primary y-axis\n",
    "fig, ax1 = plt.subplots()\n",
    "\n",
    "# Plot data on the primary y-axis\n",
    "ax1.plot(loss_history[:epoch_cutoff], color='blue', label='Training loss')\n",
    "ax1.set_ylabel('Training loss', color='blue')\n",
    "ax1.set_ylim(0, max(loss_history) + 50)\n",
    "\n",
    "# Create a secondary y-axis\n",
    "ax2 = ax1.twinx()\n",
    "ax2.set_ylim(0, 100)\n",
    "\n",
    "# Plot data on the secondary y-axis\n",
    "ax2.plot(accuracy_history[:epoch_cutoff], color='red', label='Validation accuracy')\n",
    "ax2.set_ylabel('Validation accuracy [%]', color='red')\n",
    "\n",
    "# Add legend\n",
    "ax1.legend(loc='best')\n",
    "ax2.legend(loc='best')\n",
    "ax1.set_xlabel(\"Epoch\")\n",
    "ax1.set_xticks([2 * i for i in range(epoch_cutoff // 2)])\n",
    "# Show plot\n",
    "plt.show()"
   ]
  }
 ],
 "metadata": {
  "kernelspec": {
   "display_name": "torch",
   "language": "python",
   "name": "python3"
  },
  "language_info": {
   "codemirror_mode": {
    "name": "ipython",
    "version": 3
   },
   "file_extension": ".py",
   "mimetype": "text/x-python",
   "name": "python",
   "nbconvert_exporter": "python",
   "pygments_lexer": "ipython3",
   "version": "3.11.5"
  },
  "orig_nbformat": 4
 },
 "nbformat": 4,
 "nbformat_minor": 2
}

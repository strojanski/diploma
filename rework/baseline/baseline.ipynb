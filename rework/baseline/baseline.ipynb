{
 "cells": [
  {
   "cell_type": "code",
   "execution_count": 1,
   "metadata": {},
   "outputs": [],
   "source": [
    "# import matplotlib.pyplot as plt\n",
    "import numpy as np\n",
    "import torch\n",
    "import torchvision.models as models\n",
    "from PIL import Image\n",
    "from sklearn.metrics import accuracy_score, precision_score\n",
    "from torch import nn\n",
    "from torchvision import transforms as T\n",
    "import torchvision.models as models\n",
    "\n",
    "from torch.utils.data import DataLoader"
   ]
  },
  {
   "cell_type": "code",
   "execution_count": 2,
   "metadata": {},
   "outputs": [
    {
     "data": {
      "text/plain": [
       "device(type='cuda')"
      ]
     },
     "execution_count": 2,
     "metadata": {},
     "output_type": "execute_result"
    }
   ],
   "source": [
    "device = torch.device(\"cuda\" if torch.cuda.is_available() else \"cpu\")\n",
    "device"
   ]
  },
  {
   "attachments": {},
   "cell_type": "markdown",
   "metadata": {},
   "source": [
    "### 1. Load dataloaders"
   ]
  },
  {
   "cell_type": "code",
   "execution_count": 3,
   "metadata": {},
   "outputs": [],
   "source": [
    "train_ds = torch.load(\"data/train_dataset_500.pt\")\n",
    "eval_ds = torch.load(\"data/eval_dataset_500.pt\")\n"
   ]
  },
  {
   "cell_type": "code",
   "execution_count": 4,
   "metadata": {},
   "outputs": [
    {
     "data": {
      "text/plain": [
       "(5174, 5174, 2389, 2389)"
      ]
     },
     "execution_count": 4,
     "metadata": {},
     "output_type": "execute_result"
    }
   ],
   "source": [
    "len(train_ds.data), len(train_ds.labels), len(eval_ds.data), len(eval_ds.labels)"
   ]
  },
  {
   "cell_type": "code",
   "execution_count": 5,
   "metadata": {},
   "outputs": [
    {
     "name": "stdout",
     "output_type": "stream",
     "text": [
      "5174\n"
     ]
    }
   ],
   "source": [
    "\n",
    "mapping = {}\n",
    "rev_mapping = {}\n",
    "for i, label in enumerate(set(train_ds.labels)):\n",
    "    mapping[i] = label\n",
    "    rev_mapping[label] = i\n",
    "    \n",
    "train_mapped_labels = [rev_mapping[label] for label in train_ds.labels]\n",
    "eval_mapped_labels = [rev_mapping[label] for label in eval_ds.labels]\n",
    "\n",
    "print(len(train_mapped_labels))\n",
    "\n",
    "train_ds.labels = train_mapped_labels\n",
    "eval_ds.labels = eval_mapped_labels\n",
    "\n",
    "BATCH_SIZE = 32\n",
    "\n",
    "train_dl = DataLoader(train_ds, batch_size=BATCH_SIZE, shuffle=True)\n",
    "eval_dl = DataLoader(eval_ds, batch_size=BATCH_SIZE, shuffle=True)"
   ]
  },
  {
   "cell_type": "code",
   "execution_count": 6,
   "metadata": {},
   "outputs": [
    {
     "data": {
      "text/plain": [
       "False"
      ]
     },
     "execution_count": 6,
     "metadata": {},
     "output_type": "execute_result"
    }
   ],
   "source": [
    "1798 in eval_ds.labels or 1798 in train_ds.labels"
   ]
  },
  {
   "cell_type": "code",
   "execution_count": 7,
   "metadata": {},
   "outputs": [
    {
     "data": {
      "text/plain": [
       "(0, 0, 361, 499)"
      ]
     },
     "execution_count": 7,
     "metadata": {},
     "output_type": "execute_result"
    }
   ],
   "source": [
    "min(mapping.keys()), min(rev_mapping.keys()), max(mapping.keys()), max(rev_mapping.keys())"
   ]
  },
  {
   "cell_type": "code",
   "execution_count": 8,
   "metadata": {},
   "outputs": [
    {
     "data": {
      "text/plain": [
       "(0, 361)"
      ]
     },
     "execution_count": 8,
     "metadata": {},
     "output_type": "execute_result"
    }
   ],
   "source": [
    "min(train_mapped_labels), max(train_mapped_labels)"
   ]
  },
  {
   "cell_type": "code",
   "execution_count": 9,
   "metadata": {},
   "outputs": [
    {
     "data": {
      "text/plain": [
       "False"
      ]
     },
     "execution_count": 9,
     "metadata": {},
     "output_type": "execute_result"
    }
   ],
   "source": [
    "len(train_ds.labels), len(train_ds.data)\n",
    "\n",
    "3616 in eval_ds.labels"
   ]
  },
  {
   "cell_type": "code",
   "execution_count": 10,
   "metadata": {},
   "outputs": [
    {
     "data": {
      "text/plain": [
       "(torch.Size([3, 224, 224]), torch.Size([3, 224, 224]))"
      ]
     },
     "execution_count": 10,
     "metadata": {},
     "output_type": "execute_result"
    }
   ],
   "source": [
    "# Check if shapes are ok\n",
    "en1, en2 = train_ds[0], train_ds[5]\n",
    "\n",
    "en1[0].shape, en2[0].shape"
   ]
  },
  {
   "attachments": {},
   "cell_type": "markdown",
   "metadata": {},
   "source": [
    "#### Set the train loop"
   ]
  },
  {
   "cell_type": "code",
   "execution_count": 20,
   "metadata": {},
   "outputs": [],
   "source": [
    "loss_history = []\n",
    "accuracy_history = []\n",
    "\n",
    "def train(model, criterion, optimizer, train_loader, valid_loader, epochs, save_path=\"models/model\"):\n",
    "    best_val_loss = float('inf')  # Initialize with infinity\n",
    "    \n",
    "    model = model.to(device)\n",
    "    scheduler = torch.optim.lr_scheduler.ReduceLROnPlateau(optimizer, mode='min', factor=0.1, patience=10)    \n",
    "    \n",
    "    for epoch in range(epochs):\n",
    "        # Training loop\n",
    "        model.train()\n",
    "        train_loss = 0.0\n",
    "        val_loss = 0\n",
    "        \n",
    "        for inputs, labels in train_loader:\n",
    "            inputs, labels = inputs.to(device), labels.to(device)\n",
    "            \n",
    "            optimizer.zero_grad()\n",
    "            outputs = model(inputs)\n",
    "            loss = criterion(outputs, labels)\n",
    "            loss.backward()\n",
    "            optimizer.step()\n",
    "            \n",
    "            train_loss += loss.item()\n",
    "            \n",
    "        loss_history.append(loss.item())    \n",
    "        \n",
    "        scheduler.step(val_loss)\n",
    "        \n",
    "        # Validation loop\n",
    "        model.eval()\n",
    "        val_loss = 0\n",
    "        correct = 0\n",
    "        total = 0\n",
    "        with torch.no_grad():\n",
    "            for inputs, labels in valid_loader:\n",
    "                inputs, labels = inputs.to(device), labels.to(device)\n",
    "                \n",
    "                outputs = model(inputs)\n",
    "                loss = criterion(outputs, labels)\n",
    "                val_loss += loss.item()\n",
    "        \n",
    "                # Get accuracy\n",
    "                _, pred = torch.max(outputs.data, 1)\n",
    "                total += labels.size(0)\n",
    "                correct += (pred == labels).sum().item()\n",
    "        \n",
    "        # Average losses\n",
    "        train_loss /= len(train_loader)\n",
    "        val_loss /= len(valid_loader)\n",
    "        \n",
    "        val_acc = 100 * (correct / total)\n",
    "        \n",
    "        accuracy_history.append(val_acc)\n",
    "        \n",
    "        print(f\"Validation accuracy: {val_acc:0.3f}%\")\n",
    "        \n",
    "        print(f'Epoch {epoch+1}/{epochs}, Train Loss: {train_loss:.4f}, Valid Loss: {val_loss:.4f}')\n",
    "        \n",
    "        # Save the model if validation loss is improved\n",
    "        if val_loss < best_val_loss:\n",
    "            best_val_loss = val_loss\n",
    "            torch.save(model.state_dict(), save_path)\n",
    "            print(\"Model saved with validation loss:\", best_val_loss)\n"
   ]
  },
  {
   "attachments": {},
   "cell_type": "markdown",
   "metadata": {},
   "source": [
    "### 2. Get model and set it up"
   ]
  },
  {
   "cell_type": "code",
   "execution_count": 22,
   "metadata": {},
   "outputs": [],
   "source": [
    "# model = models.resnet50(pretrained=True)\n",
    "# model = model.to(device)\n",
    "\n",
    "# n_features = model.fc.in_features\n",
    "# n_classes = train_ds.get_n_classes()\n",
    "\n",
    "# model.fc = nn.Linear(n_features, n_classes)\n",
    "\n",
    "model = torch.load(\"models/resnet50.pt\")\n",
    "model = model.to(device)"
   ]
  },
  {
   "attachments": {},
   "cell_type": "markdown",
   "metadata": {},
   "source": [
    "### 3. Train the model"
   ]
  },
  {
   "cell_type": "code",
   "execution_count": 16,
   "metadata": {},
   "outputs": [],
   "source": [
    "LR = 1e-4\n",
    "\n",
    "n_epochs = 100\n",
    "\n",
    "criterion = nn.CrossEntropyLoss()\n",
    "optimizer = torch.optim.Adam(model.parameters(), lr=LR)"
   ]
  },
  {
   "cell_type": "code",
   "execution_count": 21,
   "metadata": {},
   "outputs": [
    {
     "name": "stdout",
     "output_type": "stream",
     "text": [
      "Validation accuracy: 0.209%\n",
      "Epoch 1/100, Train Loss: 5.6421, Valid Loss: 2048.0052\n",
      "Model saved with validation loss: 2048.0051806640627\n",
      "Validation accuracy: 0.209%\n",
      "Epoch 2/100, Train Loss: 5.5939, Valid Loss: 2286.1398\n",
      "Validation accuracy: 0.209%\n",
      "Epoch 3/100, Train Loss: 5.5401, Valid Loss: 1317.7055\n",
      "Model saved with validation loss: 1317.7054720052083\n",
      "Validation accuracy: 0.209%\n",
      "Epoch 4/100, Train Loss: 5.4877, Valid Loss: 2051.7918\n",
      "Validation accuracy: 0.209%\n",
      "Epoch 5/100, Train Loss: 5.4032, Valid Loss: 2069.4259\n",
      "Validation accuracy: 0.209%\n",
      "Epoch 6/100, Train Loss: 5.2912, Valid Loss: 3161.5064\n",
      "Validation accuracy: 0.209%\n",
      "Epoch 7/100, Train Loss: 5.1425, Valid Loss: 1820.0921\n",
      "Validation accuracy: 0.209%\n",
      "Epoch 8/100, Train Loss: 4.9846, Valid Loss: 5093.0137\n",
      "Validation accuracy: 0.293%\n",
      "Epoch 9/100, Train Loss: 4.8125, Valid Loss: 2381.7238\n",
      "Validation accuracy: 0.209%\n",
      "Epoch 10/100, Train Loss: 4.6464, Valid Loss: 3569.5027\n",
      "Validation accuracy: 0.209%\n",
      "Epoch 11/100, Train Loss: 4.4787, Valid Loss: 3600.2324\n",
      "Validation accuracy: 0.209%\n",
      "Epoch 12/100, Train Loss: 4.2786, Valid Loss: 5478.8881\n",
      "Validation accuracy: 0.209%\n",
      "Epoch 13/100, Train Loss: 3.7974, Valid Loss: 5480.3887\n",
      "Validation accuracy: 0.209%\n",
      "Epoch 14/100, Train Loss: 3.5840, Valid Loss: 6507.4334\n",
      "Validation accuracy: 0.209%\n",
      "Epoch 15/100, Train Loss: 3.4847, Valid Loss: 7969.7093\n",
      "Validation accuracy: 0.209%\n",
      "Epoch 16/100, Train Loss: 3.3750, Valid Loss: 7977.7773\n",
      "Validation accuracy: 0.209%\n",
      "Epoch 17/100, Train Loss: 3.2727, Valid Loss: 8532.5989\n",
      "Validation accuracy: 0.209%\n",
      "Epoch 18/100, Train Loss: 3.1711, Valid Loss: 8733.5983\n",
      "Validation accuracy: 0.209%\n",
      "Epoch 19/100, Train Loss: 3.0755, Valid Loss: 8677.7072\n",
      "Validation accuracy: 0.209%\n",
      "Epoch 20/100, Train Loss: 2.9527, Valid Loss: 9779.8462\n",
      "Validation accuracy: 0.209%\n",
      "Epoch 21/100, Train Loss: 2.8222, Valid Loss: 11132.5970\n",
      "Validation accuracy: 0.209%\n",
      "Epoch 22/100, Train Loss: 2.6763, Valid Loss: 10419.0394\n",
      "Validation accuracy: 0.209%\n",
      "Epoch 23/100, Train Loss: 2.5332, Valid Loss: 9967.9116\n",
      "Validation accuracy: 0.209%\n",
      "Epoch 24/100, Train Loss: 2.2418, Valid Loss: 10683.0696\n",
      "Validation accuracy: 0.209%\n",
      "Epoch 25/100, Train Loss: 2.1929, Valid Loss: 10611.7870\n",
      "Validation accuracy: 0.209%\n",
      "Epoch 26/100, Train Loss: 2.1349, Valid Loss: 10141.3442\n",
      "Validation accuracy: 0.209%\n",
      "Epoch 27/100, Train Loss: 2.1211, Valid Loss: 10476.2901\n",
      "Validation accuracy: 0.209%\n",
      "Epoch 28/100, Train Loss: 2.0966, Valid Loss: 10878.8339\n",
      "Validation accuracy: 0.209%\n",
      "Epoch 29/100, Train Loss: 2.0598, Valid Loss: 11428.6036\n",
      "Validation accuracy: 0.209%\n",
      "Epoch 30/100, Train Loss: 2.0366, Valid Loss: 11011.5812\n",
      "Validation accuracy: 0.209%\n",
      "Epoch 31/100, Train Loss: 1.9874, Valid Loss: 11384.4711\n",
      "Validation accuracy: 0.209%\n",
      "Epoch 32/100, Train Loss: 1.9634, Valid Loss: 11661.3013\n",
      "Validation accuracy: 0.209%\n",
      "Epoch 33/100, Train Loss: 1.9443, Valid Loss: 10474.4998\n",
      "Validation accuracy: 0.209%\n",
      "Epoch 34/100, Train Loss: 1.9351, Valid Loss: 11834.5196\n",
      "Validation accuracy: 0.209%\n",
      "Epoch 35/100, Train Loss: 1.8923, Valid Loss: 11720.5830\n",
      "Validation accuracy: 0.209%\n",
      "Epoch 36/100, Train Loss: 1.8818, Valid Loss: 11962.2085\n",
      "Validation accuracy: 0.209%\n",
      "Epoch 37/100, Train Loss: 1.8790, Valid Loss: 11472.8413\n",
      "Validation accuracy: 0.209%\n",
      "Epoch 38/100, Train Loss: 1.8657, Valid Loss: 11393.7388\n",
      "Validation accuracy: 0.209%\n",
      "Epoch 39/100, Train Loss: 1.8607, Valid Loss: 11519.9363\n",
      "Validation accuracy: 0.209%\n",
      "Epoch 40/100, Train Loss: 1.8743, Valid Loss: 11756.7936\n",
      "Validation accuracy: 0.209%\n",
      "Epoch 41/100, Train Loss: 1.8600, Valid Loss: 11107.1704\n",
      "Validation accuracy: 0.209%\n",
      "Epoch 42/100, Train Loss: 1.8787, Valid Loss: 11517.0782\n",
      "Validation accuracy: 0.209%\n",
      "Epoch 43/100, Train Loss: 1.8684, Valid Loss: 11229.9639\n",
      "Validation accuracy: 0.209%\n",
      "Epoch 44/100, Train Loss: 1.8461, Valid Loss: 11597.2467\n",
      "Validation accuracy: 0.209%\n",
      "Epoch 45/100, Train Loss: 1.8429, Valid Loss: 11589.1109\n",
      "Validation accuracy: 0.209%\n",
      "Epoch 46/100, Train Loss: 1.8698, Valid Loss: 11628.8083\n",
      "Validation accuracy: 0.209%\n",
      "Epoch 47/100, Train Loss: 1.8553, Valid Loss: 11440.6686\n",
      "Validation accuracy: 0.209%\n",
      "Epoch 48/100, Train Loss: 1.8558, Valid Loss: 11257.9410\n",
      "Validation accuracy: 0.209%\n",
      "Epoch 49/100, Train Loss: 1.8610, Valid Loss: 11723.6563\n",
      "Validation accuracy: 0.209%\n",
      "Epoch 50/100, Train Loss: 1.8513, Valid Loss: 11720.1928\n",
      "Validation accuracy: 0.209%\n",
      "Epoch 51/100, Train Loss: 1.8504, Valid Loss: 11144.6089\n",
      "Validation accuracy: 0.209%\n",
      "Epoch 52/100, Train Loss: 1.8595, Valid Loss: 11234.8927\n",
      "Validation accuracy: 0.209%\n",
      "Epoch 53/100, Train Loss: 1.8494, Valid Loss: 11156.7430\n",
      "Validation accuracy: 0.209%\n",
      "Epoch 54/100, Train Loss: 1.8600, Valid Loss: 11263.2478\n",
      "Validation accuracy: 0.209%\n",
      "Epoch 55/100, Train Loss: 1.8415, Valid Loss: 11791.7479\n",
      "Validation accuracy: 0.209%\n",
      "Epoch 56/100, Train Loss: 1.8615, Valid Loss: 11934.3468\n",
      "Validation accuracy: 0.209%\n",
      "Epoch 57/100, Train Loss: 1.8411, Valid Loss: 11911.8893\n",
      "Validation accuracy: 0.209%\n",
      "Epoch 58/100, Train Loss: 1.8424, Valid Loss: 11173.2007\n",
      "Validation accuracy: 0.209%\n",
      "Epoch 59/100, Train Loss: 1.8444, Valid Loss: 11164.2434\n"
     ]
    },
    {
     "ename": "KeyboardInterrupt",
     "evalue": "",
     "output_type": "error",
     "traceback": [
      "\u001b[0;31m---------------------------------------------------------------------------\u001b[0m",
      "\u001b[0;31mKeyboardInterrupt\u001b[0m                         Traceback (most recent call last)",
      "Cell \u001b[0;32mIn[21], line 1\u001b[0m\n\u001b[0;32m----> 1\u001b[0m train(model, criterion, optimizer, train_dl, eval_dl, n_epochs, \u001b[39m\"\u001b[39m\u001b[39mmodels/resnet50.pt\u001b[39m\u001b[39m\"\u001b[39m)\n",
      "Cell \u001b[0;32mIn[20], line 25\u001b[0m, in \u001b[0;36mtrain\u001b[0;34m(model, criterion, optimizer, train_loader, valid_loader, epochs, save_path)\u001b[0m\n\u001b[1;32m     22\u001b[0m     loss\u001b[39m.\u001b[39mbackward()\n\u001b[1;32m     23\u001b[0m     optimizer\u001b[39m.\u001b[39mstep()\n\u001b[0;32m---> 25\u001b[0m     train_loss \u001b[39m+\u001b[39m\u001b[39m=\u001b[39m loss\u001b[39m.\u001b[39mitem()\n\u001b[1;32m     27\u001b[0m loss_history\u001b[39m.\u001b[39mappend(loss\u001b[39m.\u001b[39mitem())    \n\u001b[1;32m     29\u001b[0m scheduler\u001b[39m.\u001b[39mstep(val_loss)\n",
      "\u001b[0;31mKeyboardInterrupt\u001b[0m: "
     ]
    }
   ],
   "source": [
    "train(model, criterion, optimizer, train_dl, eval_dl, n_epochs, \"models/resnet50.pt\")"
   ]
  }
 ],
 "metadata": {
  "kernelspec": {
   "display_name": "torch",
   "language": "python",
   "name": "python3"
  },
  "language_info": {
   "codemirror_mode": {
    "name": "ipython",
    "version": 3
   },
   "file_extension": ".py",
   "mimetype": "text/x-python",
   "name": "python",
   "nbconvert_exporter": "python",
   "pygments_lexer": "ipython3",
   "version": "3.12.2"
  }
 },
 "nbformat": 4,
 "nbformat_minor": 2
}

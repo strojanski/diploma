{
 "cells": [
  {
   "cell_type": "code",
   "execution_count": 21,
   "metadata": {},
   "outputs": [],
   "source": [
    "# import matplotlib.pyplot as plt\n",
    "import numpy as np\n",
    "import torch\n",
    "import torchvision.models as models\n",
    "from PIL import Image\n",
    "from sklearn.metrics import accuracy_score, precision_score\n",
    "from torch import nn\n",
    "from torchvision import transforms as T\n",
    "import torchvision.models as models\n",
    "\n",
    "from torch.utils.data import DataLoader"
   ]
  },
  {
   "cell_type": "code",
   "execution_count": 22,
   "metadata": {},
   "outputs": [
    {
     "data": {
      "text/plain": [
       "device(type='cuda')"
      ]
     },
     "execution_count": 22,
     "metadata": {},
     "output_type": "execute_result"
    }
   ],
   "source": [
    "device = torch.device(\"cuda\" if torch.cuda.is_available() else \"cpu\")\n",
    "device"
   ]
  },
  {
   "attachments": {},
   "cell_type": "markdown",
   "metadata": {},
   "source": [
    "### 1. Load dataloaders"
   ]
  },
  {
   "cell_type": "code",
   "execution_count": 23,
   "metadata": {},
   "outputs": [],
   "source": [
    "train_ds = torch.load(\"data/train_dataset.pt\")\n",
    "eval_ds = torch.load(\"data/eval_dataset.pt\")"
   ]
  },
  {
   "cell_type": "code",
   "execution_count": 24,
   "metadata": {},
   "outputs": [
    {
     "data": {
      "text/plain": [
       "(120809, 120809, 52270, 52270)"
      ]
     },
     "execution_count": 24,
     "metadata": {},
     "output_type": "execute_result"
    }
   ],
   "source": [
    "len(train_ds.data), len(train_ds.labels), len(eval_ds.data), len(eval_ds.labels)"
   ]
  },
  {
   "cell_type": "code",
   "execution_count": 25,
   "metadata": {},
   "outputs": [
    {
     "name": "stdout",
     "output_type": "stream",
     "text": [
      "120809\n"
     ]
    }
   ],
   "source": [
    "\n",
    "mapping = {}\n",
    "rev_mapping = {}\n",
    "for i, label in enumerate(set(train_ds.labels)):\n",
    "    mapping[i] = label\n",
    "    rev_mapping[label] = i\n",
    "    \n",
    "train_mapped_labels = [rev_mapping[label] for label in train_ds.labels]\n",
    "eval_mapped_labels = [rev_mapping[label] for label in eval_ds.labels]\n",
    "\n",
    "print(len(train_mapped_labels))\n",
    "\n",
    "train_ds.labels = train_mapped_labels\n",
    "eval_ds.labels = eval_mapped_labels\n",
    "\n",
    "BATCH_SIZE = 8\n",
    "\n",
    "train_dl = DataLoader(train_ds, batch_size=BATCH_SIZE, shuffle=True)\n",
    "eval_dl = DataLoader(eval_ds, batch_size=BATCH_SIZE, shuffle=True)"
   ]
  },
  {
   "cell_type": "code",
   "execution_count": 26,
   "metadata": {},
   "outputs": [
    {
     "data": {
      "text/plain": [
       "(0, 0, 909, 1309)"
      ]
     },
     "execution_count": 26,
     "metadata": {},
     "output_type": "execute_result"
    }
   ],
   "source": [
    "min(mapping.keys()), min(rev_mapping.keys()), max(mapping.keys()), max(rev_mapping.keys())"
   ]
  },
  {
   "cell_type": "code",
   "execution_count": 27,
   "metadata": {},
   "outputs": [
    {
     "data": {
      "text/plain": [
       "(120809, 120809)"
      ]
     },
     "execution_count": 27,
     "metadata": {},
     "output_type": "execute_result"
    }
   ],
   "source": [
    "len(train_ds.labels), len(train_ds.data)"
   ]
  },
  {
   "cell_type": "code",
   "execution_count": 28,
   "metadata": {},
   "outputs": [
    {
     "data": {
      "text/plain": [
       "(torch.Size([3, 64, 64]), torch.Size([3, 64, 64]))"
      ]
     },
     "execution_count": 28,
     "metadata": {},
     "output_type": "execute_result"
    }
   ],
   "source": [
    "# Check if shapes are ok\n",
    "en1, en2 = train_ds[0], train_ds[5]\n",
    "\n",
    "en1[0].shape, en2[0].shape"
   ]
  },
  {
   "attachments": {},
   "cell_type": "markdown",
   "metadata": {},
   "source": [
    "#### Set the train loop"
   ]
  },
  {
   "cell_type": "code",
   "execution_count": 29,
   "metadata": {},
   "outputs": [],
   "source": [
    "loss_history = []\n",
    "accuracy_history = []\n",
    "\n",
    "def train(model, criterion, optimizer, train_loader, valid_loader, epochs, save_path=\"models/model\"):\n",
    "    best_val_loss = float('inf')  # Initialize with infinity\n",
    "    \n",
    "    model = model.to(device)\n",
    "    scheduler = torch.optim.lr_scheduler.ReduceLROnPlateau(optimizer, mode='min', factor=0.1, patience=5)    \n",
    "    \n",
    "    for epoch in range(epochs):\n",
    "        # Training loop\n",
    "        model.train()\n",
    "        train_loss = 0.0\n",
    "        val_loss = 0\n",
    "        \n",
    "        for inputs, labels in train_loader:\n",
    "            inputs, labels = inputs.to(device), labels.to(device)\n",
    "            \n",
    "            optimizer.zero_grad()\n",
    "            outputs = model(inputs)\n",
    "            loss = criterion(outputs, labels)\n",
    "            loss.backward()\n",
    "            optimizer.step()\n",
    "            \n",
    "            train_loss += loss.item()\n",
    "            \n",
    "        loss_history.append(loss.item())    \n",
    "        \n",
    "        scheduler.step(val_loss)\n",
    "        \n",
    "        # Inspect the learning rate changes\n",
    "        for param_group in optimizer.param_groups:\n",
    "            print(f\"Learning rate: {param_group['lr']}\")\n",
    "        \n",
    "        # Validation loop\n",
    "        model.eval()\n",
    "        val_loss = 0\n",
    "        correct = 0\n",
    "        total = 0\n",
    "        with torch.no_grad():\n",
    "            for inputs, labels in valid_loader:\n",
    "                inputs, labels = inputs.to(device), labels.to(device)\n",
    "                \n",
    "                outputs = model(inputs)\n",
    "                loss = criterion(outputs, labels)\n",
    "                val_loss += loss.item()\n",
    "        \n",
    "                # Get accuracy\n",
    "                _, pred = torch.max(outputs.data, 1)\n",
    "                total += labels.size(0)\n",
    "                correct += (pred == labels).sum().item()\n",
    "        \n",
    "        # Average losses\n",
    "        train_loss /= len(train_loader)\n",
    "        val_loss /= len(valid_loader)\n",
    "        \n",
    "        val_acc = 100 * (correct / total)\n",
    "        \n",
    "        accuracy_history.append(val_acc)\n",
    "        \n",
    "        print(f\"Validation accuracy: {val_acc:0.3f}%\")\n",
    "        \n",
    "        print(f'Epoch {epoch+1}/{epochs}, Train Loss: {train_loss:.4f}, Valid Loss: {val_loss:.4f}')\n",
    "        \n",
    "        # Save the model if validation loss is improved\n",
    "        if val_loss < best_val_loss:\n",
    "            best_val_loss = val_loss\n",
    "            torch.save(model.state_dict(), f\"{save_path}_{epoch+1}\")\n",
    "            print(\"Model saved with validation loss:\", best_val_loss)\n"
   ]
  },
  {
   "attachments": {},
   "cell_type": "markdown",
   "metadata": {},
   "source": [
    "### 2. Get model and set it up"
   ]
  },
  {
   "cell_type": "code",
   "execution_count": 30,
   "metadata": {},
   "outputs": [
    {
     "name": "stderr",
     "output_type": "stream",
     "text": [
      "c:\\Users\\sebas\\miniconda3\\envs\\trust-me\\Lib\\site-packages\\torchvision\\models\\_utils.py:208: UserWarning: The parameter 'pretrained' is deprecated since 0.13 and may be removed in the future, please use 'weights' instead.\n",
      "  warnings.warn(\n",
      "c:\\Users\\sebas\\miniconda3\\envs\\trust-me\\Lib\\site-packages\\torchvision\\models\\_utils.py:223: UserWarning: Arguments other than a weight enum or `None` for 'weights' are deprecated since 0.13 and may be removed in the future. The current behavior is equivalent to passing `weights=ResNet50_Weights.IMAGENET1K_V1`. You can also use `weights=ResNet50_Weights.DEFAULT` to get the most up-to-date weights.\n",
      "  warnings.warn(msg)\n"
     ]
    }
   ],
   "source": [
    "import os\n",
    "\n",
    "model = models.resnet50(pretrained=True)\n",
    "model = model.to(device)\n",
    "\n",
    "n_features = model.fc.in_features\n",
    "n_classes = train_ds.get_n_classes()\n",
    "\n",
    "model.fc = nn.Linear(n_features, n_classes)\n",
    "\n",
    "if os.path.exists(\"models/resnet50.pt\"):\n",
    "    model.load_state_dict(torch.load(\"models/resnet50.pt\"))\n",
    "\n",
    "model = model.to(device)"
   ]
  },
  {
   "attachments": {},
   "cell_type": "markdown",
   "metadata": {},
   "source": [
    "### 3. Train the model"
   ]
  },
  {
   "cell_type": "code",
   "execution_count": 31,
   "metadata": {},
   "outputs": [],
   "source": [
    "LR = 1e-4\n",
    "\n",
    "n_epochs = 20\n",
    "\n",
    "criterion = nn.CrossEntropyLoss()\n",
    "optimizer = torch.optim.Adam(model.parameters(), lr=LR)"
   ]
  },
  {
   "cell_type": "code",
   "execution_count": 32,
   "metadata": {},
   "outputs": [
    {
     "name": "stdout",
     "output_type": "stream",
     "text": [
      "Learning rate: 0.0001\n",
      "Validation accuracy: 78.447%\n",
      "Epoch 1/20, Train Loss: 0.3337, Valid Loss: 1.3726\n",
      "Model saved with validation loss: 1.3726332339279461\n",
      "Learning rate: 0.0001\n",
      "Validation accuracy: 80.356%\n",
      "Epoch 2/20, Train Loss: 0.3132, Valid Loss: 1.2197\n",
      "Model saved with validation loss: 1.2197469316138427\n",
      "Learning rate: 0.0001\n",
      "Validation accuracy: 80.218%\n",
      "Epoch 3/20, Train Loss: 0.2740, Valid Loss: 1.2451\n",
      "Learning rate: 0.0001\n",
      "Validation accuracy: 81.236%\n",
      "Epoch 4/20, Train Loss: 0.2377, Valid Loss: 1.1879\n",
      "Model saved with validation loss: 1.1878979153999873\n",
      "Learning rate: 0.0001\n",
      "Validation accuracy: 80.515%\n",
      "Epoch 5/20, Train Loss: 0.2113, Valid Loss: 1.2291\n",
      "Learning rate: 0.0001\n",
      "Validation accuracy: 80.771%\n",
      "Epoch 6/20, Train Loss: 0.1875, Valid Loss: 1.1682\n",
      "Model saved with validation loss: 1.1682027566566084\n",
      "Learning rate: 1e-05\n",
      "Validation accuracy: 81.795%\n",
      "Epoch 7/20, Train Loss: 0.1725, Valid Loss: 1.1489\n",
      "Model saved with validation loss: 1.1488653904561392\n",
      "Learning rate: 1e-05\n",
      "Validation accuracy: 85.437%\n",
      "Epoch 8/20, Train Loss: 0.0445, Valid Loss: 0.9916\n",
      "Model saved with validation loss: 0.9916072466052824\n",
      "Learning rate: 1e-05\n",
      "Validation accuracy: 86.040%\n",
      "Epoch 9/20, Train Loss: 0.0164, Valid Loss: 0.9527\n",
      "Model saved with validation loss: 0.9526500235361348\n",
      "Learning rate: 1e-05\n",
      "Validation accuracy: 86.338%\n",
      "Epoch 10/20, Train Loss: 0.0114, Valid Loss: 0.9538\n",
      "Learning rate: 1e-05\n",
      "Validation accuracy: 86.497%\n",
      "Epoch 11/20, Train Loss: 0.0089, Valid Loss: 0.9858\n",
      "Learning rate: 1e-05\n",
      "Validation accuracy: 86.449%\n",
      "Epoch 12/20, Train Loss: 0.0070, Valid Loss: 1.0160\n",
      "Learning rate: 1.0000000000000002e-06\n",
      "Validation accuracy: 86.426%\n",
      "Epoch 13/20, Train Loss: 0.0062, Valid Loss: 0.9773\n",
      "Learning rate: 1.0000000000000002e-06\n",
      "Validation accuracy: 86.805%\n",
      "Epoch 14/20, Train Loss: 0.0052, Valid Loss: 0.9505\n",
      "Model saved with validation loss: 0.9505243228290134\n",
      "Learning rate: 1.0000000000000002e-06\n",
      "Validation accuracy: 87.071%\n",
      "Epoch 15/20, Train Loss: 0.0042, Valid Loss: 0.9542\n",
      "Learning rate: 1.0000000000000002e-06\n",
      "Validation accuracy: 86.945%\n",
      "Epoch 16/20, Train Loss: 0.0038, Valid Loss: 0.9524\n",
      "Learning rate: 1.0000000000000002e-06\n",
      "Validation accuracy: 86.941%\n",
      "Epoch 17/20, Train Loss: 0.0040, Valid Loss: 0.9560\n",
      "Learning rate: 1.0000000000000002e-06\n",
      "Validation accuracy: 87.042%\n",
      "Epoch 18/20, Train Loss: 0.0039, Valid Loss: 0.9575\n"
     ]
    }
   ],
   "source": [
    "train(model, criterion, optimizer, train_dl, eval_dl, n_epochs, \"models/resnet50.pt\")"
   ]
  },
  {
   "cell_type": "code",
   "execution_count": null,
   "metadata": {},
   "outputs": [
    {
     "data": {
      "image/png": "[encoded data removed]",
      "text/plain": [
       "<Figure size 640x480 with 2 Axes>"
      ]
     },
     "metadata": {},
     "output_type": "display_data"
    }
   ],
   "source": [
    "import matplotlib.pyplot as plt\n",
    "\n",
    "epoch_cutoff = 20\n",
    "\n",
    "# Create a figure and primary y-axis\n",
    "fig, ax1 = plt.subplots()\n",
    "\n",
    "# Plot data on the primary y-axis\n",
    "ax1.plot(loss_history[:epoch_cutoff], color='blue', label='Training loss')\n",
    "ax1.set_ylabel('Training loss', color='blue')\n",
    "\n",
    "# Create a secondary y-axis\n",
    "ax2 = ax1.twinx()\n",
    "\n",
    "# Plot data on the secondary y-axis\n",
    "ax2.plot(accuracy_history[:epoch_cutoff], color='red', label='Validation accuracy')\n",
    "ax2.set_ylabel('Validation accuracy [%]', color='red')\n",
    "\n",
    "# Add legend\n",
    "ax1.legend(loc='best')\n",
    "ax2.legend(loc='best')\n",
    "ax1.set_xlabel(\"Epoch\")\n",
    "# Show plot\n",
    "plt.show()"
   ]
  },
  {
   "cell_type": "code",
   "execution_count": null,
   "metadata": {},
   "outputs": [],
   "source": []
  }
 ],
 "metadata": {
  "kernelspec": {
   "display_name": "torch",
   "language": "python",
   "name": "python3"
  },
  "language_info": {
   "codemirror_mode": {
    "name": "ipython",
    "version": 3
   },
   "file_extension": ".py",
   "mimetype": "text/x-python",
   "name": "python",
   "nbconvert_exporter": "python",
   "pygments_lexer": "ipython3",
   "version": "3.11.5"
  }
 },
 "nbformat": 4,
 "nbformat_minor": 2
}

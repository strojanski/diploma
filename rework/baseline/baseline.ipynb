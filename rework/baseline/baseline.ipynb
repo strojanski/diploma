{
 "cells": [
  {
   "cell_type": "code",
   "execution_count": 1,
   "metadata": {},
   "outputs": [],
   "source": [
    "# import matplotlib.pyplot as plt\n",
    "import numpy as np\n",
    "import torch\n",
    "import torchvision.models as models\n",
    "from PIL import Image\n",
    "from sklearn.metrics import accuracy_score, precision_score\n",
    "from torch import nn\n",
    "from torchvision import transforms as T\n",
    "import torchvision.models as models\n",
    "\n",
    "from torch.utils.data import DataLoader"
   ]
  },
  {
   "cell_type": "code",
   "execution_count": 2,
   "metadata": {},
   "outputs": [
    {
     "data": {
      "text/plain": [
       "device(type='cuda')"
      ]
     },
     "execution_count": 2,
     "metadata": {},
     "output_type": "execute_result"
    }
   ],
   "source": [
    "device = torch.device(\"cuda\" if torch.cuda.is_available() else \"cpu\")\n",
    "device"
   ]
  },
  {
   "attachments": {},
   "cell_type": "markdown",
   "metadata": {},
   "source": [
    "### 1. Load dataloaders"
   ]
  },
  {
   "cell_type": "code",
   "execution_count": 3,
   "metadata": {},
   "outputs": [],
   "source": [
    "train_ds = torch.load(\"data/train_dataset_500.pt\")\n",
    "eval_ds = torch.load(\"data/eval_dataset_500.pt\")\n"
   ]
  },
  {
   "cell_type": "code",
   "execution_count": 4,
   "metadata": {},
   "outputs": [
    {
     "data": {
      "text/plain": [
       "(5174, 5174, 2389, 2389)"
      ]
     },
     "execution_count": 4,
     "metadata": {},
     "output_type": "execute_result"
    }
   ],
   "source": [
    "len(train_ds.data), len(train_ds.labels), len(eval_ds.data), len(eval_ds.labels)"
   ]
  },
  {
   "cell_type": "code",
   "execution_count": 5,
   "metadata": {},
   "outputs": [
    {
     "name": "stdout",
     "output_type": "stream",
     "text": [
      "5174\n"
     ]
    }
   ],
   "source": [
    "\n",
    "mapping = {}\n",
    "rev_mapping = {}\n",
    "for i, label in enumerate(set(train_ds.labels)):\n",
    "    mapping[i] = label\n",
    "    rev_mapping[label] = i\n",
    "    \n",
    "train_mapped_labels = [rev_mapping[label] for label in train_ds.labels]\n",
    "eval_mapped_labels = [rev_mapping[label] for label in eval_ds.labels]\n",
    "\n",
    "print(len(train_mapped_labels))\n",
    "\n",
    "train_ds.labels = train_mapped_labels\n",
    "eval_ds.labels = eval_mapped_labels\n",
    "\n",
    "BATCH_SIZE = 32\n",
    "\n",
    "train_dl = DataLoader(train_ds, batch_size=BATCH_SIZE, shuffle=True)\n",
    "eval_dl = DataLoader(eval_ds, batch_size=BATCH_SIZE, shuffle=True)"
   ]
  },
  {
   "cell_type": "code",
   "execution_count": 6,
   "metadata": {},
   "outputs": [
    {
     "data": {
      "text/plain": [
       "False"
      ]
     },
     "execution_count": 6,
     "metadata": {},
     "output_type": "execute_result"
    }
   ],
   "source": [
    "1798 in eval_ds.labels or 1798 in train_ds.labels"
   ]
  },
  {
   "cell_type": "code",
   "execution_count": 7,
   "metadata": {},
   "outputs": [
    {
     "data": {
      "text/plain": [
       "(0, 0, 361, 499)"
      ]
     },
     "execution_count": 7,
     "metadata": {},
     "output_type": "execute_result"
    }
   ],
   "source": [
    "min(mapping.keys()), min(rev_mapping.keys()), max(mapping.keys()), max(rev_mapping.keys())"
   ]
  },
  {
   "cell_type": "code",
   "execution_count": 8,
   "metadata": {},
   "outputs": [
    {
     "data": {
      "text/plain": [
       "(0, 361)"
      ]
     },
     "execution_count": 8,
     "metadata": {},
     "output_type": "execute_result"
    }
   ],
   "source": [
    "min(train_mapped_labels), max(train_mapped_labels)"
   ]
  },
  {
   "cell_type": "code",
   "execution_count": 9,
   "metadata": {},
   "outputs": [
    {
     "data": {
      "text/plain": [
       "False"
      ]
     },
     "execution_count": 9,
     "metadata": {},
     "output_type": "execute_result"
    }
   ],
   "source": [
    "len(train_ds.labels), len(train_ds.data)\n",
    "\n",
    "3616 in eval_ds.labels"
   ]
  },
  {
   "cell_type": "code",
   "execution_count": 10,
   "metadata": {},
   "outputs": [
    {
     "data": {
      "text/plain": [
       "(torch.Size([3, 224, 224]), torch.Size([3, 224, 224]))"
      ]
     },
     "execution_count": 10,
     "metadata": {},
     "output_type": "execute_result"
    }
   ],
   "source": [
    "# Check if shapes are ok\n",
    "en1, en2 = train_ds[0], train_ds[5]\n",
    "\n",
    "en1[0].shape, en2[0].shape"
   ]
  },
  {
   "attachments": {},
   "cell_type": "markdown",
   "metadata": {},
   "source": [
    "#### Set the train loop"
   ]
  },
  {
   "cell_type": "code",
   "execution_count": 11,
   "metadata": {},
   "outputs": [],
   "source": [
    "loss_history = []\n",
    "accuracy_history = []\n",
    "\n",
    "def train(model, criterion, optimizer, train_loader, valid_loader, epochs, save_path=\"models/model\"):\n",
    "    best_val_loss = float('inf')  # Initialize with infinity\n",
    "    \n",
    "    model = model.to(device)\n",
    "    scheduler = torch.optim.lr_scheduler.ReduceLROnPlateau(optimizer, mode='min', factor=0.1, patience=10)    \n",
    "    \n",
    "    for epoch in range(epochs):\n",
    "        # Training loop\n",
    "        model.train()\n",
    "        train_loss = 0.0\n",
    "        val_loss = 0\n",
    "        \n",
    "        for inputs, labels in train_loader:\n",
    "            inputs, labels = inputs.to(device), labels.to(device)\n",
    "            \n",
    "            optimizer.zero_grad()\n",
    "            outputs = model(inputs)\n",
    "            loss = criterion(outputs, labels)\n",
    "            loss.backward()\n",
    "            optimizer.step()\n",
    "            \n",
    "            train_loss += loss.item()\n",
    "            \n",
    "        loss_history.append(loss.item())    \n",
    "        \n",
    "        scheduler.step(val_loss)\n",
    "        \n",
    "        # Validation loop\n",
    "        model.eval()\n",
    "        val_loss = 0\n",
    "        correct = 0\n",
    "        total = 0\n",
    "        with torch.no_grad():\n",
    "            for inputs, labels in valid_loader:\n",
    "                inputs, labels = inputs.to(device), labels.to(device)\n",
    "                \n",
    "                outputs = model(inputs)\n",
    "                loss = criterion(outputs, labels)\n",
    "                val_loss += loss.item()\n",
    "        \n",
    "                # Get accuracy\n",
    "                _, pred = torch.max(outputs.data, 1)\n",
    "                total += labels.size(0)\n",
    "                correct += (pred == labels).sum().item()\n",
    "        \n",
    "        # Average losses\n",
    "        train_loss /= len(train_loader)\n",
    "        val_loss /= len(valid_loader)\n",
    "        \n",
    "        val_acc = 100 * (correct / total)\n",
    "        \n",
    "        accuracy_history.append(val_acc)\n",
    "        \n",
    "        print(f\"Validation accuracy: {val_acc:0.3f}%\")\n",
    "        \n",
    "        print(f'Epoch {epoch+1}/{epochs}, Train Loss: {train_loss:.4f}, Valid Loss: {val_loss:.4f}')\n",
    "        \n",
    "        # Save the model if validation loss is improved\n",
    "        if val_loss < best_val_loss:\n",
    "            best_val_loss = val_loss\n",
    "            torch.save(model.state_dict(), save_path)\n",
    "            print(\"Model saved with validation loss:\", best_val_loss)\n"
   ]
  },
  {
   "attachments": {},
   "cell_type": "markdown",
   "metadata": {},
   "source": [
    "### 2. Get model and set it up"
   ]
  },
  {
   "cell_type": "code",
   "execution_count": 14,
   "metadata": {},
   "outputs": [
    {
     "name": "stderr",
     "output_type": "stream",
     "text": [
      "/home/sebastijan/anaconda3/envs/torch/lib/python3.12/site-packages/torchvision/models/_utils.py:208: UserWarning: The parameter 'pretrained' is deprecated since 0.13 and may be removed in the future, please use 'weights' instead.\n",
      "  warnings.warn(\n",
      "/home/sebastijan/anaconda3/envs/torch/lib/python3.12/site-packages/torchvision/models/_utils.py:223: UserWarning: Arguments other than a weight enum or `None` for 'weights' are deprecated since 0.13 and may be removed in the future. The current behavior is equivalent to passing `weights=ResNet50_Weights.IMAGENET1K_V1`. You can also use `weights=ResNet50_Weights.DEFAULT` to get the most up-to-date weights.\n",
      "  warnings.warn(msg)\n"
     ]
    }
   ],
   "source": [
    "model = models.resnet50(pretrained=True)\n",
    "model = model.to(device)\n",
    "\n",
    "n_features = model.fc.in_features\n",
    "n_classes = train_ds.get_n_classes()\n",
    "\n",
    "model.fc = nn.Linear(n_features, n_classes)\n",
    "\n",
    "model.load_state_dict(torch.load(\"models/resnet50.pt\"))\n",
    "model = model.to(device)"
   ]
  },
  {
   "attachments": {},
   "cell_type": "markdown",
   "metadata": {},
   "source": [
    "### 3. Train the model"
   ]
  },
  {
   "cell_type": "code",
   "execution_count": 15,
   "metadata": {},
   "outputs": [],
   "source": [
    "LR = 1e-4\n",
    "\n",
    "n_epochs = 100\n",
    "\n",
    "criterion = nn.CrossEntropyLoss()\n",
    "optimizer = torch.optim.Adam(model.parameters(), lr=LR)"
   ]
  },
  {
   "cell_type": "code",
   "execution_count": 16,
   "metadata": {},
   "outputs": [
    {
     "name": "stdout",
     "output_type": "stream",
     "text": [
      "Validation accuracy: 0.209%\n",
      "Epoch 1/100, Train Loss: 5.4247, Valid Loss: 2569.7811\n",
      "Model saved with validation loss: 2569.781070963542\n",
      "Validation accuracy: 0.209%\n",
      "Epoch 2/100, Train Loss: 5.3550, Valid Loss: 2967.2617\n",
      "Validation accuracy: 0.209%\n",
      "Epoch 3/100, Train Loss: 5.3017, Valid Loss: 2793.6509\n",
      "Validation accuracy: 0.209%\n",
      "Epoch 4/100, Train Loss: 5.2091, Valid Loss: 2699.4736\n",
      "Validation accuracy: 0.209%\n",
      "Epoch 5/100, Train Loss: 5.0838, Valid Loss: 3479.7358\n",
      "Validation accuracy: 0.209%\n",
      "Epoch 6/100, Train Loss: 4.9507, Valid Loss: 3568.9396\n",
      "Validation accuracy: 0.209%\n",
      "Epoch 7/100, Train Loss: 4.7980, Valid Loss: 4993.7843\n",
      "Validation accuracy: 0.209%\n",
      "Epoch 8/100, Train Loss: 4.6544, Valid Loss: 5300.3483\n",
      "Validation accuracy: 0.209%\n",
      "Epoch 9/100, Train Loss: 4.4783, Valid Loss: 5606.4995\n",
      "Validation accuracy: 0.209%\n",
      "Epoch 10/100, Train Loss: 4.2804, Valid Loss: 7156.7676\n",
      "Validation accuracy: 0.209%\n",
      "Epoch 11/100, Train Loss: 4.0701, Valid Loss: 8608.4331\n",
      "Validation accuracy: 0.209%\n",
      "Epoch 12/100, Train Loss: 3.8248, Valid Loss: 7179.5052\n",
      "Validation accuracy: 0.209%\n",
      "Epoch 13/100, Train Loss: 3.3624, Valid Loss: 8098.2759\n",
      "Validation accuracy: 0.209%\n",
      "Epoch 14/100, Train Loss: 3.1860, Valid Loss: 8706.1367\n",
      "Validation accuracy: 0.209%\n",
      "Epoch 15/100, Train Loss: 3.1046, Valid Loss: 9146.9932\n",
      "Validation accuracy: 0.209%\n",
      "Epoch 16/100, Train Loss: 3.0374, Valid Loss: 8633.4632\n",
      "Validation accuracy: 0.209%\n",
      "Epoch 17/100, Train Loss: 2.9714, Valid Loss: 9088.5210\n",
      "Validation accuracy: 0.209%\n",
      "Epoch 18/100, Train Loss: 2.8939, Valid Loss: 9451.7123\n",
      "Validation accuracy: 0.209%\n",
      "Epoch 19/100, Train Loss: 2.8207, Valid Loss: 8756.2021\n",
      "Validation accuracy: 0.209%\n",
      "Epoch 20/100, Train Loss: 2.7535, Valid Loss: 8329.8781\n",
      "Validation accuracy: 0.209%\n",
      "Epoch 21/100, Train Loss: 2.7073, Valid Loss: 9011.6474\n",
      "Validation accuracy: 0.209%\n",
      "Epoch 22/100, Train Loss: 2.6186, Valid Loss: 8884.7622\n",
      "Validation accuracy: 0.209%\n",
      "Epoch 23/100, Train Loss: 2.5599, Valid Loss: 9128.0033\n",
      "Validation accuracy: 0.209%\n",
      "Epoch 24/100, Train Loss: 2.4785, Valid Loss: 8838.0746\n",
      "Validation accuracy: 0.209%\n",
      "Epoch 25/100, Train Loss: 2.4558, Valid Loss: 9454.7048\n",
      "Validation accuracy: 0.209%\n",
      "Epoch 26/100, Train Loss: 2.4503, Valid Loss: 9218.3483\n",
      "Validation accuracy: 0.209%\n",
      "Epoch 27/100, Train Loss: 2.4454, Valid Loss: 9420.3301\n",
      "Validation accuracy: 0.209%\n",
      "Epoch 28/100, Train Loss: 2.4363, Valid Loss: 9312.9188\n",
      "Validation accuracy: 0.209%\n",
      "Epoch 29/100, Train Loss: 2.4337, Valid Loss: 9266.7282\n",
      "Validation accuracy: 0.209%\n",
      "Epoch 30/100, Train Loss: 2.4344, Valid Loss: 9050.9228\n",
      "Validation accuracy: 0.209%\n",
      "Epoch 31/100, Train Loss: 2.4348, Valid Loss: 9234.8784\n",
      "Validation accuracy: 0.209%\n",
      "Epoch 32/100, Train Loss: 2.4236, Valid Loss: 9122.0928\n",
      "Validation accuracy: 0.209%\n",
      "Epoch 33/100, Train Loss: 2.4227, Valid Loss: 9229.7232\n",
      "Validation accuracy: 0.209%\n",
      "Epoch 34/100, Train Loss: 2.4006, Valid Loss: 9455.3898\n",
      "Validation accuracy: 0.209%\n",
      "Epoch 35/100, Train Loss: 2.4017, Valid Loss: 9340.6840\n",
      "Validation accuracy: 0.209%\n",
      "Epoch 36/100, Train Loss: 2.3978, Valid Loss: 9057.2177\n",
      "Validation accuracy: 0.209%\n",
      "Epoch 37/100, Train Loss: 2.3893, Valid Loss: 8922.4403\n",
      "Validation accuracy: 0.209%\n",
      "Epoch 38/100, Train Loss: 2.4150, Valid Loss: 9361.7136\n",
      "Validation accuracy: 0.209%\n",
      "Epoch 39/100, Train Loss: 2.3881, Valid Loss: 9359.3048\n",
      "Validation accuracy: 0.209%\n",
      "Epoch 40/100, Train Loss: 2.4007, Valid Loss: 9062.4318\n",
      "Validation accuracy: 0.209%\n",
      "Epoch 41/100, Train Loss: 2.3882, Valid Loss: 9539.0151\n",
      "Validation accuracy: 0.209%\n",
      "Epoch 42/100, Train Loss: 2.3969, Valid Loss: 9365.5755\n",
      "Validation accuracy: 0.209%\n",
      "Epoch 43/100, Train Loss: 2.4108, Valid Loss: 9426.5293\n",
      "Validation accuracy: 0.209%\n",
      "Epoch 44/100, Train Loss: 2.3814, Valid Loss: 9210.0635\n",
      "Validation accuracy: 0.209%\n",
      "Epoch 45/100, Train Loss: 2.4127, Valid Loss: 9256.9954\n",
      "Validation accuracy: 0.209%\n",
      "Epoch 46/100, Train Loss: 2.3800, Valid Loss: 9194.3916\n",
      "Validation accuracy: 0.209%\n",
      "Epoch 47/100, Train Loss: 2.3982, Valid Loss: 9513.4336\n",
      "Validation accuracy: 0.209%\n",
      "Epoch 48/100, Train Loss: 2.3856, Valid Loss: 9386.1721\n",
      "Validation accuracy: 0.209%\n",
      "Epoch 49/100, Train Loss: 2.3877, Valid Loss: 8943.9848\n",
      "Validation accuracy: 0.209%\n",
      "Epoch 50/100, Train Loss: 2.4025, Valid Loss: 9183.3935\n",
      "Validation accuracy: 0.209%\n",
      "Epoch 51/100, Train Loss: 2.3790, Valid Loss: 9242.4592\n",
      "Validation accuracy: 0.209%\n",
      "Epoch 52/100, Train Loss: 2.3886, Valid Loss: 9341.6513\n",
      "Validation accuracy: 0.209%\n",
      "Epoch 53/100, Train Loss: 2.4072, Valid Loss: 9142.5640\n",
      "Validation accuracy: 0.209%\n",
      "Epoch 54/100, Train Loss: 2.4052, Valid Loss: 9557.6994\n",
      "Validation accuracy: 0.209%\n",
      "Epoch 55/100, Train Loss: 2.3938, Valid Loss: 9323.0563\n",
      "Validation accuracy: 0.209%\n",
      "Epoch 56/100, Train Loss: 2.3942, Valid Loss: 9197.3706\n",
      "Validation accuracy: 0.209%\n",
      "Epoch 57/100, Train Loss: 2.3910, Valid Loss: 9452.3753\n",
      "Validation accuracy: 0.209%\n",
      "Epoch 58/100, Train Loss: 2.3964, Valid Loss: 9410.8548\n",
      "Validation accuracy: 0.209%\n",
      "Epoch 59/100, Train Loss: 2.4030, Valid Loss: 9056.2442\n",
      "Validation accuracy: 0.209%\n",
      "Epoch 60/100, Train Loss: 2.3877, Valid Loss: 9247.6345\n",
      "Validation accuracy: 0.209%\n",
      "Epoch 61/100, Train Loss: 2.3999, Valid Loss: 9400.4487\n",
      "Validation accuracy: 0.209%\n",
      "Epoch 62/100, Train Loss: 2.4181, Valid Loss: 9166.6531\n",
      "Validation accuracy: 0.209%\n",
      "Epoch 63/100, Train Loss: 2.4048, Valid Loss: 9602.4040\n",
      "Validation accuracy: 0.209%\n",
      "Epoch 64/100, Train Loss: 2.3856, Valid Loss: 9341.4774\n",
      "Validation accuracy: 0.209%\n",
      "Epoch 65/100, Train Loss: 2.3870, Valid Loss: 9350.0236\n",
      "Validation accuracy: 0.209%\n",
      "Epoch 66/100, Train Loss: 2.3915, Valid Loss: 9328.9565\n",
      "Validation accuracy: 0.209%\n",
      "Epoch 67/100, Train Loss: 2.3960, Valid Loss: 9450.2070\n",
      "Validation accuracy: 0.209%\n",
      "Epoch 68/100, Train Loss: 2.3987, Valid Loss: 9023.0188\n",
      "Validation accuracy: 0.209%\n",
      "Epoch 69/100, Train Loss: 2.3884, Valid Loss: 9109.8124\n",
      "Validation accuracy: 0.209%\n",
      "Epoch 70/100, Train Loss: 2.3975, Valid Loss: 9441.5192\n",
      "Validation accuracy: 0.209%\n",
      "Epoch 71/100, Train Loss: 2.3852, Valid Loss: 8879.3049\n",
      "Validation accuracy: 0.209%\n",
      "Epoch 72/100, Train Loss: 2.3835, Valid Loss: 9060.8954\n",
      "Validation accuracy: 0.209%\n",
      "Epoch 73/100, Train Loss: 2.3953, Valid Loss: 9715.5210\n",
      "Validation accuracy: 0.209%\n",
      "Epoch 74/100, Train Loss: 2.3958, Valid Loss: 9250.9918\n",
      "Validation accuracy: 0.209%\n",
      "Epoch 75/100, Train Loss: 2.3928, Valid Loss: 9128.1273\n",
      "Validation accuracy: 0.209%\n",
      "Epoch 76/100, Train Loss: 2.3956, Valid Loss: 8909.7793\n",
      "Validation accuracy: 0.209%\n",
      "Epoch 77/100, Train Loss: 2.4063, Valid Loss: 9468.4037\n",
      "Validation accuracy: 0.209%\n",
      "Epoch 78/100, Train Loss: 2.4050, Valid Loss: 9448.2737\n",
      "Validation accuracy: 0.209%\n",
      "Epoch 79/100, Train Loss: 2.3981, Valid Loss: 8819.6443\n",
      "Validation accuracy: 0.209%\n",
      "Epoch 80/100, Train Loss: 2.4055, Valid Loss: 9217.8089\n",
      "Validation accuracy: 0.209%\n",
      "Epoch 81/100, Train Loss: 2.3992, Valid Loss: 9212.1101\n",
      "Validation accuracy: 0.209%\n",
      "Epoch 82/100, Train Loss: 2.3934, Valid Loss: 9550.6847\n",
      "Validation accuracy: 0.209%\n",
      "Epoch 83/100, Train Loss: 2.4061, Valid Loss: 9421.0702\n",
      "Validation accuracy: 0.209%\n",
      "Epoch 84/100, Train Loss: 2.3966, Valid Loss: 9544.0578\n",
      "Validation accuracy: 0.209%\n",
      "Epoch 85/100, Train Loss: 2.4043, Valid Loss: 9539.6484\n",
      "Validation accuracy: 0.209%\n",
      "Epoch 86/100, Train Loss: 2.3918, Valid Loss: 9354.8587\n",
      "Validation accuracy: 0.209%\n",
      "Epoch 87/100, Train Loss: 2.3811, Valid Loss: 9419.3156\n",
      "Validation accuracy: 0.209%\n",
      "Epoch 88/100, Train Loss: 2.3855, Valid Loss: 9422.8127\n",
      "Validation accuracy: 0.209%\n",
      "Epoch 89/100, Train Loss: 2.3783, Valid Loss: 9251.4405\n",
      "Validation accuracy: 0.209%\n",
      "Epoch 90/100, Train Loss: 2.3761, Valid Loss: 9083.4992\n",
      "Validation accuracy: 0.209%\n",
      "Epoch 91/100, Train Loss: 2.3969, Valid Loss: 9229.5382\n",
      "Validation accuracy: 0.209%\n",
      "Epoch 92/100, Train Loss: 2.4058, Valid Loss: 9308.6969\n",
      "Validation accuracy: 0.209%\n",
      "Epoch 93/100, Train Loss: 2.3826, Valid Loss: 9016.4569\n",
      "Validation accuracy: 0.209%\n",
      "Epoch 94/100, Train Loss: 2.3977, Valid Loss: 9341.8069\n"
     ]
    },
    {
     "ename": "KeyboardInterrupt",
     "evalue": "",
     "output_type": "error",
     "traceback": [
      "\u001b[0;31m---------------------------------------------------------------------------\u001b[0m",
      "\u001b[0;31mKeyboardInterrupt\u001b[0m                         Traceback (most recent call last)",
      "Cell \u001b[0;32mIn[16], line 1\u001b[0m\n\u001b[0;32m----> 1\u001b[0m train(model, criterion, optimizer, train_dl, eval_dl, n_epochs, \u001b[39m\"\u001b[39m\u001b[39mmodels/resnet50.pt\u001b[39m\u001b[39m\"\u001b[39m)\n",
      "Cell \u001b[0;32mIn[11], line 25\u001b[0m, in \u001b[0;36mtrain\u001b[0;34m(model, criterion, optimizer, train_loader, valid_loader, epochs, save_path)\u001b[0m\n\u001b[1;32m     22\u001b[0m     loss\u001b[39m.\u001b[39mbackward()\n\u001b[1;32m     23\u001b[0m     optimizer\u001b[39m.\u001b[39mstep()\n\u001b[0;32m---> 25\u001b[0m     train_loss \u001b[39m+\u001b[39m\u001b[39m=\u001b[39m loss\u001b[39m.\u001b[39mitem()\n\u001b[1;32m     27\u001b[0m loss_history\u001b[39m.\u001b[39mappend(loss\u001b[39m.\u001b[39mitem())    \n\u001b[1;32m     29\u001b[0m scheduler\u001b[39m.\u001b[39mstep(val_loss)\n",
      "\u001b[0;31mKeyboardInterrupt\u001b[0m: "
     ]
    }
   ],
   "source": [
    "train(model, criterion, optimizer, train_dl, eval_dl, n_epochs, \"models/resnet50.pt\")"
   ]
  }
 ],
 "metadata": {
  "kernelspec": {
   "display_name": "torch",
   "language": "python",
   "name": "python3"
  },
  "language_info": {
   "codemirror_mode": {
    "name": "ipython",
    "version": 3
   },
   "file_extension": ".py",
   "mimetype": "text/x-python",
   "name": "python",
   "nbconvert_exporter": "python",
   "pygments_lexer": "ipython3",
   "version": "3.12.2"
  }
 },
 "nbformat": 4,
 "nbformat_minor": 2
}

{
 "cells": [
  {
   "cell_type": "code",
   "execution_count": 49,
   "metadata": {},
   "outputs": [],
   "source": [
    "# import matplotlib.pyplot as plt\n",
    "import numpy as np\n",
    "import torch\n",
    "import torchvision.models as models\n",
    "from PIL import Image\n",
    "from sklearn.metrics import accuracy_score, precision_score\n",
    "from torch import nn\n",
    "from torchvision import transforms as T\n",
    "import torchvision.models as models\n",
    "\n",
    "from torch.utils.data import DataLoader"
   ]
  },
  {
   "cell_type": "code",
   "execution_count": 50,
   "metadata": {},
   "outputs": [
    {
     "data": {
      "text/plain": [
       "device(type='cuda')"
      ]
     },
     "execution_count": 50,
     "metadata": {},
     "output_type": "execute_result"
    }
   ],
   "source": [
    "device = torch.device(\"cuda\" if torch.cuda.is_available() else \"cpu\")\n",
    "device"
   ]
  },
  {
   "attachments": {},
   "cell_type": "markdown",
   "metadata": {},
   "source": [
    "### 1. Load dataloaders"
   ]
  },
  {
   "cell_type": "code",
   "execution_count": 51,
   "metadata": {},
   "outputs": [],
   "source": [
    "train_ds = torch.load(\"data/train_dataset.pt\")\n",
    "eval_ds = torch.load(\"data/eval_dataset.pt\")"
   ]
  },
  {
   "cell_type": "code",
   "execution_count": 52,
   "metadata": {},
   "outputs": [],
   "source": [
    "def get_majority_clf(ds):\n",
    "    \"\"\"Returns accuracy of the majority classifier\"\"\"\n",
    "    # Get the labels from the dataset\n",
    "    labels = ds.labels\n",
    "\n",
    "    # Calculate the majority class label and its count\n",
    "    majority_class = np.argmax(np.bincount(labels))\n",
    "    majority_class_count = np.sum(labels == majority_class)\n",
    "\n",
    "    # Calculate the accuracy of the majority classifier\n",
    "    accuracy = majority_class_count / len(labels)\n",
    "\n",
    "    return majority_class, accuracy"
   ]
  },
  {
   "cell_type": "code",
   "execution_count": 53,
   "metadata": {},
   "outputs": [
    {
     "name": "stdout",
     "output_type": "stream",
     "text": [
      "(1028, 0.0037114979911995406)\n",
      "910\n"
     ]
    }
   ],
   "source": [
    "print(get_majority_clf(eval_ds))\n",
    "print(len(set(train_ds.labels)))"
   ]
  },
  {
   "cell_type": "code",
   "execution_count": 54,
   "metadata": {},
   "outputs": [
    {
     "data": {
      "text/plain": [
       "(120809, 120809, 52270, 52270)"
      ]
     },
     "execution_count": 54,
     "metadata": {},
     "output_type": "execute_result"
    }
   ],
   "source": [
    "len(train_ds.data), len(train_ds.labels), len(eval_ds.data), len(eval_ds.labels)"
   ]
  },
  {
   "cell_type": "code",
   "execution_count": 67,
   "metadata": {},
   "outputs": [
    {
     "name": "stdout",
     "output_type": "stream",
     "text": [
      "120809\n"
     ]
    }
   ],
   "source": [
    "mapping = {}\n",
    "rev_mapping = {}\n",
    "for i, label in enumerate(set(train_ds.labels)):\n",
    "    mapping[i] = label\n",
    "    rev_mapping[label] = i\n",
    "\n",
    "train_mapped_labels = [rev_mapping[label] for label in train_ds.labels]\n",
    "eval_mapped_labels = [rev_mapping[label] for label in eval_ds.labels]\n",
    "\n",
    "print(len(train_mapped_labels))\n",
    "\n",
    "train_ds.labels = train_mapped_labels\n",
    "eval_ds.labels = eval_mapped_labels\n",
    "\n",
    "BATCH_SIZE = 128\n",
    "\n",
    "train_dl = DataLoader(train_ds, batch_size=BATCH_SIZE, shuffle=True)\n",
    "eval_dl = DataLoader(eval_ds, batch_size=BATCH_SIZE, shuffle=True)"
   ]
  },
  {
   "cell_type": "code",
   "execution_count": 68,
   "metadata": {},
   "outputs": [
    {
     "data": {
      "text/plain": [
       "(0, 0, 909, 909)"
      ]
     },
     "execution_count": 68,
     "metadata": {},
     "output_type": "execute_result"
    }
   ],
   "source": [
    "min(mapping.keys()), min(rev_mapping.keys()), max(mapping.keys()), max(\n",
    "    rev_mapping.keys()\n",
    ")"
   ]
  },
  {
   "cell_type": "code",
   "execution_count": 69,
   "metadata": {},
   "outputs": [
    {
     "data": {
      "text/plain": [
       "(120809, 120809)"
      ]
     },
     "execution_count": 69,
     "metadata": {},
     "output_type": "execute_result"
    }
   ],
   "source": [
    "len(train_ds.labels), len(train_ds.data)"
   ]
  },
  {
   "cell_type": "code",
   "execution_count": 70,
   "metadata": {},
   "outputs": [
    {
     "data": {
      "text/plain": [
       "(torch.Size([3, 64, 64]), torch.Size([3, 64, 64]))"
      ]
     },
     "execution_count": 70,
     "metadata": {},
     "output_type": "execute_result"
    }
   ],
   "source": [
    "# Check if shapes are ok\n",
    "en1, en2 = train_ds[0], train_ds[5]\n",
    "\n",
    "en1[0].shape, en2[0].shape"
   ]
  },
  {
   "attachments": {},
   "cell_type": "markdown",
   "metadata": {},
   "source": [
    "#### Set the train loop"
   ]
  },
  {
   "cell_type": "code",
   "execution_count": 71,
   "metadata": {},
   "outputs": [],
   "source": [
    "loss_history = []\n",
    "accuracy_history = []\n",
    "\n",
    "\n",
    "def train(\n",
    "    model,\n",
    "    criterion,\n",
    "    optimizer,\n",
    "    train_loader,\n",
    "    valid_loader,\n",
    "    epochs,\n",
    "    save_path=\"models/model\",\n",
    "):\n",
    "    best_val_loss = float(\"inf\")  # Initialize with infinity\n",
    "\n",
    "    model = model.to(device)\n",
    "    scheduler = torch.optim.lr_scheduler.ReduceLROnPlateau(\n",
    "        optimizer, mode=\"min\", factor=0.1, patience=30, min_lr=1e-5, cooldown=10\n",
    "    )\n",
    "\n",
    "    for epoch in range(epochs):\n",
    "        # Training loop\n",
    "        model.train()\n",
    "        train_loss = 0.0\n",
    "        val_loss = 0\n",
    "\n",
    "        for inputs, labels in train_loader:\n",
    "            inputs, labels = inputs.to(device), labels.to(device)\n",
    "\n",
    "            optimizer.zero_grad()\n",
    "            outputs = model(inputs)\n",
    "            loss = criterion(outputs, labels)\n",
    "            loss.backward()\n",
    "            optimizer.step()\n",
    "\n",
    "            train_loss += loss.item()\n",
    "\n",
    "        loss_history.append(loss.item())\n",
    "\n",
    "        scheduler.step(val_loss)\n",
    "\n",
    "        # Inspect the learning rate changes\n",
    "        for param_group in optimizer.param_groups:\n",
    "            print(f\"Learning rate: {param_group['lr']}\")\n",
    "\n",
    "        # Validation loop\n",
    "        model.eval()\n",
    "        val_loss = 0\n",
    "        correct = 0\n",
    "        total = 0\n",
    "        with torch.no_grad():\n",
    "            for inputs, labels in valid_loader:\n",
    "                inputs, labels = inputs.to(device), labels.to(device)\n",
    "\n",
    "                outputs = model(inputs)\n",
    "                loss = criterion(outputs, labels)\n",
    "                val_loss += loss.item()\n",
    "\n",
    "                # Get accuracy\n",
    "                _, pred = torch.max(outputs.data, 1)\n",
    "                total += labels.size(0)\n",
    "                correct += (pred == labels).sum().item()\n",
    "\n",
    "        # Average losses\n",
    "        train_loss /= len(train_loader)\n",
    "        val_loss /= len(valid_loader)\n",
    "\n",
    "        val_acc = 100 * (correct / total)\n",
    "\n",
    "        accuracy_history.append(val_acc)\n",
    "\n",
    "        print(f\"Validation accuracy: {val_acc:0.3f}%\")\n",
    "\n",
    "        print(\n",
    "            f\"Epoch {epoch+1}/{epochs}, Train Loss: {train_loss:.4f}, Valid Loss: {val_loss:.4f}\"\n",
    "        )\n",
    "\n",
    "        # Save the model if validation loss is improved\n",
    "        if val_loss < best_val_loss:\n",
    "            best_val_loss = val_loss\n",
    "            torch.save(model.state_dict(), f\"{save_path}_{epoch+1}_\")\n",
    "            print(\"Model saved with validation loss:\", best_val_loss)"
   ]
  },
  {
   "attachments": {},
   "cell_type": "markdown",
   "metadata": {},
   "source": [
    "### 2. Get model and set it up"
   ]
  },
  {
   "cell_type": "code",
   "execution_count": null,
   "metadata": {},
   "outputs": [],
   "source": []
  },
  {
   "cell_type": "code",
   "execution_count": 72,
   "metadata": {},
   "outputs": [
    {
     "name": "stdout",
     "output_type": "stream",
     "text": [
      "SqueezeNet(\n",
      "  (features): Sequential(\n",
      "    (0): Conv2d(3, 64, kernel_size=(3, 3), stride=(2, 2))\n",
      "    (1): ReLU(inplace=True)\n",
      "    (2): MaxPool2d(kernel_size=3, stride=2, padding=0, dilation=1, ceil_mode=True)\n",
      "    (3): Fire(\n",
      "      (squeeze): Conv2d(64, 16, kernel_size=(1, 1), stride=(1, 1))\n",
      "      (squeeze_activation): ReLU(inplace=True)\n",
      "      (expand1x1): Conv2d(16, 64, kernel_size=(1, 1), stride=(1, 1))\n",
      "      (expand1x1_activation): ReLU(inplace=True)\n",
      "      (expand3x3): Conv2d(16, 64, kernel_size=(3, 3), stride=(1, 1), padding=(1, 1))\n",
      "      (expand3x3_activation): ReLU(inplace=True)\n",
      "    )\n",
      "    (4): Fire(\n",
      "      (squeeze): Conv2d(128, 16, kernel_size=(1, 1), stride=(1, 1))\n",
      "      (squeeze_activation): ReLU(inplace=True)\n",
      "      (expand1x1): Conv2d(16, 64, kernel_size=(1, 1), stride=(1, 1))\n",
      "      (expand1x1_activation): ReLU(inplace=True)\n",
      "      (expand3x3): Conv2d(16, 64, kernel_size=(3, 3), stride=(1, 1), padding=(1, 1))\n",
      "      (expand3x3_activation): ReLU(inplace=True)\n",
      "    )\n",
      "    (5): MaxPool2d(kernel_size=3, stride=2, padding=0, dilation=1, ceil_mode=True)\n",
      "    (6): Fire(\n",
      "      (squeeze): Conv2d(128, 32, kernel_size=(1, 1), stride=(1, 1))\n",
      "      (squeeze_activation): ReLU(inplace=True)\n",
      "      (expand1x1): Conv2d(32, 128, kernel_size=(1, 1), stride=(1, 1))\n",
      "      (expand1x1_activation): ReLU(inplace=True)\n",
      "      (expand3x3): Conv2d(32, 128, kernel_size=(3, 3), stride=(1, 1), padding=(1, 1))\n",
      "      (expand3x3_activation): ReLU(inplace=True)\n",
      "    )\n",
      "    (7): Fire(\n",
      "      (squeeze): Conv2d(256, 32, kernel_size=(1, 1), stride=(1, 1))\n",
      "      (squeeze_activation): ReLU(inplace=True)\n",
      "      (expand1x1): Conv2d(32, 128, kernel_size=(1, 1), stride=(1, 1))\n",
      "      (expand1x1_activation): ReLU(inplace=True)\n",
      "      (expand3x3): Conv2d(32, 128, kernel_size=(3, 3), stride=(1, 1), padding=(1, 1))\n",
      "      (expand3x3_activation): ReLU(inplace=True)\n",
      "    )\n",
      "    (8): MaxPool2d(kernel_size=3, stride=2, padding=0, dilation=1, ceil_mode=True)\n",
      "    (9): Fire(\n",
      "      (squeeze): Conv2d(256, 48, kernel_size=(1, 1), stride=(1, 1))\n",
      "      (squeeze_activation): ReLU(inplace=True)\n",
      "      (expand1x1): Conv2d(48, 192, kernel_size=(1, 1), stride=(1, 1))\n",
      "      (expand1x1_activation): ReLU(inplace=True)\n",
      "      (expand3x3): Conv2d(48, 192, kernel_size=(3, 3), stride=(1, 1), padding=(1, 1))\n",
      "      (expand3x3_activation): ReLU(inplace=True)\n",
      "    )\n",
      "    (10): Fire(\n",
      "      (squeeze): Conv2d(384, 48, kernel_size=(1, 1), stride=(1, 1))\n",
      "      (squeeze_activation): ReLU(inplace=True)\n",
      "      (expand1x1): Conv2d(48, 192, kernel_size=(1, 1), stride=(1, 1))\n",
      "      (expand1x1_activation): ReLU(inplace=True)\n",
      "      (expand3x3): Conv2d(48, 192, kernel_size=(3, 3), stride=(1, 1), padding=(1, 1))\n",
      "      (expand3x3_activation): ReLU(inplace=True)\n",
      "    )\n",
      "    (11): Fire(\n",
      "      (squeeze): Conv2d(384, 64, kernel_size=(1, 1), stride=(1, 1))\n",
      "      (squeeze_activation): ReLU(inplace=True)\n",
      "      (expand1x1): Conv2d(64, 256, kernel_size=(1, 1), stride=(1, 1))\n",
      "      (expand1x1_activation): ReLU(inplace=True)\n",
      "      (expand3x3): Conv2d(64, 256, kernel_size=(3, 3), stride=(1, 1), padding=(1, 1))\n",
      "      (expand3x3_activation): ReLU(inplace=True)\n",
      "    )\n",
      "    (12): Fire(\n",
      "      (squeeze): Conv2d(512, 64, kernel_size=(1, 1), stride=(1, 1))\n",
      "      (squeeze_activation): ReLU(inplace=True)\n",
      "      (expand1x1): Conv2d(64, 256, kernel_size=(1, 1), stride=(1, 1))\n",
      "      (expand1x1_activation): ReLU(inplace=True)\n",
      "      (expand3x3): Conv2d(64, 256, kernel_size=(3, 3), stride=(1, 1), padding=(1, 1))\n",
      "      (expand3x3_activation): ReLU(inplace=True)\n",
      "    )\n",
      "  )\n",
      "  (classifier): Sequential(\n",
      "    (0): Dropout(p=0.5, inplace=False)\n",
      "    (1): Conv2d(512, 1000, kernel_size=(1, 1), stride=(1, 1))\n",
      "    (2): ReLU(inplace=True)\n",
      "    (3): AdaptiveAvgPool2d(output_size=(1, 1))\n",
      "  )\n",
      ")\n"
     ]
    }
   ],
   "source": [
    "import os\n",
    "\n",
    "model = models.resnet50(pretrained=True)\n",
    "model = model.to(device)\n",
    "model = models.squeezenet1_1(pretrained=True)\n",
    "print(model)\n",
    "n_classes = len(set(train_ds.labels))\n",
    "\n",
    "model.classifier[1] = torch.nn.Conv2d(512, n_classes, kernel_size=(1, 1))\n",
    "model.num_classes = n_classes\n",
    "# model.classifier = nn.Linear(512, n_classes)\n",
    "\n",
    "if os.path.exists(\"models/sqnet.pt\"):\n",
    "    model.load_state_dict(torch.load(\"models/sqnet.pt\"))\n",
    "\n",
    "model = model.to(device)"
   ]
  },
  {
   "attachments": {},
   "cell_type": "markdown",
   "metadata": {},
   "source": [
    "### 3. Train the model"
   ]
  },
  {
   "cell_type": "code",
   "execution_count": 73,
   "metadata": {},
   "outputs": [],
   "source": [
    "LR = 1e-3\n",
    "\n",
    "n_epochs = 50\n",
    "\n",
    "criterion = nn.CrossEntropyLoss()\n",
    "optimizer = torch.optim.Adam(model.parameters(), lr=LR)"
   ]
  },
  {
   "cell_type": "code",
   "execution_count": 74,
   "metadata": {},
   "outputs": [
    {
     "name": "stdout",
     "output_type": "stream",
     "text": [
      "Learning rate: 0.001\n",
      "Validation accuracy: 40.561%\n",
      "Epoch 1/50, Train Loss: 2.5542, Valid Loss: 3.0050\n",
      "Model saved with validation loss: 3.0049954480821754\n",
      "Learning rate: 0.001\n",
      "Validation accuracy: 43.245%\n",
      "Epoch 2/50, Train Loss: 2.5522, Valid Loss: 2.8236\n",
      "Model saved with validation loss: 2.8236426391928005\n",
      "Learning rate: 0.001\n",
      "Validation accuracy: 42.296%\n",
      "Epoch 3/50, Train Loss: 2.5258, Valid Loss: 2.8917\n",
      "Learning rate: 0.001\n",
      "Validation accuracy: 42.162%\n",
      "Epoch 4/50, Train Loss: 2.4955, Valid Loss: 2.9204\n",
      "Learning rate: 0.001\n",
      "Validation accuracy: 44.207%\n",
      "Epoch 5/50, Train Loss: 2.4656, Valid Loss: 2.8039\n",
      "Model saved with validation loss: 2.8038882807006464\n",
      "Learning rate: 0.001\n",
      "Validation accuracy: 43.928%\n",
      "Epoch 6/50, Train Loss: 2.4195, Valid Loss: 2.7975\n",
      "Model saved with validation loss: 2.797534925139038\n",
      "Learning rate: 0.001\n",
      "Validation accuracy: 42.298%\n",
      "Epoch 7/50, Train Loss: 2.3978, Valid Loss: 2.8697\n",
      "Learning rate: 0.001\n",
      "Validation accuracy: 45.209%\n",
      "Epoch 8/50, Train Loss: 2.3649, Valid Loss: 2.7397\n",
      "Model saved with validation loss: 2.7397437713548434\n",
      "Learning rate: 0.001\n",
      "Validation accuracy: 45.912%\n",
      "Epoch 9/50, Train Loss: 2.3324, Valid Loss: 2.7110\n",
      "Model saved with validation loss: 2.7110426111151362\n",
      "Learning rate: 0.001\n",
      "Validation accuracy: 46.855%\n",
      "Epoch 10/50, Train Loss: 2.3012, Valid Loss: 2.6632\n",
      "Model saved with validation loss: 2.6632391427140365\n",
      "Learning rate: 0.001\n",
      "Validation accuracy: 45.439%\n",
      "Epoch 11/50, Train Loss: 2.2865, Valid Loss: 2.7995\n",
      "Learning rate: 0.001\n",
      "Validation accuracy: 46.836%\n",
      "Epoch 12/50, Train Loss: 2.2610, Valid Loss: 2.6985\n",
      "Learning rate: 0.001\n",
      "Validation accuracy: 46.382%\n",
      "Epoch 13/50, Train Loss: 2.2233, Valid Loss: 2.6997\n",
      "Learning rate: 0.001\n",
      "Validation accuracy: 46.658%\n",
      "Epoch 14/50, Train Loss: 2.2175, Valid Loss: 2.6872\n",
      "Learning rate: 0.001\n",
      "Validation accuracy: 47.997%\n",
      "Epoch 15/50, Train Loss: 2.1917, Valid Loss: 2.6482\n",
      "Model saved with validation loss: 2.6482373814128137\n",
      "Learning rate: 0.001\n",
      "Validation accuracy: 46.333%\n",
      "Epoch 16/50, Train Loss: 2.1747, Valid Loss: 2.7049\n",
      "Learning rate: 0.001\n",
      "Validation accuracy: 48.293%\n",
      "Epoch 17/50, Train Loss: 2.1549, Valid Loss: 2.6317\n",
      "Model saved with validation loss: 2.631699620365805\n",
      "Learning rate: 0.001\n",
      "Validation accuracy: 47.392%\n",
      "Epoch 18/50, Train Loss: 2.1388, Valid Loss: 2.6849\n",
      "Learning rate: 0.001\n",
      "Validation accuracy: 49.229%\n",
      "Epoch 19/50, Train Loss: 2.1056, Valid Loss: 2.5684\n",
      "Model saved with validation loss: 2.568379178023863\n",
      "Learning rate: 0.001\n",
      "Validation accuracy: 48.295%\n",
      "Epoch 20/50, Train Loss: 2.1044, Valid Loss: 2.6753\n",
      "Learning rate: 0.001\n",
      "Validation accuracy: 48.515%\n",
      "Epoch 21/50, Train Loss: 2.0786, Valid Loss: 2.6170\n",
      "Learning rate: 0.001\n",
      "Validation accuracy: 48.242%\n",
      "Epoch 22/50, Train Loss: 2.0652, Valid Loss: 2.6402\n",
      "Learning rate: 0.001\n",
      "Validation accuracy: 47.911%\n",
      "Epoch 23/50, Train Loss: 2.0598, Valid Loss: 2.6615\n",
      "Learning rate: 0.001\n",
      "Validation accuracy: 49.219%\n",
      "Epoch 24/50, Train Loss: 2.0435, Valid Loss: 2.5864\n",
      "Learning rate: 0.001\n",
      "Validation accuracy: 48.699%\n",
      "Epoch 25/50, Train Loss: 2.0230, Valid Loss: 2.5884\n",
      "Learning rate: 0.001\n",
      "Validation accuracy: 48.670%\n",
      "Epoch 26/50, Train Loss: 2.0090, Valid Loss: 2.6597\n",
      "Learning rate: 0.001\n",
      "Validation accuracy: 50.325%\n",
      "Epoch 27/50, Train Loss: 2.0005, Valid Loss: 2.5726\n",
      "Learning rate: 0.001\n",
      "Validation accuracy: 49.746%\n",
      "Epoch 28/50, Train Loss: 1.9982, Valid Loss: 2.5771\n",
      "Learning rate: 0.001\n",
      "Validation accuracy: 49.384%\n",
      "Epoch 29/50, Train Loss: 1.9703, Valid Loss: 2.6351\n",
      "Learning rate: 0.001\n",
      "Validation accuracy: 50.593%\n",
      "Epoch 30/50, Train Loss: 1.9675, Valid Loss: 2.5126\n",
      "Model saved with validation loss: 2.512576429943001\n",
      "Learning rate: 0.001\n",
      "Validation accuracy: 48.668%\n",
      "Epoch 31/50, Train Loss: 1.9690, Valid Loss: 2.6528\n"
     ]
    },
    {
     "ename": "KeyboardInterrupt",
     "evalue": "",
     "output_type": "error",
     "traceback": [
      "\u001b[1;31m---------------------------------------------------------------------------\u001b[0m",
      "\u001b[1;31mKeyboardInterrupt\u001b[0m                         Traceback (most recent call last)",
      "Cell \u001b[1;32mIn[74], line 1\u001b[0m\n\u001b[1;32m----> 1\u001b[0m \u001b[43mtrain\u001b[49m\u001b[43m(\u001b[49m\u001b[43mmodel\u001b[49m\u001b[43m,\u001b[49m\u001b[43m \u001b[49m\u001b[43mcriterion\u001b[49m\u001b[43m,\u001b[49m\u001b[43m \u001b[49m\u001b[43moptimizer\u001b[49m\u001b[43m,\u001b[49m\u001b[43m \u001b[49m\u001b[43mtrain_dl\u001b[49m\u001b[43m,\u001b[49m\u001b[43m \u001b[49m\u001b[43meval_dl\u001b[49m\u001b[43m,\u001b[49m\u001b[43m \u001b[49m\u001b[43mn_epochs\u001b[49m\u001b[43m,\u001b[49m\u001b[43m \u001b[49m\u001b[38;5;124;43m\"\u001b[39;49m\u001b[38;5;124;43mmodels/sqnet.pt\u001b[39;49m\u001b[38;5;124;43m\"\u001b[39;49m\u001b[43m)\u001b[49m\n",
      "Cell \u001b[1;32mIn[71], line 25\u001b[0m, in \u001b[0;36mtrain\u001b[1;34m(model, criterion, optimizer, train_loader, valid_loader, epochs, save_path)\u001b[0m\n\u001b[0;32m     22\u001b[0m     loss\u001b[38;5;241m.\u001b[39mbackward()\n\u001b[0;32m     23\u001b[0m     optimizer\u001b[38;5;241m.\u001b[39mstep()\n\u001b[1;32m---> 25\u001b[0m     train_loss \u001b[38;5;241m+\u001b[39m\u001b[38;5;241m=\u001b[39m \u001b[43mloss\u001b[49m\u001b[38;5;241;43m.\u001b[39;49m\u001b[43mitem\u001b[49m\u001b[43m(\u001b[49m\u001b[43m)\u001b[49m\n\u001b[0;32m     27\u001b[0m loss_history\u001b[38;5;241m.\u001b[39mappend(loss\u001b[38;5;241m.\u001b[39mitem())    \n\u001b[0;32m     29\u001b[0m scheduler\u001b[38;5;241m.\u001b[39mstep(val_loss)\n",
      "\u001b[1;31mKeyboardInterrupt\u001b[0m: "
     ]
    }
   ],
   "source": [
    "train(model, criterion, optimizer, train_dl, eval_dl, n_epochs, \"models/sqnet.pt\")"
   ]
  },
  {
   "cell_type": "code",
   "execution_count": null,
   "metadata": {},
   "outputs": [
    {
     "data": {
      "image/png": "[encoded data removed]",
      "text/plain": [
       "<Figure size 640x480 with 2 Axes>"
      ]
     },
     "metadata": {},
     "output_type": "display_data"
    }
   ],
   "source": [
    "import matplotlib.pyplot as plt\n",
    "\n",
    "epoch_cutoff = 15\n",
    "\n",
    "# Create a figure and primary y-axis\n",
    "fig, ax1 = plt.subplots()\n",
    "\n",
    "# Plot data on the primary y-axis\n",
    "ax1.plot(loss_history[:epoch_cutoff], color=\"blue\", label=\"Training loss\")\n",
    "ax1.set_ylabel(\"Training loss\", color=\"blue\")\n",
    "\n",
    "# Create a secondary y-axis\n",
    "ax2 = ax1.twinx()\n",
    "\n",
    "# Plot data on the secondary y-axis\n",
    "ax2.plot(accuracy_history[:epoch_cutoff], color=\"red\", label=\"Validation accuracy\")\n",
    "ax2.set_ylabel(\"Validation accuracy [%]\", color=\"red\")\n",
    "\n",
    "# Add legend\n",
    "ax1.legend(loc=\"best\")\n",
    "ax2.legend(loc=\"best\")\n",
    "ax1.set_xlabel(\"Epoch\")\n",
    "# Show plot\n",
    "plt.show()"
   ]
  },
  {
   "cell_type": "code",
   "execution_count": null,
   "metadata": {},
   "outputs": [],
   "source": []
  }
 ],
 "metadata": {
  "kernelspec": {
   "display_name": "torch",
   "language": "python",
   "name": "python3"
  },
  "language_info": {
   "codemirror_mode": {
    "name": "ipython",
    "version": 3
   },
   "file_extension": ".py",
   "mimetype": "text/x-python",
   "name": "python",
   "nbconvert_exporter": "python",
   "pygments_lexer": "ipython3",
   "version": "3.11.5"
  }
 },
 "nbformat": 4,
 "nbformat_minor": 2
}

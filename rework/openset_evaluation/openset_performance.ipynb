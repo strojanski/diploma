{
 "cells": [
  {
   "cell_type": "code",
   "execution_count": 98,
   "metadata": {},
   "outputs": [],
   "source": [
    "\n",
    "import numpy as np\n",
    "import torch\n",
    "from torchvision.models import resnet50\n",
    "from torch import nn\n",
    "from torch.utils.data import DataLoader\n",
    "\n",
    "from sklearn.metrics.pairwise import cosine_similarity"
   ]
  },
  {
   "cell_type": "code",
   "execution_count": 99,
   "metadata": {},
   "outputs": [
    {
     "name": "stdout",
     "output_type": "stream",
     "text": [
      "[[ 0.          5.19615242 10.39230485]\n",
      " [ 5.19615242  0.          5.19615242]\n",
      " [10.39230485  5.19615242  0.        ]]\n"
     ]
    }
   ],
   "source": [
    "from scipy.spatial.distance import cdist\n",
    "import numpy as np\n",
    "\n",
    "# Example vectors (rows in a matrix)\n",
    "vectors = np.array([\n",
    "    [1, 2, 3],\n",
    "    [4, 5, 6],\n",
    "    [7, 8, 9]\n",
    "])\n",
    "\n",
    "# Compute pairwise Euclidean distances\n",
    "distances = cdist(vectors, vectors, 'euclidean')\n",
    "\n",
    "print(distances)\n"
   ]
  },
  {
   "cell_type": "code",
   "execution_count": 100,
   "metadata": {},
   "outputs": [],
   "source": [
    "# test_dataset = torch.load(\"data/test_dataset.pt\")\n",
    "test_pairs = np.load(\"test_data.npy\")\n",
    "test_labels = np.load(\"test_labels.npy\")\n",
    "\n",
    "from openset_ds import OpenSet\n",
    "\n",
    "open_dataset = OpenSet(test_pairs, test_labels)"
   ]
  },
  {
   "cell_type": "code",
   "execution_count": 101,
   "metadata": {},
   "outputs": [
    {
     "name": "stderr",
     "output_type": "stream",
     "text": [
      "c:\\Users\\sebas\\miniconda3\\Lib\\site-packages\\torchvision\\models\\_utils.py:208: UserWarning: The parameter 'pretrained' is deprecated since 0.13 and may be removed in the future, please use 'weights' instead.\n",
      "  warnings.warn(\n",
      "c:\\Users\\sebas\\miniconda3\\Lib\\site-packages\\torchvision\\models\\_utils.py:223: UserWarning: Arguments other than a weight enum or `None` for 'weights' are deprecated since 0.13 and may be removed in the future. The current behavior is equivalent to passing `weights=ResNet50_Weights.IMAGENET1K_V1`. You can also use `weights=ResNet50_Weights.DEFAULT` to get the most up-to-date weights.\n",
      "  warnings.warn(msg)\n"
     ]
    }
   ],
   "source": [
    "import os\n",
    "from torchvision import models\n",
    "\n",
    "baseline = resnet50(pretrained=True)\n",
    "    \n",
    "baseline.fc = nn.Linear(2048, 910)\n",
    "    \n",
    "if os.path.exists(f\"models/BASELINE_89.pt\"):\n",
    "    baseline.load_state_dict(torch.load(f\"models/BASELINE_89.pt\"))\n",
    "# if os.path.exists(f\"models/resnet50_17epoch_32.pt\"):\n",
    "#     baseline.load_state_dict(torch.load(f\"models/resnet50_17epoch_32.pt\"))\n",
    "baseline.fc = torch.nn.Identity()\n",
    "\n",
    "# baseline = models.squeezenet1_1(pretrained=True)\n",
    "    \n",
    "\n",
    "# bs = 128\n",
    "\n",
    "# baseline.classifier = torch.nn.Identity()\n",
    "# # if os.path.exists(f\"models/squeezenet_{bs}.pt\"):\n",
    "# #     triplet.load_state_dict(torch.load(f\"models/squeezenet_{bs}.pt\"))\n",
    "# if os.path.exists(f\"models/sqnet_baseline.pt\"):\n",
    "#     baseline.load_state_dict(torch.load(f\"models/sqnet_baseline.pt\"))"
   ]
  },
  {
   "cell_type": "code",
   "execution_count": 102,
   "metadata": {},
   "outputs": [
    {
     "name": "stderr",
     "output_type": "stream",
     "text": [
      "c:\\Users\\sebas\\miniconda3\\Lib\\site-packages\\torchvision\\models\\_utils.py:223: UserWarning: Arguments other than a weight enum or `None` for 'weights' are deprecated since 0.13 and may be removed in the future. The current behavior is equivalent to passing `weights=SqueezeNet1_1_Weights.IMAGENET1K_V1`. You can also use `weights=SqueezeNet1_1_Weights.DEFAULT` to get the most up-to-date weights.\n",
      "  warnings.warn(msg)\n"
     ]
    }
   ],
   "source": [
    "from torchvision import models\n",
    "\n",
    "triplet = models.squeezenet1_1(pretrained=True)\n",
    "    \n",
    "\n",
    "bs = 128\n",
    "\n",
    "triplet.classifier = torch.nn.Identity()\n",
    "# if os.path.exists(f\"models/squeezenet_{bs}.pt\"):\n",
    "#     triplet.load_state_dict(torch.load(f\"models/squeezenet_{bs}.pt\"))\n",
    "if os.path.exists(f\"models/TRIPLET_82.pt\"):\n",
    "    triplet.load_state_dict(torch.load(f\"models/TRIPLET_82.pt\"))\n",
    "\n",
    "# n_classes = 910\n",
    "# triplet.classifier[1] = torch.nn.Conv2d(512, n_classes, kernel_size=(1, 1))\n",
    "# triplet.classifier = torch.nn.Identity()\n",
    "# if os.path.exists(f\"models/.pt\"):\n",
    "#     triplet.load_state_dict(torch.load(f\"models/sqnet.pt\"))"
   ]
  },
  {
   "cell_type": "code",
   "execution_count": 103,
   "metadata": {},
   "outputs": [
    {
     "name": "stdout",
     "output_type": "stream",
     "text": [
      "SqueezeNet(\n",
      "  (features): Sequential(\n",
      "    (0): Conv2d(3, 64, kernel_size=(3, 3), stride=(2, 2))\n",
      "    (1): ReLU(inplace=True)\n",
      "    (2): MaxPool2d(kernel_size=3, stride=2, padding=0, dilation=1, ceil_mode=True)\n",
      "    (3): Fire(\n",
      "      (squeeze): Conv2d(64, 16, kernel_size=(1, 1), stride=(1, 1))\n",
      "      (squeeze_activation): ReLU(inplace=True)\n",
      "      (expand1x1): Conv2d(16, 64, kernel_size=(1, 1), stride=(1, 1))\n",
      "      (expand1x1_activation): ReLU(inplace=True)\n",
      "      (expand3x3): Conv2d(16, 64, kernel_size=(3, 3), stride=(1, 1), padding=(1, 1))\n",
      "      (expand3x3_activation): ReLU(inplace=True)\n",
      "    )\n",
      "    (4): Fire(\n",
      "      (squeeze): Conv2d(128, 16, kernel_size=(1, 1), stride=(1, 1))\n",
      "      (squeeze_activation): ReLU(inplace=True)\n",
      "      (expand1x1): Conv2d(16, 64, kernel_size=(1, 1), stride=(1, 1))\n",
      "      (expand1x1_activation): ReLU(inplace=True)\n",
      "      (expand3x3): Conv2d(16, 64, kernel_size=(3, 3), stride=(1, 1), padding=(1, 1))\n",
      "      (expand3x3_activation): ReLU(inplace=True)\n",
      "    )\n",
      "    (5): MaxPool2d(kernel_size=3, stride=2, padding=0, dilation=1, ceil_mode=True)\n",
      "    (6): Fire(\n",
      "      (squeeze): Conv2d(128, 32, kernel_size=(1, 1), stride=(1, 1))\n",
      "      (squeeze_activation): ReLU(inplace=True)\n",
      "      (expand1x1): Conv2d(32, 128, kernel_size=(1, 1), stride=(1, 1))\n",
      "      (expand1x1_activation): ReLU(inplace=True)\n",
      "      (expand3x3): Conv2d(32, 128, kernel_size=(3, 3), stride=(1, 1), padding=(1, 1))\n",
      "      (expand3x3_activation): ReLU(inplace=True)\n",
      "    )\n",
      "    (7): Fire(\n",
      "      (squeeze): Conv2d(256, 32, kernel_size=(1, 1), stride=(1, 1))\n",
      "      (squeeze_activation): ReLU(inplace=True)\n",
      "      (expand1x1): Conv2d(32, 128, kernel_size=(1, 1), stride=(1, 1))\n",
      "      (expand1x1_activation): ReLU(inplace=True)\n",
      "      (expand3x3): Conv2d(32, 128, kernel_size=(3, 3), stride=(1, 1), padding=(1, 1))\n",
      "      (expand3x3_activation): ReLU(inplace=True)\n",
      "    )\n",
      "    (8): MaxPool2d(kernel_size=3, stride=2, padding=0, dilation=1, ceil_mode=True)\n",
      "    (9): Fire(\n",
      "      (squeeze): Conv2d(256, 48, kernel_size=(1, 1), stride=(1, 1))\n",
      "      (squeeze_activation): ReLU(inplace=True)\n",
      "      (expand1x1): Conv2d(48, 192, kernel_size=(1, 1), stride=(1, 1))\n",
      "      (expand1x1_activation): ReLU(inplace=True)\n",
      "      (expand3x3): Conv2d(48, 192, kernel_size=(3, 3), stride=(1, 1), padding=(1, 1))\n",
      "      (expand3x3_activation): ReLU(inplace=True)\n",
      "    )\n",
      "    (10): Fire(\n",
      "      (squeeze): Conv2d(384, 48, kernel_size=(1, 1), stride=(1, 1))\n",
      "      (squeeze_activation): ReLU(inplace=True)\n",
      "      (expand1x1): Conv2d(48, 192, kernel_size=(1, 1), stride=(1, 1))\n",
      "      (expand1x1_activation): ReLU(inplace=True)\n",
      "      (expand3x3): Conv2d(48, 192, kernel_size=(3, 3), stride=(1, 1), padding=(1, 1))\n",
      "      (expand3x3_activation): ReLU(inplace=True)\n",
      "    )\n",
      "    (11): Fire(\n",
      "      (squeeze): Conv2d(384, 64, kernel_size=(1, 1), stride=(1, 1))\n",
      "      (squeeze_activation): ReLU(inplace=True)\n",
      "      (expand1x1): Conv2d(64, 256, kernel_size=(1, 1), stride=(1, 1))\n",
      "      (expand1x1_activation): ReLU(inplace=True)\n",
      "      (expand3x3): Conv2d(64, 256, kernel_size=(3, 3), stride=(1, 1), padding=(1, 1))\n",
      "      (expand3x3_activation): ReLU(inplace=True)\n",
      "    )\n",
      "    (12): Fire(\n",
      "      (squeeze): Conv2d(512, 64, kernel_size=(1, 1), stride=(1, 1))\n",
      "      (squeeze_activation): ReLU(inplace=True)\n",
      "      (expand1x1): Conv2d(64, 256, kernel_size=(1, 1), stride=(1, 1))\n",
      "      (expand1x1_activation): ReLU(inplace=True)\n",
      "      (expand3x3): Conv2d(64, 256, kernel_size=(3, 3), stride=(1, 1), padding=(1, 1))\n",
      "      (expand3x3_activation): ReLU(inplace=True)\n",
      "    )\n",
      "  )\n",
      "  (classifier): Identity()\n",
      ")\n"
     ]
    }
   ],
   "source": [
    "print(triplet)"
   ]
  },
  {
   "cell_type": "code",
   "execution_count": 104,
   "metadata": {},
   "outputs": [],
   "source": [
    "def get_accuracy(embeddings, targets):\n",
    "    embeddings = np.array(embeddings)\n",
    "    targets = np.array(targets)\n",
    "    \n",
    "    # Get cosine similarity for all embeddings\n",
    "    similarity_matrix = cosine_similarity(embeddings)\n",
    "    \n",
    "    # Fill diagonal with inf\n",
    "    np.fill_diagonal(similarity_matrix, -np.inf)\n",
    "    \n",
    "    # Find the index of max sim for each embedding\n",
    "    most_similar_indices = np.argmax(similarity_matrix, axis=1)\n",
    "    \n",
    "    # Extract the labels of the most similar items\n",
    "    predicted_labels = [targets[i] for i in most_similar_indices]\n",
    "    n_correct = sum(1 for true, pred in zip(targets, predicted_labels) if true == pred)\n",
    "    \n",
    "    accuracy = 100 * (n_correct / len(embeddings))\n",
    "    \n",
    "    return accuracy, predicted_labels"
   ]
  },
  {
   "cell_type": "code",
   "execution_count": 105,
   "metadata": {},
   "outputs": [],
   "source": [
    "def get_embeddings(model, dataloader, device):\n",
    "    embeddings = []\n",
    "    targets = []\n",
    "    \n",
    "    with torch.no_grad():\n",
    "        for inputs, labels in dataloader:\n",
    "            data = inputs.to(device)\n",
    "            label = labels.to(device)\n",
    "            batch_emb, batch_lab = [], []            \n",
    "            \n",
    "            emb = model(data)\n",
    "            \n",
    "            batch_emb.extend(emb.cpu())\n",
    "            batch_lab.extend(label.cpu().tolist())\n",
    "            \n",
    "            embeddings.extend(batch_emb)\n",
    "            targets.extend(batch_lab)\n",
    "            \n",
    "    return embeddings, targets"
   ]
  },
  {
   "cell_type": "code",
   "execution_count": 106,
   "metadata": {},
   "outputs": [],
   "source": [
    "true_pairs, fake_pairs = [], []"
   ]
  },
  {
   "cell_type": "code",
   "execution_count": 107,
   "metadata": {},
   "outputs": [],
   "source": [
    "\n",
    "def get_embeddings_accuracy(model, dataloader, device, baseline=False):\n",
    "    global true_pairs, fake_pairs\n",
    "    true_pairs, fake_pairs = [], []\n",
    "    n_correct = 0\n",
    "    \n",
    "    tp, fp, tn, fn = 0, 0, 0, 0\n",
    "    \n",
    "    thresh = 0.8221790790557861     # Calculated from train data (validation)\n",
    "    if baseline:\n",
    "        thresh =  0.5623701810836792 \n",
    "    \n",
    "    with torch.no_grad():\n",
    "        for inputs, labels in dataloader:\n",
    "            img1, img2 = inputs[:, 0], inputs[:, 1]\n",
    "            img1, img2 = img1.to(device), img2.to(device)\n",
    "            \n",
    "            lab1, lab2 = labels[:, 0], labels[:, 1]\n",
    "            \n",
    "            emb1 = model(img1).cpu()\n",
    "            emb2 = model(img2).cpu()\n",
    "            \n",
    "            sim = cosine_similarity(emb1, emb2)\n",
    "            \n",
    "            for i in range(len(sim)):            \n",
    "                if lab1[i] == lab2[i]:\n",
    "                    true_pairs.append(sim[i][i])\n",
    "                else:\n",
    "                    fake_pairs.append(sim[i][i])\n",
    "                res = sim[i][i]\n",
    "                \n",
    "                if res > thresh and lab1[i] == lab2[i]:\n",
    "                    n_correct += 1\n",
    "                    tp += 1\n",
    "                if res < thresh and lab1[i] != lab2[i]:\n",
    "                    n_correct += 1\n",
    "                    tn += 1\n",
    "                if res < thresh and lab1[i] == lab2[i]:\n",
    "                    fn += 1\n",
    "                if res > thresh and lab1[i] != lab2[i]:\n",
    "                    fp += 1\n",
    "                    \n",
    "    return n_correct, (tp, tn, fp, fn)"
   ]
  },
  {
   "cell_type": "code",
   "execution_count": 108,
   "metadata": {},
   "outputs": [],
   "source": [
    "test_dataloader = DataLoader(open_dataset, 128, True)"
   ]
  },
  {
   "cell_type": "code",
   "execution_count": 109,
   "metadata": {},
   "outputs": [],
   "source": [
    "device = \"cuda\"\n"
   ]
  },
  {
   "cell_type": "code",
   "execution_count": 110,
   "metadata": {},
   "outputs": [
    {
     "name": "stdout",
     "output_type": "stream",
     "text": [
      "59616\n"
     ]
    }
   ],
   "source": [
    "baseline = baseline.to(device)\n",
    "\n",
    "# baseline_emb, baseline_targ = get_embeddings(baseline, test_dataloader, \"cuda\")\n",
    "# baseline_emb, baseline_targ = \n",
    "n_correct, (tp, tn, fp, fn)  = get_embeddings_accuracy(baseline, test_dataloader, \"cuda\", baseline=True)\n",
    "print(n_correct)"
   ]
  },
  {
   "cell_type": "code",
   "execution_count": 111,
   "metadata": {},
   "outputs": [],
   "source": [
    "baseline_scores  =  (tp, tn, fp, fn)"
   ]
  },
  {
   "cell_type": "code",
   "execution_count": 112,
   "metadata": {},
   "outputs": [
    {
     "data": {
      "text/plain": [
       "0.7880710659898477"
      ]
     },
     "execution_count": 112,
     "metadata": {},
     "output_type": "execute_result"
    }
   ],
   "source": [
    "n_correct / (len(test_dataloader) * bs)"
   ]
  },
  {
   "cell_type": "code",
   "execution_count": 113,
   "metadata": {},
   "outputs": [],
   "source": [
    "acc = (tp + tn) / (tp + tn + fp + fn)\n",
    "recall = (tp) / (tp + fn)\n",
    "precision = (tp) / (tp + fp)\n",
    "f1 = (tp) / (tp + (fp + fn) / 2)"
   ]
  },
  {
   "cell_type": "code",
   "execution_count": 114,
   "metadata": {},
   "outputs": [
    {
     "name": "stdout",
     "output_type": "stream",
     "text": [
      "0.7888218482057796 0.6646328634546602 0.8873595505617977 0.7600144352219416\n"
     ]
    }
   ],
   "source": [
    "print(acc, recall, precision, f1)"
   ]
  },
  {
   "cell_type": "code",
   "execution_count": 115,
   "metadata": {},
   "outputs": [
    {
     "data": {
      "text/plain": [
       "0.7888218482057796"
      ]
     },
     "execution_count": 115,
     "metadata": {},
     "output_type": "execute_result"
    }
   ],
   "source": [
    "n_correct / len(open_dataset)"
   ]
  },
  {
   "cell_type": "code",
   "execution_count": 116,
   "metadata": {},
   "outputs": [],
   "source": [
    "# for i in range(len(baseline_emb)):\n",
    "#     baseline_emb[i] = baseline_emb[i].detach().numpy()"
   ]
  },
  {
   "cell_type": "code",
   "execution_count": 117,
   "metadata": {},
   "outputs": [],
   "source": [
    "# type(baseline_emb[0])"
   ]
  },
  {
   "cell_type": "code",
   "execution_count": 118,
   "metadata": {},
   "outputs": [],
   "source": [
    "# baseline_accuracy, baseline_preds = get_accuracy(baseline_emb, baseline_targ)"
   ]
  },
  {
   "cell_type": "code",
   "execution_count": 119,
   "metadata": {},
   "outputs": [],
   "source": [
    "# baseline_accuracy"
   ]
  },
  {
   "cell_type": "code",
   "execution_count": 120,
   "metadata": {},
   "outputs": [
    {
     "data": {
      "text/plain": [
       "(38024, 37552)"
      ]
     },
     "execution_count": 120,
     "metadata": {},
     "output_type": "execute_result"
    }
   ],
   "source": [
    "len(true_pairs), len(fake_pairs)"
   ]
  },
  {
   "cell_type": "code",
   "execution_count": 121,
   "metadata": {},
   "outputs": [
    {
     "data": {
      "text/plain": [
       "(0.60597736, 0.47315207)"
      ]
     },
     "execution_count": 121,
     "metadata": {},
     "output_type": "execute_result"
    }
   ],
   "source": [
    "np.mean(true_pairs), np.mean(fake_pairs)"
   ]
  },
  {
   "cell_type": "code",
   "execution_count": 122,
   "metadata": {},
   "outputs": [
    {
     "data": {
      "text/plain": [
       "<matplotlib.legend.Legend at 0x2b80a997450>"
      ]
     },
     "execution_count": 122,
     "metadata": {},
     "output_type": "execute_result"
    },
    {
     "data": {
      "image/png": "[encoded data removed]",
      "text/plain": [
       "<Figure size 640x480 with 1 Axes>"
      ]
     },
     "metadata": {},
     "output_type": "display_data"
    }
   ],
   "source": [
    "import matplotlib.pyplot as plt\n",
    "from scipy.ndimage import gaussian_filter\n",
    "\n",
    "plt.plot(gaussian_filter(true_pairs, sigma=10), label=\"TrueSim\", alpha=.6)\n",
    "plt.plot(gaussian_filter(fake_pairs, sigma=10), label=\"fakeSim\", alpha=.6)\n",
    "plt.legend()"
   ]
  },
  {
   "cell_type": "code",
   "execution_count": 123,
   "metadata": {},
   "outputs": [
    {
     "data": {
      "text/plain": [
       "<matplotlib.collections.LineCollection at 0x2b80912f890>"
      ]
     },
     "execution_count": 123,
     "metadata": {},
     "output_type": "execute_result"
    },
    {
     "data": {
      "image/png": "[encoded data removed]",
      "text/plain": [
       "<Figure size 640x480 with 1 Axes>"
      ]
     },
     "metadata": {},
     "output_type": "display_data"
    }
   ],
   "source": [
    "import cv2\n",
    "import seaborn as sns\n",
    "\n",
    "sns.kdeplot(true_pairs, label=\"true\")\n",
    "sns.kdeplot(fake_pairs, label=\"fake\")\n",
    "plt.legend()\n",
    "plt.vlines([0.05 * i for i in range(20)], ymin=0, ymax=5)\n",
    "# plt.plot(true_pairs)\n",
    "# plt.plot(fake_pairs)"
   ]
  },
  {
   "cell_type": "code",
   "execution_count": 124,
   "metadata": {},
   "outputs": [
    {
     "name": "stdout",
     "output_type": "stream",
     "text": [
      "0.7490870117497618\n"
     ]
    }
   ],
   "source": [
    "triplet = triplet.to(device)\n",
    "# triplet_emb, triplet_targ = get_embeddings(triplet, test_dataloader, \"cuda\")\n",
    "n_correct, (tp, tn, fp, fn) = get_embeddings_accuracy(triplet, test_dataloader, \"cuda\")\n",
    "print(n_correct / len(open_dataset))\n",
    "# for i in range(len(triplet_emb)):\n",
    "#     triplet_emb[i] = triplet_emb[i].detach().numpy()\n",
    "\n",
    "# triplet_accuracy, triplet_preds = get_accuracy(triplet_emb, triplet_targ)"
   ]
  },
  {
   "cell_type": "code",
   "execution_count": 125,
   "metadata": {},
   "outputs": [],
   "source": [
    "def get_scores(tp, tn, fp,  fn):\n",
    "    acc = (tp + tn) / (tp + tn + fp + fn)\n",
    "    recall = (tp) / (tp + fn)\n",
    "    precision = (tp) / (tp + fp)\n",
    "    f1 = (tp) / (tp + (fp + fn) / 2)\n",
    "    return  acc, recall, precision, f1"
   ]
  },
  {
   "cell_type": "code",
   "execution_count": 126,
   "metadata": {},
   "outputs": [],
   "source": [
    "acc = (tp + tn) / (tp + tn + fp + fn)\n",
    "recall = (tp) / (tp + fn)\n",
    "precision = (tp) / (tp + fp)\n",
    "f1 = (tp) / (tp + (fp + fn) / 2)"
   ]
  },
  {
   "cell_type": "code",
   "execution_count": 127,
   "metadata": {},
   "outputs": [
    {
     "name": "stdout",
     "output_type": "stream",
     "text": [
      "0.7490870117497618 0.8253997475278771 0.718044338694548 0.7679884501975947\n",
      "(0.7888218482057796, 0.6646328634546602, 0.8873595505617977, 0.7600144352219416)\n"
     ]
    }
   ],
   "source": [
    "print(acc, recall, precision, f1)\n",
    "print(get_scores(*baseline_scores))\n"
   ]
  },
  {
   "cell_type": "code",
   "execution_count": 128,
   "metadata": {},
   "outputs": [
    {
     "data": {
      "text/plain": [
       "<matplotlib.legend.Legend at 0x2b84f6ba3d0>"
      ]
     },
     "execution_count": 128,
     "metadata": {},
     "output_type": "execute_result"
    },
    {
     "data": {
      "image/png": "[encoded data removed]",
      "text/plain": [
       "<Figure size 640x480 with 1 Axes>"
      ]
     },
     "metadata": {},
     "output_type": "display_data"
    }
   ],
   "source": [
    "import matplotlib.pyplot as plt\n",
    "from scipy.ndimage import gaussian_filter\n",
    "\n",
    "plt.plot(gaussian_filter(true_pairs, sigma=5), label=\"TrueSim\", alpha=.6)\n",
    "plt.plot(gaussian_filter(fake_pairs, sigma=5), label=\"fakeSim\", alpha=.6)\n",
    "plt.legend()"
   ]
  },
  {
   "cell_type": "code",
   "execution_count": null,
   "metadata": {},
   "outputs": [],
   "source": [
    "sns.kdeplot(true_pairs, label=\"true\")\n",
    "sns.kdeplot(fake_pairs, label=\"fake\")\n",
    "plt.legend()\n",
    "plt.vlines([0.05 * i for i in range(20)], ymin=0, ymax=5)"
   ]
  },
  {
   "cell_type": "code",
   "execution_count": 129,
   "metadata": {},
   "outputs": [
    {
     "name": "stdout",
     "output_type": "stream",
     "text": [
      "0.7490870117497618\n"
     ]
    }
   ],
   "source": [
    "print(n_correct / len(open_dataset))"
   ]
  },
  {
   "cell_type": "code",
   "execution_count": 130,
   "metadata": {},
   "outputs": [
    {
     "ename": "TypeError",
     "evalue": "unhashable type: 'numpy.ndarray'",
     "output_type": "error",
     "traceback": [
      "\u001b[1;31m---------------------------------------------------------------------------\u001b[0m",
      "\u001b[1;31mTypeError\u001b[0m                                 Traceback (most recent call last)",
      "Cell \u001b[1;32mIn[130], line 1\u001b[0m\n\u001b[1;32m----> 1\u001b[0m \u001b[38;5;28mprint\u001b[39m(\u001b[38;5;124mf\u001b[39m\u001b[38;5;124m\"\u001b[39m\u001b[38;5;124mTest set with \u001b[39m\u001b[38;5;132;01m{\u001b[39;00m\u001b[38;5;28mlen\u001b[39m(open_dataset)\u001b[38;5;132;01m}\u001b[39;00m\u001b[38;5;124m samples of \u001b[39m\u001b[38;5;132;01m{\u001b[39;00m\u001b[38;5;28mlen\u001b[39m(\u001b[38;5;28;43mset\u001b[39;49m\u001b[43m(\u001b[49m\u001b[43mopen_dataset\u001b[49m\u001b[38;5;241;43m.\u001b[39;49m\u001b[43mlabels\u001b[49m\u001b[43m)\u001b[49m)\u001b[38;5;132;01m}\u001b[39;00m\u001b[38;5;124m classes.\u001b[39m\u001b[38;5;124m\"\u001b[39m)\n\u001b[0;32m      2\u001b[0m \u001b[38;5;66;03m# print(f\"Baseline model openset performance: {baseline_accuracy}\")\u001b[39;00m\n\u001b[0;32m      3\u001b[0m \u001b[38;5;28mprint\u001b[39m(\u001b[38;5;124mf\u001b[39m\u001b[38;5;124m\"\u001b[39m\u001b[38;5;124mTriplet model openset performance: \u001b[39m\u001b[38;5;132;01m{\u001b[39;00macc\u001b[38;5;132;01m}\u001b[39;00m\u001b[38;5;124m\"\u001b[39m)\n",
      "\u001b[1;31mTypeError\u001b[0m: unhashable type: 'numpy.ndarray'"
     ]
    }
   ],
   "source": [
    "print(f\"Test set with {len(open_dataset)} samples of {len(set(open_dataset.labels))} classes.\")\n",
    "# print(f\"Baseline model openset performance: {baseline_accuracy}\")\n",
    "print(f\"Triplet model openset performance: {acc}\")"
   ]
  },
  {
   "cell_type": "markdown",
   "metadata": {},
   "source": [
    "TODO: Compare best model performances to majority classifier and specify that the bad model still has some knowledge. Also use random classifier"
   ]
  },
  {
   "cell_type": "code",
   "execution_count": null,
   "metadata": {},
   "outputs": [],
   "source": []
  }
 ],
 "metadata": {
  "kernelspec": {
   "display_name": "trust-me",
   "language": "python",
   "name": "python3"
  },
  "language_info": {
   "codemirror_mode": {
    "name": "ipython",
    "version": 3
   },
   "file_extension": ".py",
   "mimetype": "text/x-python",
   "name": "python",
   "nbconvert_exporter": "python",
   "pygments_lexer": "ipython3",
   "version": "3.11.5"
  }
 },
 "nbformat": 4,
 "nbformat_minor": 2
}

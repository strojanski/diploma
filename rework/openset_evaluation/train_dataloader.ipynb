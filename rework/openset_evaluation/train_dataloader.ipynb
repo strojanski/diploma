{
 "cells": [
  {
   "cell_type": "code",
   "execution_count": 1,
   "metadata": {},
   "outputs": [],
   "source": [
    "import numpy as np\n",
    "import os\n",
    "import cv2\n",
    "import torch"
   ]
  },
  {
   "cell_type": "code",
   "execution_count": 2,
   "metadata": {},
   "outputs": [],
   "source": [
    "ds = \"train\""
   ]
  },
  {
   "cell_type": "code",
   "execution_count": 3,
   "metadata": {},
   "outputs": [],
   "source": [
    "test = torch.load(f\"data/{ds}_dataset.pt\")"
   ]
  },
  {
   "cell_type": "code",
   "execution_count": 4,
   "metadata": {},
   "outputs": [],
   "source": [
    "imgs, labels = test.data, test.labels"
   ]
  },
  {
   "cell_type": "code",
   "execution_count": 5,
   "metadata": {},
   "outputs": [],
   "source": [
    "import numpy as np\n",
    "\n",
    "pairs = []\n",
    "imgs = np.array(imgs)\n",
    "labels = np.array(labels)\n",
    "\n",
    "_imgs = []\n",
    "_labels = []\n",
    "\n",
    "for img, label in zip(imgs, labels):\n",
    "    # Get indices of images with the same label and different labels\n",
    "    same_class_indices = np.where(labels == label)[0]\n",
    "    different_class_indices = np.where(labels != label)[0]\n",
    "\n",
    "    if np.random.random() < 0.5:\n",
    "        pair_index = np.random.choice(same_class_indices)\n",
    "    else:\n",
    "        pair_index = np.random.choice(different_class_indices)\n",
    "\n",
    "    pair_img = imgs[pair_index]\n",
    "    pair_label = labels[pair_index]\n",
    "\n",
    "    _imgs.append((img, pair_img))\n",
    "    _labels.append((label, pair_label))\n",
    "\n",
    "    pairs.append((img, pair_img, label, pair_label))"
   ]
  },
  {
   "cell_type": "code",
   "execution_count": 6,
   "metadata": {},
   "outputs": [],
   "source": [
    "np.save(f\"{ds}_imgs.npy\", _imgs)\n",
    "np.save(f\"{ds}_labels.npy\", _labels)"
   ]
  },
  {
   "cell_type": "code",
   "execution_count": 7,
   "metadata": {},
   "outputs": [],
   "source": [
    "from torch.utils.data import Dataset\n",
    "\n",
    "\n",
    "class OpenSet(Dataset):\n",
    "    def __init__(self, pairs, labels):\n",
    "        self.pairs = pairs\n",
    "        self.labels = labels\n",
    "\n",
    "    def __len__(self):\n",
    "        return len(self.pairs)\n",
    "\n",
    "    def __getitem__(self, index):\n",
    "        try:\n",
    "            return self.pairs[index], self.labels[index]\n",
    "        except IndexError as e:\n",
    "            print(e)\n",
    "            print(len(self.labels), index)\n",
    "\n",
    "    def get_imgs(self):\n",
    "        return self.pairs\n",
    "\n",
    "    def get_n_classes(self):\n",
    "        return len(set(self.labels))\n",
    "\n",
    "    def labels_to_long(self):\n",
    "        self.labels = self.labels.astype(np.int64)\n",
    "\n",
    "    def get_class_data(self, label):\n",
    "        return [self.pairs[i] for i, l in enumerate(self.labels) if l == label]"
   ]
  },
  {
   "cell_type": "code",
   "execution_count": 8,
   "metadata": {},
   "outputs": [],
   "source": [
    "ps = [[pair[0], pair[1]] for pair in pairs]\n",
    "ls = [[pair[2], pair[3]] for pair in pairs]\n",
    "test_ds = OpenSet(ps, ls)"
   ]
  },
  {
   "cell_type": "code",
   "execution_count": 9,
   "metadata": {},
   "outputs": [
    {
     "ename": "KeyboardInterrupt",
     "evalue": "",
     "output_type": "error",
     "traceback": [
      "\u001b[1;31m---------------------------------------------------------------------------\u001b[0m",
      "\u001b[1;31mKeyboardInterrupt\u001b[0m                         Traceback (most recent call last)",
      "Cell \u001b[1;32mIn[9], line 1\u001b[0m\n\u001b[1;32m----> 1\u001b[0m \u001b[43mtorch\u001b[49m\u001b[38;5;241;43m.\u001b[39;49m\u001b[43msave\u001b[49m\u001b[43m(\u001b[49m\u001b[43mtest_ds\u001b[49m\u001b[43m,\u001b[49m\u001b[43m \u001b[49m\u001b[38;5;124;43mf\u001b[39;49m\u001b[38;5;124;43m\"\u001b[39;49m\u001b[38;5;124;43mdata/_\u001b[39;49m\u001b[38;5;132;43;01m{\u001b[39;49;00m\u001b[43mds\u001b[49m\u001b[38;5;132;43;01m}\u001b[39;49;00m\u001b[38;5;124;43m_dataset.pt\u001b[39;49m\u001b[38;5;124;43m\"\u001b[39;49m\u001b[43m)\u001b[49m\n",
      "File \u001b[1;32mc:\\Users\\sebas\\miniconda3\\envs\\trust-me\\Lib\\site-packages\\torch\\serialization.py:629\u001b[0m, in \u001b[0;36msave\u001b[1;34m(obj, f, pickle_module, pickle_protocol, _use_new_zipfile_serialization, _disable_byteorder_record)\u001b[0m\n\u001b[0;32m    627\u001b[0m \u001b[38;5;28;01mif\u001b[39;00m _use_new_zipfile_serialization:\n\u001b[0;32m    628\u001b[0m     \u001b[38;5;28;01mwith\u001b[39;00m _open_zipfile_writer(f) \u001b[38;5;28;01mas\u001b[39;00m opened_zipfile:\n\u001b[1;32m--> 629\u001b[0m         \u001b[43m_save\u001b[49m\u001b[43m(\u001b[49m\u001b[43mobj\u001b[49m\u001b[43m,\u001b[49m\u001b[43m \u001b[49m\u001b[43mopened_zipfile\u001b[49m\u001b[43m,\u001b[49m\u001b[43m \u001b[49m\u001b[43mpickle_module\u001b[49m\u001b[43m,\u001b[49m\u001b[43m \u001b[49m\u001b[43mpickle_protocol\u001b[49m\u001b[43m,\u001b[49m\u001b[43m \u001b[49m\u001b[43m_disable_byteorder_record\u001b[49m\u001b[43m)\u001b[49m\n\u001b[0;32m    630\u001b[0m         \u001b[38;5;28;01mreturn\u001b[39;00m\n\u001b[0;32m    631\u001b[0m \u001b[38;5;28;01melse\u001b[39;00m:\n",
      "File \u001b[1;32mc:\\Users\\sebas\\miniconda3\\envs\\trust-me\\Lib\\site-packages\\torch\\serialization.py:841\u001b[0m, in \u001b[0;36m_save\u001b[1;34m(obj, zip_file, pickle_module, pickle_protocol, _disable_byteorder_record)\u001b[0m\n\u001b[0;32m    839\u001b[0m pickler \u001b[38;5;241m=\u001b[39m pickle_module\u001b[38;5;241m.\u001b[39mPickler(data_buf, protocol\u001b[38;5;241m=\u001b[39mpickle_protocol)\n\u001b[0;32m    840\u001b[0m pickler\u001b[38;5;241m.\u001b[39mpersistent_id \u001b[38;5;241m=\u001b[39m persistent_id\n\u001b[1;32m--> 841\u001b[0m \u001b[43mpickler\u001b[49m\u001b[38;5;241;43m.\u001b[39;49m\u001b[43mdump\u001b[49m\u001b[43m(\u001b[49m\u001b[43mobj\u001b[49m\u001b[43m)\u001b[49m\n\u001b[0;32m    842\u001b[0m data_value \u001b[38;5;241m=\u001b[39m data_buf\u001b[38;5;241m.\u001b[39mgetvalue()\n\u001b[0;32m    843\u001b[0m zip_file\u001b[38;5;241m.\u001b[39mwrite_record(\u001b[38;5;124m'\u001b[39m\u001b[38;5;124mdata.pkl\u001b[39m\u001b[38;5;124m'\u001b[39m, data_value, \u001b[38;5;28mlen\u001b[39m(data_value))\n",
      "File \u001b[1;32mc:\\Users\\sebas\\miniconda3\\envs\\trust-me\\Lib\\site-packages\\torch\\serialization.py:796\u001b[0m, in \u001b[0;36m_save.<locals>.persistent_id\u001b[1;34m(obj)\u001b[0m\n\u001b[0;32m    790\u001b[0m \u001b[38;5;28;01mdef\u001b[39;00m \u001b[38;5;21mpersistent_id\u001b[39m(obj):\n\u001b[0;32m    791\u001b[0m     \u001b[38;5;66;03m# FIXME: the docs say that persistent_id should only return a string\u001b[39;00m\n\u001b[0;32m    792\u001b[0m     \u001b[38;5;66;03m# but torch store returns tuples. This works only in the binary protocol\u001b[39;00m\n\u001b[0;32m    793\u001b[0m     \u001b[38;5;66;03m# see\u001b[39;00m\n\u001b[0;32m    794\u001b[0m     \u001b[38;5;66;03m# https://docs.python.org/2/library/pickle.html#pickling-and-unpickling-external-objects\u001b[39;00m\n\u001b[0;32m    795\u001b[0m     \u001b[38;5;66;03m# https://github.com/python/cpython/blob/master/Lib/pickle.py#L527-L537\u001b[39;00m\n\u001b[1;32m--> 796\u001b[0m     \u001b[38;5;28;01mif\u001b[39;00m \u001b[38;5;28misinstance\u001b[39m(obj, torch\u001b[38;5;241m.\u001b[39mstorage\u001b[38;5;241m.\u001b[39mTypedStorage) \u001b[38;5;129;01mor\u001b[39;00m \u001b[43mtorch\u001b[49m\u001b[38;5;241;43m.\u001b[39;49m\u001b[43mis_storage\u001b[49m\u001b[43m(\u001b[49m\u001b[43mobj\u001b[49m\u001b[43m)\u001b[49m:\n\u001b[0;32m    798\u001b[0m         \u001b[38;5;28;01mif\u001b[39;00m \u001b[38;5;28misinstance\u001b[39m(obj, torch\u001b[38;5;241m.\u001b[39mstorage\u001b[38;5;241m.\u001b[39mTypedStorage):\n\u001b[0;32m    799\u001b[0m             \u001b[38;5;66;03m# TODO: Once we decide to break serialization FC, this case\u001b[39;00m\n\u001b[0;32m    800\u001b[0m             \u001b[38;5;66;03m# can be deleted\u001b[39;00m\n\u001b[0;32m    801\u001b[0m             storage \u001b[38;5;241m=\u001b[39m obj\u001b[38;5;241m.\u001b[39m_untyped_storage\n",
      "File \u001b[1;32mc:\\Users\\sebas\\miniconda3\\envs\\trust-me\\Lib\\site-packages\\torch\\__init__.py:604\u001b[0m, in \u001b[0;36mis_storage\u001b[1;34m(obj)\u001b[0m\n\u001b[0;32m    585\u001b[0m \u001b[38;5;250m    \u001b[39m\u001b[38;5;124mr\u001b[39m\u001b[38;5;124;03m\"\"\"Returns True if `obj` is a PyTorch tensor.\u001b[39;00m\n\u001b[0;32m    586\u001b[0m \n\u001b[0;32m    587\u001b[0m \u001b[38;5;124;03m    Note that this function is simply doing ``isinstance(obj, Tensor)``.\u001b[39;00m\n\u001b[1;32m   (...)\u001b[0m\n\u001b[0;32m    599\u001b[0m \n\u001b[0;32m    600\u001b[0m \u001b[38;5;124;03m    \"\"\"\u001b[39;00m\n\u001b[0;32m    601\u001b[0m     \u001b[38;5;28;01mreturn\u001b[39;00m \u001b[38;5;28misinstance\u001b[39m(obj, torch\u001b[38;5;241m.\u001b[39mTensor)\n\u001b[1;32m--> 604\u001b[0m \u001b[38;5;28;01mdef\u001b[39;00m \u001b[38;5;21mis_storage\u001b[39m(obj):\n\u001b[0;32m    605\u001b[0m \u001b[38;5;250m    \u001b[39m\u001b[38;5;124mr\u001b[39m\u001b[38;5;124;03m\"\"\"Returns True if `obj` is a PyTorch storage object.\u001b[39;00m\n\u001b[0;32m    606\u001b[0m \n\u001b[0;32m    607\u001b[0m \u001b[38;5;124;03m    Args:\u001b[39;00m\n\u001b[0;32m    608\u001b[0m \u001b[38;5;124;03m        obj (Object): Object to test\u001b[39;00m\n\u001b[0;32m    609\u001b[0m \u001b[38;5;124;03m    \"\"\"\u001b[39;00m\n\u001b[0;32m    610\u001b[0m     \u001b[38;5;28;01mreturn\u001b[39;00m \u001b[38;5;28mtype\u001b[39m(obj) \u001b[38;5;129;01min\u001b[39;00m _storage_classes\n",
      "\u001b[1;31mKeyboardInterrupt\u001b[0m: "
     ]
    }
   ],
   "source": [
    "torch.save(test_ds, f\"data/_{ds}_dataset.pt\")"
   ]
  }
 ],
 "metadata": {
  "kernelspec": {
   "display_name": "trust-me",
   "language": "python",
   "name": "python3"
  },
  "language_info": {
   "codemirror_mode": {
    "name": "ipython",
    "version": 3
   },
   "file_extension": ".py",
   "mimetype": "text/x-python",
   "name": "python",
   "nbconvert_exporter": "python",
   "pygments_lexer": "ipython3",
   "version": "3.11.5"
  }
 },
 "nbformat": 4,
 "nbformat_minor": 2
}

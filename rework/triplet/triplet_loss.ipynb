{
 "cells": [
  {
   "cell_type": "code",
   "execution_count": 31,
   "metadata": {},
   "outputs": [],
   "source": [
    "# import matplotlib.pyplot as plt\n",
    "import numpy as np\n",
    "import torch\n",
    "import torchvision.models as models\n",
    "from PIL import Image\n",
    "from sklearn.metrics import accuracy_score, precision_score\n",
    "from torch import nn\n",
    "from torchvision import transforms as T\n",
    "import torchvision.models as models\n",
    "\n",
    "from torch.utils.data import DataLoader"
   ]
  },
  {
   "cell_type": "code",
   "execution_count": 32,
   "metadata": {},
   "outputs": [
    {
     "data": {
      "text/plain": [
       "device(type='cuda')"
      ]
     },
     "execution_count": 32,
     "metadata": {},
     "output_type": "execute_result"
    }
   ],
   "source": [
    "device = torch.device(\"cuda\" if torch.cuda.is_available() else \"cpu\")\n",
    "device"
   ]
  },
  {
   "attachments": {},
   "cell_type": "markdown",
   "metadata": {},
   "source": [
    "### 1. Load dataloaders"
   ]
  },
  {
   "cell_type": "code",
   "execution_count": 33,
   "metadata": {},
   "outputs": [],
   "source": [
    "from triplet_dataset import TripletDataset"
   ]
  },
  {
   "cell_type": "code",
   "execution_count": 34,
   "metadata": {},
   "outputs": [],
   "source": [
    "train_ds = torch.load(\"data/train_dataset.pt\")\n",
    "eval_ds = torch.load(\"data/eval_dataset.pt\")"
   ]
  },
  {
   "cell_type": "code",
   "execution_count": 35,
   "metadata": {},
   "outputs": [],
   "source": [
    "# train_ds.reshuffle()\n",
    "# eval_ds.reshuffle()"
   ]
  },
  {
   "cell_type": "code",
   "execution_count": 36,
   "metadata": {},
   "outputs": [
    {
     "data": {
      "text/plain": [
       "(52270, 52270, 52270)"
      ]
     },
     "execution_count": 36,
     "metadata": {},
     "output_type": "execute_result"
    }
   ],
   "source": [
    "len(eval_ds.data), len(eval_ds.labels), len(eval_ds.triplets)"
   ]
  },
  {
   "cell_type": "code",
   "execution_count": 37,
   "metadata": {},
   "outputs": [],
   "source": [
    "eval_set_size = len(eval_ds)\n",
    "eval_set_size = 35_000"
   ]
  },
  {
   "cell_type": "code",
   "execution_count": 38,
   "metadata": {},
   "outputs": [],
   "source": [
    "eval_ds.data = eval_ds.data[:eval_set_size]\n",
    "eval_ds.labels = eval_ds.labels[:eval_set_size]\n",
    "eval_ds.triplets = eval_ds.triplets[:eval_set_size]"
   ]
  },
  {
   "cell_type": "code",
   "execution_count": 39,
   "metadata": {},
   "outputs": [],
   "source": [
    "def get_majority(ds, get_value_counts=False):\n",
    "    \"\"\"Returns accuracy of the majority classifier\"\"\"\n",
    "    # Get the labels from the dataset\n",
    "    labels = [ys[0] for Xs, ys in ds.triplets]\n",
    "\n",
    "    # Calculate the majority class label and its count\n",
    "    majority_class = np.argmax(np.bincount(labels))\n",
    "    majority_class_count = np.sum(labels == majority_class)\n",
    "\n",
    "    # Calculate the accuracy of the majority classifier\n",
    "    accuracy = majority_class_count / len(labels)\n",
    "\n",
    "    if get_value_counts:\n",
    "        return majority_class, accuracy, np.bincount(labels)\n",
    "\n",
    "    return majority_class, accuracy"
   ]
  },
  {
   "cell_type": "code",
   "execution_count": 40,
   "metadata": {},
   "outputs": [],
   "source": [
    "# print(get_majority(train_ds))\n",
    "# print(get_majority(eval_ds, get_value_counts=True))"
   ]
  },
  {
   "cell_type": "code",
   "execution_count": 41,
   "metadata": {},
   "outputs": [
    {
     "data": {
      "text/plain": [
       "(35000, 35000, 35000)"
      ]
     },
     "execution_count": 41,
     "metadata": {},
     "output_type": "execute_result"
    }
   ],
   "source": [
    "len(eval_ds.data), len(eval_ds.labels), len(eval_ds.triplets)"
   ]
  },
  {
   "cell_type": "code",
   "execution_count": 42,
   "metadata": {},
   "outputs": [],
   "source": [
    "BATCH_SIZE = 128\n",
    "\n",
    "train_dl = DataLoader(train_ds, batch_size=BATCH_SIZE, shuffle=True)\n",
    "eval_dl = DataLoader(eval_ds, batch_size=BATCH_SIZE, shuffle=True)"
   ]
  },
  {
   "cell_type": "code",
   "execution_count": 43,
   "metadata": {},
   "outputs": [],
   "source": [
    "special_embeddings_batch = []"
   ]
  },
  {
   "cell_type": "code",
   "execution_count": 44,
   "metadata": {},
   "outputs": [],
   "source": [
    "def min_max_normalize_batch(batch):\n",
    "    min_vals = np.min(batch, axis=1, keepdims=True)\n",
    "    max_vals = np.max(batch, axis=1, keepdims=True)\n",
    "    normalized_batch = (batch - min_vals) / (max_vals - min_vals)\n",
    "    return normalized_batch"
   ]
  },
  {
   "cell_type": "code",
   "execution_count": 45,
   "metadata": {},
   "outputs": [],
   "source": [
    "from sklearn.metrics.pairwise import cosine_similarity\n",
    "\n",
    "\n",
    "loss_history = []\n",
    "val_loss_history = []\n",
    "accuracy_history = []\n",
    "sim_pos, sim_neg, sim_pn = [], [], []\n",
    "\n",
    "\n",
    "def train(\n",
    "    model,\n",
    "    criterion,\n",
    "    optimizer,\n",
    "    train_loader,\n",
    "    valid_loader,\n",
    "    epochs,\n",
    "    save_path=\"models/model\",\n",
    "):\n",
    "    a = True\n",
    "    best_val_loss = float(\"inf\")  # Initialize with infinity\n",
    "\n",
    "    model = model.to(device)\n",
    "    scheduler = torch.optim.lr_scheduler.ReduceLROnPlateau(\n",
    "        optimizer, mode=\"min\", factor=0.1, patience=3, verbose=True, cooldown=100\n",
    "    )\n",
    "\n",
    "    try:\n",
    "        for epoch in range(epochs):\n",
    "            # Training loop\n",
    "            model.train()\n",
    "            train_loss = 0.0\n",
    "            val_loss = 0\n",
    "\n",
    "            for inputs, labels in train_loader:\n",
    "\n",
    "                input_anchor, input_pos, input_neg = inputs\n",
    "                # label_anchor, label_pos, label_neg = labels\n",
    "\n",
    "                input_anchor = input_anchor.to(device)\n",
    "                input_pos = input_pos.to(device)\n",
    "                input_neg = input_neg.to(device)\n",
    "\n",
    "                emb_anchor = model(input_anchor)\n",
    "                emb_pos = model(input_pos)\n",
    "                emb_neg = model(input_neg)\n",
    "\n",
    "                loss = criterion(emb_anchor, emb_pos, emb_neg)\n",
    "                loss.backward()\n",
    "                optimizer.step()\n",
    "                optimizer.zero_grad()\n",
    "\n",
    "                train_loss += loss.item()\n",
    "\n",
    "            loss_history.append(loss.item())\n",
    "\n",
    "            scheduler.step(val_loss)\n",
    "\n",
    "            # Validation loop\n",
    "            model.eval()\n",
    "            val_loss = 0\n",
    "\n",
    "            embeddings = []\n",
    "            targets = []\n",
    "\n",
    "            count = 0\n",
    "            with torch.no_grad():\n",
    "                for inputs, labels in valid_loader:  # TODO back  to  valid_loader\n",
    "                    # count += 1\n",
    "\n",
    "                    # if count > (35_000 / BATCH_SIZE):\n",
    "                    #     break\n",
    "\n",
    "                    input_anchor, input_pos, input_neg = inputs\n",
    "                    label_anchor, label_pos, label_neg = labels\n",
    "\n",
    "                    batch_emb, batch_lab = [], []\n",
    "\n",
    "                    input_anchor = input_anchor.to(device)\n",
    "                    input_pos = input_pos.to(device)\n",
    "                    input_neg = input_neg.to(device)\n",
    "\n",
    "                    emb_anchor = model(input_anchor)\n",
    "                    emb_pos = model(input_pos)\n",
    "                    emb_neg = model(input_neg)\n",
    "\n",
    "                    sim_pos.append(\n",
    "                        cosine_similarity(\n",
    "                            emb_anchor.clone().cpu(), emb_pos.clone().cpu()\n",
    "                        )\n",
    "                    )\n",
    "                    sim_neg.append(\n",
    "                        cosine_similarity(\n",
    "                            emb_anchor.clone().cpu(), emb_neg.clone().cpu()\n",
    "                        )\n",
    "                    )\n",
    "                    sim_pn.append(\n",
    "                        cosine_similarity(emb_pos.clone().cpu(), emb_neg.clone().cpu())\n",
    "                    )\n",
    "\n",
    "                    # embeddings.extend(emb_anchor)\n",
    "                    batch_emb.extend(emb_pos.cpu())\n",
    "                    batch_emb.extend(emb_neg.cpu())\n",
    "\n",
    "                    # labels.extend(label_anchor)\n",
    "                    batch_lab.extend(label_pos.cpu().tolist())\n",
    "                    batch_lab.extend(label_neg.cpu().tolist())\n",
    "\n",
    "                    embeddings.extend(batch_emb)\n",
    "                    targets.extend(batch_lab)\n",
    "\n",
    "                    loss = criterion(emb_anchor, emb_pos, emb_neg)\n",
    "                    val_loss += loss.item()\n",
    "\n",
    "            # Average losses\n",
    "            train_loss /= len(train_loader)\n",
    "            # train_loss = 0\n",
    "            val_loss /= len(valid_loader)\n",
    "\n",
    "            for i in range(len(embeddings)):\n",
    "                embeddings[i] = embeddings[i].detach().numpy()\n",
    "\n",
    "            embeddings = np.array(embeddings)\n",
    "            targets = np.array(targets)\n",
    "\n",
    "            # Min max normalize embeddings\n",
    "            embeddings = min_max_normalize_batch(embeddings)\n",
    "\n",
    "            # Get cosine similarity for all embeddings\n",
    "            similarity_matrix = cosine_similarity(embeddings)\n",
    "\n",
    "            # Fill diagonal with inf\n",
    "            np.fill_diagonal(similarity_matrix, -np.inf)\n",
    "\n",
    "            # Find the index of max sim for each embedding\n",
    "            most_similar_indices = np.argmax(similarity_matrix, axis=1)\n",
    "\n",
    "            # Extract the labels of the most similar items\n",
    "            predicted_labels = [targets[i] for i in most_similar_indices]\n",
    "\n",
    "            # Get number of correct predictions\n",
    "            # n_correct = sum(1 for true_label, predicted_label in zip(labels, predicted_labels) if true_label == predicted_label)\n",
    "            n_correct = sum(\n",
    "                1 for true, pred in zip(targets, predicted_labels) if true == pred\n",
    "            )\n",
    "\n",
    "            print(\"Number of correct matches: \", n_correct)\n",
    "\n",
    "            val_acc = 100 * (n_correct / len(embeddings))\n",
    "\n",
    "            accuracy_history.append(val_acc)\n",
    "\n",
    "            print(f\"Validation accuracy: {val_acc:0.3f}%\")\n",
    "\n",
    "            print(\n",
    "                f\"Epoch {epoch+1}/{epochs}, Train Loss: {train_loss:.4f}, Valid Loss: {val_loss:.4f}\"\n",
    "            )\n",
    "            val_loss_history.append(val_loss)\n",
    "\n",
    "            if a:\n",
    "                special_embeddings_batch.append(embeddings)\n",
    "                a = False\n",
    "\n",
    "            # Save the model if validation loss is improved\n",
    "            if val_loss < best_val_loss:\n",
    "                best_val_loss = val_loss\n",
    "                torch.save(model.state_dict(), f\"{save_path}_{epoch+1}\")\n",
    "                print(\"Model saved with validation loss:\", best_val_loss)\n",
    "\n",
    "            embeddings = []\n",
    "            similarity_matrix = None\n",
    "    except KeyboardInterrupt:\n",
    "        # Save the model if validation loss is improved\n",
    "        if val_loss < best_val_loss:\n",
    "            best_val_loss = val_loss\n",
    "            torch.save(model.state_dict(), f\"{save_path}_{epoch+1}\")\n",
    "            print(\"Model saved with validation loss:\", best_val_loss)"
   ]
  },
  {
   "attachments": {},
   "cell_type": "markdown",
   "metadata": {},
   "source": [
    "### 2. Get model & train"
   ]
  },
  {
   "cell_type": "code",
   "execution_count": 46,
   "metadata": {},
   "outputs": [],
   "source": [
    "RESNET_VERSION = 50"
   ]
  },
  {
   "cell_type": "code",
   "execution_count": 47,
   "metadata": {},
   "outputs": [],
   "source": [
    "# import os\n",
    "\n",
    "# baseline = models.resnet50(pretrained=True)\n",
    "\n",
    "# baseline.fc = nn.Linear(2048, 910)\n",
    "\n",
    "# if os.path.exists(f\"models/baseline_resnet50.pt.pt\"):\n",
    "#     baseline.load_state_dict(torch.load(f\"models/baseline_resnet50.pt\"))\n",
    "\n",
    "# baseline.fc = torch.nn.Identity()\n",
    "# model = baseline"
   ]
  },
  {
   "cell_type": "code",
   "execution_count": 48,
   "metadata": {},
   "outputs": [],
   "source": [
    "import os\n",
    "\n",
    "if RESNET_VERSION == 50:\n",
    "    model = models.resnet50(pretrained=True)\n",
    "else:\n",
    "    model = models.resnet18(pretrained=True)\n",
    "\n",
    "\n",
    "# model = models.alexnet(pretrained=True)\n",
    "# model = models.maxvit_t(pretrained=True)\n",
    "model = models.squeezenet1_1(pretrained=True)\n",
    "\n",
    "model.classifier = torch.nn.Identity()\n",
    "\n",
    "n = 1024\n",
    "\n",
    "# if os.path.exists(f\"models/squeezenet_{n}.pt\"):\n",
    "#     model.load_state_dict(torch.load(f\"models/squeezenet_{n}.pt\"))\n",
    "# if os.path.exists(f\"models/TRIPLET_83.pt\"):\n",
    "#     model.load_state_dict(torch.load(f\"models/TRIPLET_83.pt\"))\n",
    "# print((f\"models/squeezenet_{n}.pt\"))"
   ]
  },
  {
   "cell_type": "code",
   "execution_count": 49,
   "metadata": {},
   "outputs": [],
   "source": [
    "# model = models.resnet50(pretrained=True)\n",
    "\n",
    "\n",
    "# model.fc = nn.Linear(2048, 910)\n",
    "\n",
    "# if os.path.exists(f\"models/baseline.pt\"):\n",
    "#     model.load_state_dict(torch.load(f\"models/baseline.pt\"))\n",
    "\n",
    "# model.fc = torch.nn.Identity()"
   ]
  },
  {
   "cell_type": "code",
   "execution_count": 50,
   "metadata": {},
   "outputs": [
    {
     "data": {
      "text/plain": [
       "torch.Size([3, 64, 64])"
      ]
     },
     "execution_count": 50,
     "metadata": {},
     "output_type": "execute_result"
    }
   ],
   "source": [
    "train_ds[0][0][0].shape"
   ]
  },
  {
   "cell_type": "code",
   "execution_count": 51,
   "metadata": {},
   "outputs": [],
   "source": [
    "import warnings\n",
    "\n",
    "warnings.filterwarnings(\"ignore\")"
   ]
  },
  {
   "cell_type": "code",
   "execution_count": 52,
   "metadata": {},
   "outputs": [],
   "source": [
    "LR = 1e-3\n",
    "\n",
    "n_epochs = 10\n",
    "\n",
    "# TODO: Fix margin\n",
    "criterion = torch.nn.TripletMarginLoss(margin=100, p=2)\n",
    "optimizer = torch.optim.Adam(model.parameters(), lr=LR)"
   ]
  },
  {
   "cell_type": "code",
   "execution_count": 53,
   "metadata": {},
   "outputs": [
    {
     "name": "stdout",
     "output_type": "stream",
     "text": [
      "Number of correct matches:  52464\n",
      "Validation accuracy: 74.949%\n",
      "Epoch 1/10, Train Loss: 56.2598, Valid Loss: 49.5050\n",
      "Model saved with validation loss: 49.504990612503384\n",
      "Number of correct matches:  52600\n",
      "Validation accuracy: 75.143%\n",
      "Epoch 2/10, Train Loss: 44.3527, Valid Loss: 45.4559\n",
      "Model saved with validation loss: 45.455854450699185\n",
      "Number of correct matches:  52998\n",
      "Validation accuracy: 75.711%\n",
      "Epoch 3/10, Train Loss: 39.0408, Valid Loss: 40.8267\n",
      "Model saved with validation loss: 40.82665078657387\n",
      "Number of correct matches:  53211\n",
      "Validation accuracy: 76.016%\n",
      "Epoch 4/10, Train Loss: 35.3571, Valid Loss: 37.8187\n",
      "Model saved with validation loss: 37.81874259196929\n",
      "Number of correct matches:  53510\n",
      "Validation accuracy: 76.443%\n",
      "Epoch 5/10, Train Loss: 32.5709, Valid Loss: 35.7468\n",
      "Model saved with validation loss: 35.74677232756232\n",
      "Number of correct matches:  53727\n",
      "Validation accuracy: 76.753%\n",
      "Epoch 6/10, Train Loss: 25.7237, Valid Loss: 31.1097\n",
      "Model saved with validation loss: 31.109651224456563\n",
      "Number of correct matches:  53748\n",
      "Validation accuracy: 76.783%\n",
      "Epoch 7/10, Train Loss: 23.8932, Valid Loss: 30.7268\n",
      "Model saved with validation loss: 30.726826918386195\n",
      "Number of correct matches:  53789\n",
      "Validation accuracy: 76.841%\n",
      "Epoch 8/10, Train Loss: 22.9077, Valid Loss: 30.4666\n",
      "Model saved with validation loss: 30.466577105278517\n",
      "Number of correct matches:  53845\n",
      "Validation accuracy: 76.921%\n",
      "Epoch 9/10, Train Loss: 22.0646, Valid Loss: 30.0949\n",
      "Model saved with validation loss: 30.09491933001219\n",
      "Number of correct matches:  53887\n",
      "Validation accuracy: 76.981%\n",
      "Epoch 10/10, Train Loss: 21.3267, Valid Loss: 30.5450\n"
     ]
    }
   ],
   "source": [
    "train(\n",
    "    model,\n",
    "    criterion,\n",
    "    optimizer,\n",
    "    train_dl,\n",
    "    eval_dl,\n",
    "    n_epochs,\n",
    "    f\"models/sqnet_{BATCH_SIZE}.pt\",\n",
    ")"
   ]
  },
  {
   "cell_type": "code",
   "execution_count": 54,
   "metadata": {},
   "outputs": [],
   "source": [
    "torch.save(model.state_dict(), \"models/sqnet3000\")"
   ]
  },
  {
   "cell_type": "code",
   "execution_count": 55,
   "metadata": {},
   "outputs": [],
   "source": [
    "# np.mean(sim_pos), np.mean(sim_neg), np.mean(sim_pn)\n",
    "# Take the diagonals of each input\n",
    "_sim_pos = []\n",
    "for a in sim_pos:\n",
    "    _sim_pos.extend(np.diag(a))\n",
    "\n",
    "_sim_neg = []\n",
    "for a in sim_neg:\n",
    "    _sim_neg.extend(np.diag(a))\n",
    "\n",
    "_sim_pn = []\n",
    "for a in sim_pn:\n",
    "    _sim_pn.extend(np.diag(a))"
   ]
  },
  {
   "cell_type": "code",
   "execution_count": 56,
   "metadata": {},
   "outputs": [
    {
     "data": {
      "text/plain": [
       "(0.96620154, 0.9359934, 0.93592006)"
      ]
     },
     "execution_count": 56,
     "metadata": {},
     "output_type": "execute_result"
    }
   ],
   "source": [
    "np.mean(_sim_pos), np.mean(_sim_neg), np.mean(_sim_pn)"
   ]
  },
  {
   "cell_type": "code",
   "execution_count": 57,
   "metadata": {},
   "outputs": [
    {
     "data": {
      "text/plain": [
       "0.9510974884033203"
      ]
     },
     "execution_count": 57,
     "metadata": {},
     "output_type": "execute_result"
    }
   ],
   "source": [
    "threshold = (np.mean(_sim_pos) + np.mean(_sim_neg)) / 2\n",
    "threshold"
   ]
  },
  {
   "cell_type": "code",
   "execution_count": 66,
   "metadata": {},
   "outputs": [
    {
     "data": {
      "text/plain": [
       "Text(0, 0.5, 'Similarity')"
      ]
     },
     "execution_count": 66,
     "metadata": {},
     "output_type": "execute_result"
    },
    {
     "data": {
      "image/png": "[encoded data removed]",
      "text/plain": [
       "<Figure size 640x480 with 1 Axes>"
      ]
     },
     "metadata": {},
     "output_type": "display_data"
    }
   ],
   "source": [
    "import matplotlib.pyplot as plt\n",
    "from scipy.ndimage import gaussian_filter\n",
    "\n",
    "plt.plot(gaussian_filter(_sim_pos, sigma=1), label=\"Positive similarity\", alpha=0.5)\n",
    "plt.plot(gaussian_filter(_sim_neg, sigma=1), label=\"Negative similarity\", alpha=0.5)\n",
    "# plt.plot(gaussian_filter([(a + b) / 2 for a, b in zip(_sim_pos, _sim_neg)], sigma=20), label=\"Actual mean\")\n",
    "plt.plot([threshold] * len(_sim_neg), label=\"Threshold\")\n",
    "# plt.ylim(0.55, 0.95)\n",
    "plt.legend(loc=\"lower left\")\n",
    "plt.xlabel(\"Triplet ID\")\n",
    "plt.ylabel(\"Similarity\")"
   ]
  },
  {
   "cell_type": "code",
   "execution_count": 59,
   "metadata": {},
   "outputs": [
    {
     "data": {
      "text/plain": [
       "2740"
      ]
     },
     "execution_count": 59,
     "metadata": {},
     "output_type": "execute_result"
    }
   ],
   "source": [
    "len(sim_pos)"
   ]
  },
  {
   "cell_type": "code",
   "execution_count": 60,
   "metadata": {},
   "outputs": [],
   "source": [
    "# import matplotlib.pyplot as plt\n",
    "\n",
    "# means = []\n",
    "# mins = []\n",
    "# maxs = []\n",
    "# medians = []\n",
    "# distances = []\n",
    "\n",
    "# special_embeddings_batch = np.array(special_embeddings_batch).squeeze()\n",
    "\n",
    "# for emb in special_embeddings_batch:\n",
    "#     if emb is None:\n",
    "#         continue\n",
    "#     means.append(np.mean(emb))\n",
    "#     mins.append(np.min(emb))\n",
    "#     maxs.append(np.max(emb))\n",
    "#     medians.append(np.median(emb))\n",
    "\n",
    "# subset = np.random.permutation(special_embeddings_batch[:10000])\n",
    "# subset = subset.squeeze()\n",
    "# print(subset.shape)\n",
    "\n",
    "# similarity_matrix = cosine_similarity(subset)\n",
    "\n",
    "# print(similarity_matrix)\n",
    "\n",
    "# plt.plot(means, label=\"mean\")\n",
    "# plt.plot(mins, label=\"min\")\n",
    "# plt.plot(medians, label=\"medians\")\n",
    "# plt.plot(maxs, label=\"max\")\n",
    "# plt.legend()"
   ]
  },
  {
   "cell_type": "code",
   "execution_count": 61,
   "metadata": {},
   "outputs": [],
   "source": [
    "# plt.title(\"Distances between emb1 and 10 other embeddings\")\n",
    "# plt.plot([i for i in range(100)], similarity_matrix[0][:100])\n",
    "# plt.ylim(0,1)"
   ]
  },
  {
   "cell_type": "code",
   "execution_count": 62,
   "metadata": {},
   "outputs": [
    {
     "data": {
      "text/plain": [
       "<matplotlib.legend.Legend at 0x1f570ace250>"
      ]
     },
     "execution_count": 62,
     "metadata": {},
     "output_type": "execute_result"
    },
    {
     "data": {
      "image/png": "[encoded data removed]",
      "text/plain": [
       "<Figure size 640x480 with 1 Axes>"
      ]
     },
     "metadata": {},
     "output_type": "display_data"
    }
   ],
   "source": [
    "import matplotlib.pyplot as plt\n",
    "\n",
    "\n",
    "plt.plot(loss_history, label=\"loss\")\n",
    "plt.plot(accuracy_history, label=\"accuracy\")\n",
    "plt.legend()"
   ]
  },
  {
   "cell_type": "code",
   "execution_count": 63,
   "metadata": {},
   "outputs": [
    {
     "data": {
      "text/plain": [
       "[31.67162322998047,\n",
       " 34.90308380126953,\n",
       " 28.825870513916016,\n",
       " 31.227670669555664,\n",
       " 34.48781204223633,\n",
       " 22.380962371826172,\n",
       " 33.16139602661133,\n",
       " 14.402746200561523,\n",
       " 17.249547958374023,\n",
       " 10.699951171875]"
      ]
     },
     "execution_count": 63,
     "metadata": {},
     "output_type": "execute_result"
    }
   ],
   "source": [
    "loss_history"
   ]
  },
  {
   "cell_type": "code",
   "execution_count": 64,
   "metadata": {},
   "outputs": [
    {
     "data": {
      "text/plain": [
       "[49.504990612503384,\n",
       " 45.455854450699185,\n",
       " 40.82665078657387,\n",
       " 37.81874259196929,\n",
       " 35.74677232756232,\n",
       " 31.109651224456563,\n",
       " 30.726826918386195,\n",
       " 30.466577105278517,\n",
       " 30.09491933001219,\n",
       " 30.545008206889577]"
      ]
     },
     "execution_count": 64,
     "metadata": {},
     "output_type": "execute_result"
    }
   ],
   "source": [
    "val_loss_history"
   ]
  },
  {
   "cell_type": "code",
   "execution_count": 92,
   "metadata": {},
   "outputs": [
    {
     "data": {
      "image/png": "[encoded data removed]",
      "text/plain": [
       "<Figure size 640x480 with 2 Axes>"
      ]
     },
     "metadata": {},
     "output_type": "display_data"
    }
   ],
   "source": [
    "import matplotlib.pyplot as plt\n",
    "\n",
    "epoch_cutoff = np.argmin(loss_history)\n",
    "epoch_cutoff = 10\n",
    "\n",
    "# Create a figure and primary y-axis\n",
    "fig, ax1 = plt.subplots()\n",
    "# loss_history[0] = 50\n",
    "\n",
    "# Plot data on the primary y-axis\n",
    "accuracy_history = list(map(lambda x: x - 0.1, accuracy_history))\n",
    "ax1.plot(val_loss_history[:epoch_cutoff], color=\"blue\", label=\"Training loss\")\n",
    "# ax1.plot(loss_history[:epoch_cutoff], color='blue', label='Training loss')\n",
    "ax1.set_ylabel(\"Training loss\", color=\"blue\")\n",
    "# ax1.set_ylim(0, max(val_losses) + 1)\n",
    "\n",
    "# Create a secondary y-axis\n",
    "ax2 = ax1.twinx()\n",
    "# ax2.set_ylim(0, 100)\n",
    "\n",
    "# Plot data on the secondary y-axis\n",
    "ax2.plot(accuracy_history[:epoch_cutoff], color=\"red\", label=\"Validation accuracy\")\n",
    "ax2.set_ylabel(\"Validation accuracy [%]\", color=\"red\")\n",
    "\n",
    "# Add legend\n",
    "ax1.legend(loc=\"upper left\")\n",
    "ax2.legend(loc=\"upper right\")\n",
    "ax1.set_xlabel(\"Epoch\")\n",
    "ax1.set_xticks([2 * i for i in range(epoch_cutoff // 2)])\n",
    "# Show plot\n",
    "plt.show()"
   ]
  },
  {
   "cell_type": "code",
   "execution_count": 93,
   "metadata": {},
   "outputs": [],
   "source": [
    "np.save(\"sqnet1024_accuracy_history.npy\", accuracy_history)\n",
    "np.save(\"sqnet1024_validation_loss.npy\", val_loss_history)\n",
    "np.save(\"sqnet1024_train_loss.npy\", loss_history)"
   ]
  }
 ],
 "metadata": {
  "kernelspec": {
   "display_name": "torch",
   "language": "python",
   "name": "python3"
  },
  "language_info": {
   "codemirror_mode": {
    "name": "ipython",
    "version": 3
   },
   "file_extension": ".py",
   "mimetype": "text/x-python",
   "name": "python",
   "nbconvert_exporter": "python",
   "pygments_lexer": "ipython3",
   "version": "3.11.5"
  },
  "orig_nbformat": 4
 },
 "nbformat": 4,
 "nbformat_minor": 2
}

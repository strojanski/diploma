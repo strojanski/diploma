{
 "cells": [
  {
   "cell_type": "code",
   "execution_count": 221,
   "metadata": {},
   "outputs": [],
   "source": [
    "# import matplotlib.pyplot as plt\n",
    "import numpy as np\n",
    "import torch\n",
    "import torchvision.models as models\n",
    "from PIL import Image\n",
    "from sklearn.metrics import accuracy_score, precision_score\n",
    "from torch import nn\n",
    "from torchvision import transforms as T\n",
    "import torchvision.models as models\n",
    "\n",
    "from torch.utils.data import DataLoader"
   ]
  },
  {
   "cell_type": "code",
   "execution_count": 222,
   "metadata": {},
   "outputs": [
    {
     "data": {
      "text/plain": [
       "device(type='cuda')"
      ]
     },
     "execution_count": 222,
     "metadata": {},
     "output_type": "execute_result"
    }
   ],
   "source": [
    "device = torch.device(\"cuda\" if torch.cuda.is_available() else \"cpu\")\n",
    "device"
   ]
  },
  {
   "attachments": {},
   "cell_type": "markdown",
   "metadata": {},
   "source": [
    "### 1. Load dataloaders"
   ]
  },
  {
   "cell_type": "code",
   "execution_count": 223,
   "metadata": {},
   "outputs": [],
   "source": [
    "from triplet_dataset import TripletDataset"
   ]
  },
  {
   "cell_type": "code",
   "execution_count": 224,
   "metadata": {},
   "outputs": [],
   "source": [
    "train_ds = torch.load(\"data/train_dataset.pt\")\n",
    "eval_ds = torch.load(\"data/eval_dataset.pt\")"
   ]
  },
  {
   "cell_type": "code",
   "execution_count": 225,
   "metadata": {},
   "outputs": [],
   "source": [
    "# train_ds.reshuffle()\n",
    "# eval_ds.reshuffle()"
   ]
  },
  {
   "cell_type": "code",
   "execution_count": 226,
   "metadata": {},
   "outputs": [
    {
     "data": {
      "text/plain": [
       "(52270, 52270, 52270)"
      ]
     },
     "execution_count": 226,
     "metadata": {},
     "output_type": "execute_result"
    }
   ],
   "source": [
    "len(eval_ds.data), len(eval_ds.labels), len(eval_ds.triplets)"
   ]
  },
  {
   "cell_type": "code",
   "execution_count": 227,
   "metadata": {},
   "outputs": [],
   "source": [
    "eval_set_size = len(eval_ds)\n",
    "eval_set_size = 35_000"
   ]
  },
  {
   "cell_type": "code",
   "execution_count": 228,
   "metadata": {},
   "outputs": [],
   "source": [
    "eval_ds.data = eval_ds.data[:eval_set_size]\n",
    "eval_ds.labels = eval_ds.labels[:eval_set_size]\n",
    "eval_ds.triplets = eval_ds.triplets[:eval_set_size]"
   ]
  },
  {
   "cell_type": "code",
   "execution_count": 229,
   "metadata": {},
   "outputs": [],
   "source": [
    "def get_majority(ds, get_value_counts=False):\n",
    "    \"\"\"Returns accuracy of the majority classifier\"\"\"\n",
    "    # Get the labels from the dataset\n",
    "    labels = [ys[0] for Xs, ys in ds.triplets]\n",
    "    \n",
    "    # Calculate the majority class label and its count\n",
    "    majority_class = np.argmax(np.bincount(labels))\n",
    "    majority_class_count = np.sum(labels == majority_class)\n",
    "    \n",
    "    # Calculate the accuracy of the majority classifier\n",
    "    accuracy = majority_class_count / len(labels)\n",
    "    \n",
    "    if get_value_counts:\n",
    "        return majority_class, accuracy, np.bincount(labels)\n",
    "    \n",
    "    return majority_class, accuracy"
   ]
  },
  {
   "cell_type": "code",
   "execution_count": 230,
   "metadata": {},
   "outputs": [],
   "source": [
    "# print(get_majority(train_ds))\n",
    "# print(get_majority(eval_ds, get_value_counts=True))"
   ]
  },
  {
   "cell_type": "code",
   "execution_count": 231,
   "metadata": {},
   "outputs": [
    {
     "data": {
      "text/plain": [
       "(35000, 35000, 35000)"
      ]
     },
     "execution_count": 231,
     "metadata": {},
     "output_type": "execute_result"
    }
   ],
   "source": [
    "len(eval_ds.data), len(eval_ds.labels), len(eval_ds.triplets)"
   ]
  },
  {
   "cell_type": "code",
   "execution_count": 232,
   "metadata": {},
   "outputs": [],
   "source": [
    "BATCH_SIZE = 128\n",
    "\n",
    "train_dl = DataLoader(train_ds, batch_size=BATCH_SIZE, shuffle=True)\n",
    "eval_dl = DataLoader(eval_ds, batch_size=BATCH_SIZE, shuffle=True)"
   ]
  },
  {
   "cell_type": "code",
   "execution_count": 233,
   "metadata": {},
   "outputs": [],
   "source": [
    "special_embeddings_batch = []"
   ]
  },
  {
   "cell_type": "code",
   "execution_count": 234,
   "metadata": {},
   "outputs": [],
   "source": [
    "def min_max_normalize_batch(batch):\n",
    "    min_vals = np.min(batch, axis=1, keepdims=True)\n",
    "    max_vals = np.max(batch, axis=1, keepdims=True)\n",
    "    normalized_batch = (batch - min_vals) / (max_vals - min_vals)\n",
    "    return normalized_batch"
   ]
  },
  {
   "cell_type": "code",
   "execution_count": 235,
   "metadata": {},
   "outputs": [],
   "source": [
    "\n",
    "from sklearn.metrics.pairwise import cosine_similarity\n",
    "\n",
    "\n",
    "loss_history = []\n",
    "val_loss_history = []\n",
    "accuracy_history = []\n",
    "sim_pos, sim_neg, sim_pn = [], [], []\n",
    "\n",
    "def train(model, criterion, optimizer, train_loader, valid_loader, epochs, save_path=\"models/model\"):\n",
    "    a = True\n",
    "    best_val_loss = float('inf')  # Initialize with infinity\n",
    "    \n",
    "    model = model.to(device)\n",
    "    scheduler = torch.optim.lr_scheduler.ReduceLROnPlateau(optimizer, mode='min', factor=0.1, patience=3, verbose=True, cooldown=100)    \n",
    "    \n",
    "    try:\n",
    "        for epoch in range(epochs):\n",
    "            # Training loop\n",
    "            # model.train()\n",
    "            # train_loss = 0.0\n",
    "            # val_loss = 0\n",
    "            \n",
    "            # for inputs, labels in train_loader:\n",
    "                \n",
    "            #     input_anchor, input_pos, input_neg = inputs\n",
    "            #     # label_anchor, label_pos, label_neg = labels\n",
    "                \n",
    "            #     input_anchor = input_anchor.to(device)\n",
    "            #     input_pos = input_pos.to(device)\n",
    "            #     input_neg = input_neg.to(device)\n",
    "                \n",
    "            #     emb_anchor = model(input_anchor)\n",
    "            #     emb_pos = model(input_pos)\n",
    "            #     emb_neg = model(input_neg)\n",
    "                \n",
    "            #     loss = criterion(emb_anchor, emb_pos, emb_neg)\n",
    "            #     loss.backward()\n",
    "            #     optimizer.step()\n",
    "            #     optimizer.zero_grad()\n",
    "                \n",
    "            #     train_loss += loss.item()\n",
    "                \n",
    "            # loss_history.append(loss.item())    \n",
    "            \n",
    "            # scheduler.step(val_loss)\n",
    "            \n",
    "            # Validation loop\n",
    "            model.eval()\n",
    "            val_loss = 0\n",
    "            \n",
    "            embeddings = []\n",
    "            targets = []\n",
    "            \n",
    "            count  = 0\n",
    "            with torch.no_grad():\n",
    "                for inputs, labels in valid_loader: # TODO back  to  valid_loader\n",
    "                    # count += 1\n",
    "                    \n",
    "                    # if count > (35_000 / BATCH_SIZE):\n",
    "                    #     break\n",
    "                    \n",
    "                    input_anchor, input_pos, input_neg = inputs\n",
    "                    label_anchor, label_pos, label_neg = labels\n",
    "                    \n",
    "                    batch_emb, batch_lab = [], []\n",
    "                    \n",
    "                    input_anchor = input_anchor.to(device)\n",
    "                    input_pos = input_pos.to(device)\n",
    "                    input_neg = input_neg.to(device)\n",
    "                    \n",
    "                    emb_anchor = model(input_anchor)\n",
    "                    emb_pos = model(input_pos)\n",
    "                    emb_neg = model(input_neg)\n",
    "                    \n",
    "                    sim_pos.append(cosine_similarity(emb_anchor.clone().cpu(), emb_pos.clone().cpu()))\n",
    "                    sim_neg.append(cosine_similarity(emb_anchor.clone().cpu(), emb_neg.clone().cpu()))\n",
    "                    sim_pn.append(cosine_similarity(emb_pos.clone().cpu(), emb_neg.clone().cpu()))\n",
    "                    \n",
    "                    # embeddings.extend(emb_anchor)\n",
    "                    batch_emb.extend(emb_pos.cpu())\n",
    "                    batch_emb.extend(emb_neg.cpu())\n",
    "                    \n",
    "                    # labels.extend(label_anchor)\n",
    "                    batch_lab.extend(label_pos.cpu().tolist())\n",
    "                    batch_lab.extend(label_neg.cpu().tolist())\n",
    "                    \n",
    "                    embeddings.extend(batch_emb)\n",
    "                    targets.extend(batch_lab)\n",
    "                    \n",
    "                    \n",
    "                    loss = criterion(emb_anchor, emb_pos, emb_neg)\n",
    "                    val_loss += loss.item()\n",
    "            \n",
    "            # Average losses\n",
    "            # train_loss /= len(train_loader)\n",
    "            train_loss = 0\n",
    "            val_loss /= len(valid_loader)\n",
    "            \n",
    "            for i in range(len(embeddings)):\n",
    "                embeddings[i] = embeddings[i].detach().numpy()\n",
    "                \n",
    "            embeddings = np.array(embeddings)        \n",
    "            targets = np.array(targets)\n",
    "            \n",
    "            # Min max normalize embeddings\n",
    "            embeddings = min_max_normalize_batch(embeddings)\n",
    "            \n",
    "            # Get cosine similarity for all embeddings\n",
    "            similarity_matrix = cosine_similarity(embeddings)\n",
    "            \n",
    "            # Fill diagonal with inf\n",
    "            np.fill_diagonal(similarity_matrix, -np.inf)\n",
    "            \n",
    "            # Find the index of max sim for each embedding\n",
    "            most_similar_indices = np.argmax(similarity_matrix, axis=1)\n",
    "            \n",
    "            # Extract the labels of the most similar items\n",
    "            predicted_labels = [targets[i] for i in most_similar_indices]\n",
    "            \n",
    "            # Get number of correct predictions\n",
    "            # n_correct = sum(1 for true_label, predicted_label in zip(labels, predicted_labels) if true_label == predicted_label)\n",
    "            n_correct = sum(1 for true, pred in zip(targets, predicted_labels) if true == pred)\n",
    "            \n",
    "            print(\"Number of correct matches: \", n_correct)\n",
    "\n",
    "            val_acc = 100 * (n_correct / len(embeddings))\n",
    "\n",
    "            accuracy_history.append(val_acc)\n",
    "            \n",
    "            print(f\"Validation accuracy: {val_acc:0.3f}%\")\n",
    "            \n",
    "            print(f'Epoch {epoch+1}/{epochs}, Train Loss: {train_loss:.4f}, Valid Loss: {val_loss:.4f}')\n",
    "            val_loss_history.append(val_loss)\n",
    "            \n",
    "            if a:\n",
    "                special_embeddings_batch.append(embeddings)\n",
    "                a = False\n",
    "            \n",
    "            # Save the model if validation loss is improved\n",
    "            if val_loss < best_val_loss:\n",
    "                best_val_loss = val_loss\n",
    "                torch.save(model.state_dict(), f\"{save_path}_{epoch+1}\")\n",
    "                print(\"Model saved with validation loss:\", best_val_loss)\n",
    "            \n",
    "            embeddings = []\n",
    "            similarity_matrix = None\n",
    "    except KeyboardInterrupt:\n",
    "        # Save the model if validation loss is improved\n",
    "        if val_loss < best_val_loss:\n",
    "            best_val_loss = val_loss\n",
    "            torch.save(model.state_dict(), f\"{save_path}_{epoch+1}\")\n",
    "            print(\"Model saved with validation loss:\", best_val_loss)"
   ]
  },
  {
   "attachments": {},
   "cell_type": "markdown",
   "metadata": {},
   "source": [
    "### 2. Get model & train"
   ]
  },
  {
   "cell_type": "code",
   "execution_count": 236,
   "metadata": {},
   "outputs": [],
   "source": [
    "RESNET_VERSION = 50"
   ]
  },
  {
   "cell_type": "code",
   "execution_count": 237,
   "metadata": {},
   "outputs": [],
   "source": [
    "# import os\n",
    "\n",
    "# baseline = models.resnet50(pretrained=True)\n",
    "    \n",
    "# baseline.fc = nn.Linear(2048, 910)\n",
    "    \n",
    "# if os.path.exists(f\"models/baseline_resnet50.pt.pt\"):\n",
    "#     baseline.load_state_dict(torch.load(f\"models/baseline_resnet50.pt\"))\n",
    "\n",
    "# baseline.fc = torch.nn.Identity()\n",
    "# model = baseline"
   ]
  },
  {
   "cell_type": "code",
   "execution_count": 238,
   "metadata": {},
   "outputs": [],
   "source": [
    "import os\n",
    "\n",
    "if RESNET_VERSION == 50:\n",
    "    model = models.resnet50(pretrained=True)\n",
    "else:\n",
    "    model = models.resnet18(pretrained=True)\n",
    "    \n",
    "    \n",
    "# model = models.alexnet(pretrained=True)\n",
    "# model = models.maxvit_t(pretrained=True)\n",
    "model = models.squeezenet1_1(pretrained=True)\n",
    "\n",
    "model.classifier = torch.nn.Identity()\n",
    "\n",
    "n = 256\n",
    "\n",
    "# if os.path.exists(f\"models/squeezenet_{n}.pt\"):\n",
    "#     model.load_state_dict(torch.load(f\"models/squeezenet_{n}.pt\"))\n",
    "if os.path.exists(f\"models/TRIPLET_83.pt\"):\n",
    "    model.load_state_dict(torch.load(f\"models/TRIPLET_83.pt\"))\n",
    "# print((f\"models/squeezenet_{n}.pt\"))"
   ]
  },
  {
   "cell_type": "code",
   "execution_count": 239,
   "metadata": {},
   "outputs": [],
   "source": [
    "\n",
    "model = models.resnet50(pretrained=True)\n",
    "\n",
    "    \n",
    "model.fc = nn.Linear(2048, 910)\n",
    "    \n",
    "if os.path.exists(f\"models/baseline.pt\"):\n",
    "    model.load_state_dict(torch.load(f\"models/baseline.pt\"))\n",
    "\n",
    "model.fc = torch.nn.Identity()"
   ]
  },
  {
   "cell_type": "code",
   "execution_count": 240,
   "metadata": {},
   "outputs": [
    {
     "data": {
      "text/plain": [
       "torch.Size([3, 64, 64])"
      ]
     },
     "execution_count": 240,
     "metadata": {},
     "output_type": "execute_result"
    }
   ],
   "source": [
    "train_ds[0][0][0].shape"
   ]
  },
  {
   "cell_type": "code",
   "execution_count": 241,
   "metadata": {},
   "outputs": [],
   "source": [
    "import warnings\n",
    "\n",
    "warnings.filterwarnings(\"ignore\")"
   ]
  },
  {
   "cell_type": "code",
   "execution_count": 242,
   "metadata": {},
   "outputs": [],
   "source": [
    "LR = 1e-3\n",
    "\n",
    "n_epochs = 1\n",
    "\n",
    "# TODO: Fix margin\n",
    "criterion = torch.nn.TripletMarginLoss(margin=10000, p=2) \n",
    "optimizer = torch.optim.Adam(model.parameters(), lr=LR)"
   ]
  },
  {
   "cell_type": "code",
   "execution_count": 243,
   "metadata": {},
   "outputs": [
    {
     "name": "stdout",
     "output_type": "stream",
     "text": [
      "Number of correct matches:  67002\n",
      "Validation accuracy: 95.717%\n",
      "Epoch 1/1, Train Loss: 0.0000, Valid Loss: 9991.9769\n",
      "Model saved with validation loss: 9991.976886832801\n"
     ]
    }
   ],
   "source": [
    "train(model, criterion, optimizer, train_dl, eval_dl, n_epochs, f\"models/sqnet_{BATCH_SIZE}.pt\")"
   ]
  },
  {
   "cell_type": "code",
   "execution_count": 244,
   "metadata": {},
   "outputs": [],
   "source": [
    "torch.save(model.state_dict(), \"models/sqnet3000\")"
   ]
  },
  {
   "cell_type": "code",
   "execution_count": 245,
   "metadata": {},
   "outputs": [],
   "source": [
    "# np.mean(sim_pos), np.mean(sim_neg), np.mean(sim_pn)\n",
    "# Take the diagonals of each input\n",
    "_sim_pos = []\n",
    "for a in sim_pos:\n",
    "    _sim_pos.extend(np.diag(a))\n",
    "\n",
    "_sim_neg = []\n",
    "for a in sim_neg:\n",
    "    _sim_neg.extend(np.diag(a))\n",
    "    \n",
    "_sim_pn = []\n",
    "for a in sim_pn:\n",
    "    _sim_pn.extend(np.diag(a))"
   ]
  },
  {
   "cell_type": "code",
   "execution_count": 246,
   "metadata": {},
   "outputs": [
    {
     "data": {
      "text/plain": [
       "(0.6644929, 0.46024752, 0.46046638)"
      ]
     },
     "execution_count": 246,
     "metadata": {},
     "output_type": "execute_result"
    }
   ],
   "source": [
    "np.mean(_sim_pos), np.mean(_sim_neg), np.mean(_sim_pn)"
   ]
  },
  {
   "cell_type": "code",
   "execution_count": 247,
   "metadata": {},
   "outputs": [
    {
     "data": {
      "text/plain": [
       "0.5623701810836792"
      ]
     },
     "execution_count": 247,
     "metadata": {},
     "output_type": "execute_result"
    }
   ],
   "source": [
    "threshold = (np.mean(_sim_pos) + np.mean(_sim_neg)) / 2\n",
    "threshold"
   ]
  },
  {
   "cell_type": "code",
   "execution_count": 248,
   "metadata": {},
   "outputs": [
    {
     "data": {
      "text/plain": [
       "Text(0, 0.5, 'Similarity')"
      ]
     },
     "execution_count": 248,
     "metadata": {},
     "output_type": "execute_result"
    },
    {
     "data": {
      "image/png": "[encoded data removed]",
      "text/plain": [
       "<Figure size 640x480 with 1 Axes>"
      ]
     },
     "metadata": {},
     "output_type": "display_data"
    }
   ],
   "source": [
    "import matplotlib.pyplot as plt\n",
    "from scipy.ndimage import gaussian_filter\n",
    "\n",
    "plt.plot(gaussian_filter(_sim_pos, sigma=1), label=\"Positive similarity\", alpha=.5)\n",
    "plt.plot(gaussian_filter(_sim_neg, sigma=1), label=\"Negative similarity\", alpha=.5)\n",
    "# plt.plot(gaussian_filter([(a + b) / 2 for a, b in zip(_sim_pos, _sim_neg)], sigma=20), label=\"Actual mean\")\n",
    "plt.plot([threshold] * len(_sim_neg), label=\"Threshold\")\n",
    "plt.ylim(0.55, 0.95)\n",
    "plt.legend(loc=\"lower left\")\n",
    "plt.xlabel(\"Triplet ID\")\n",
    "plt.ylabel(\"Similarity\")\n"
   ]
  },
  {
   "cell_type": "code",
   "execution_count": 249,
   "metadata": {},
   "outputs": [
    {
     "data": {
      "text/plain": [
       "274"
      ]
     },
     "execution_count": 249,
     "metadata": {},
     "output_type": "execute_result"
    }
   ],
   "source": [
    "len(sim_pos)"
   ]
  },
  {
   "cell_type": "code",
   "execution_count": 250,
   "metadata": {},
   "outputs": [],
   "source": [
    "# import matplotlib.pyplot as plt\n",
    "\n",
    "# means = []\n",
    "# mins = []\n",
    "# maxs = []\n",
    "# medians = []\n",
    "# distances = []\n",
    "\n",
    "# special_embeddings_batch = np.array(special_embeddings_batch).squeeze()\n",
    "\n",
    "# for emb in special_embeddings_batch:\n",
    "#     if emb is None:\n",
    "#         continue\n",
    "#     means.append(np.mean(emb))\n",
    "#     mins.append(np.min(emb))\n",
    "#     maxs.append(np.max(emb))\n",
    "#     medians.append(np.median(emb))\n",
    "    \n",
    "# subset = np.random.permutation(special_embeddings_batch[:10000])\n",
    "# subset = subset.squeeze()\n",
    "# print(subset.shape)\n",
    "\n",
    "# similarity_matrix = cosine_similarity(subset)\n",
    "\n",
    "# print(similarity_matrix)\n",
    "\n",
    "# plt.plot(means, label=\"mean\")\n",
    "# plt.plot(mins, label=\"min\")\n",
    "# plt.plot(medians, label=\"medians\")\n",
    "# plt.plot(maxs, label=\"max\")\n",
    "# plt.legend()\n"
   ]
  },
  {
   "cell_type": "code",
   "execution_count": 251,
   "metadata": {},
   "outputs": [],
   "source": [
    "# plt.title(\"Distances between emb1 and 10 other embeddings\")\n",
    "# plt.plot([i for i in range(100)], similarity_matrix[0][:100])\n",
    "# plt.ylim(0,1)\n"
   ]
  },
  {
   "cell_type": "code",
   "execution_count": 252,
   "metadata": {},
   "outputs": [
    {
     "data": {
      "text/plain": [
       "<matplotlib.legend.Legend at 0x1a86c3676d0>"
      ]
     },
     "execution_count": 252,
     "metadata": {},
     "output_type": "execute_result"
    },
    {
     "data": {
      "image/png": "[encoded data removed]",
      "text/plain": [
       "<Figure size 640x480 with 1 Axes>"
      ]
     },
     "metadata": {},
     "output_type": "display_data"
    }
   ],
   "source": [
    "import matplotlib.pyplot as plt\n",
    "\n",
    "\n",
    "plt.plot(loss_history, label=\"loss\")\n",
    "plt.plot(accuracy_history, label=\"accuracy\") \n",
    "plt.legend()"
   ]
  },
  {
   "cell_type": "code",
   "execution_count": 253,
   "metadata": {},
   "outputs": [],
   "source": [
    "val_losses = [99.5542,98.5022,95.2130,98.5903,98.8151,97.7996,98.3577,98.3070,98.8736,98.4011]"
   ]
  },
  {
   "cell_type": "code",
   "execution_count": 254,
   "metadata": {},
   "outputs": [
    {
     "data": {
      "text/plain": [
       "[]"
      ]
     },
     "execution_count": 254,
     "metadata": {},
     "output_type": "execute_result"
    }
   ],
   "source": [
    "loss_history"
   ]
  },
  {
   "cell_type": "code",
   "execution_count": 255,
   "metadata": {},
   "outputs": [
    {
     "data": {
      "text/plain": [
       "[9991.976886832801]"
      ]
     },
     "execution_count": 255,
     "metadata": {},
     "output_type": "execute_result"
    }
   ],
   "source": [
    "val_loss_history    "
   ]
  },
  {
   "cell_type": "code",
   "execution_count": 256,
   "metadata": {},
   "outputs": [
    {
     "ename": "ValueError",
     "evalue": "attempt to get argmin of an empty sequence",
     "output_type": "error",
     "traceback": [
      "\u001b[1;31m---------------------------------------------------------------------------\u001b[0m",
      "\u001b[1;31mValueError\u001b[0m                                Traceback (most recent call last)",
      "Cell \u001b[1;32mIn[256], line 3\u001b[0m\n\u001b[0;32m      1\u001b[0m \u001b[38;5;28;01mimport\u001b[39;00m \u001b[38;5;21;01mmatplotlib\u001b[39;00m\u001b[38;5;21;01m.\u001b[39;00m\u001b[38;5;21;01mpyplot\u001b[39;00m \u001b[38;5;28;01mas\u001b[39;00m \u001b[38;5;21;01mplt\u001b[39;00m\n\u001b[1;32m----> 3\u001b[0m epoch_cutoff \u001b[38;5;241m=\u001b[39m \u001b[43mnp\u001b[49m\u001b[38;5;241;43m.\u001b[39;49m\u001b[43margmin\u001b[49m\u001b[43m(\u001b[49m\u001b[43mloss_history\u001b[49m\u001b[43m)\u001b[49m\n\u001b[0;32m      4\u001b[0m epoch_cutoff \u001b[38;5;241m=\u001b[39m \u001b[38;5;241m10\u001b[39m\n\u001b[0;32m      6\u001b[0m \u001b[38;5;66;03m# Create a figure and primary y-axis\u001b[39;00m\n",
      "File \u001b[1;32mc:\\Users\\sebas\\miniconda3\\Lib\\site-packages\\numpy\\core\\fromnumeric.py:1325\u001b[0m, in \u001b[0;36margmin\u001b[1;34m(a, axis, out, keepdims)\u001b[0m\n\u001b[0;32m   1238\u001b[0m \u001b[38;5;250m\u001b[39m\u001b[38;5;124;03m\"\"\"\u001b[39;00m\n\u001b[0;32m   1239\u001b[0m \u001b[38;5;124;03mReturns the indices of the minimum values along an axis.\u001b[39;00m\n\u001b[0;32m   1240\u001b[0m \n\u001b[1;32m   (...)\u001b[0m\n\u001b[0;32m   1322\u001b[0m \u001b[38;5;124;03m(2, 1, 4)\u001b[39;00m\n\u001b[0;32m   1323\u001b[0m \u001b[38;5;124;03m\"\"\"\u001b[39;00m\n\u001b[0;32m   1324\u001b[0m kwds \u001b[38;5;241m=\u001b[39m {\u001b[38;5;124m'\u001b[39m\u001b[38;5;124mkeepdims\u001b[39m\u001b[38;5;124m'\u001b[39m: keepdims} \u001b[38;5;28;01mif\u001b[39;00m keepdims \u001b[38;5;129;01mis\u001b[39;00m \u001b[38;5;129;01mnot\u001b[39;00m np\u001b[38;5;241m.\u001b[39m_NoValue \u001b[38;5;28;01melse\u001b[39;00m {}\n\u001b[1;32m-> 1325\u001b[0m \u001b[38;5;28;01mreturn\u001b[39;00m \u001b[43m_wrapfunc\u001b[49m\u001b[43m(\u001b[49m\u001b[43ma\u001b[49m\u001b[43m,\u001b[49m\u001b[43m \u001b[49m\u001b[38;5;124;43m'\u001b[39;49m\u001b[38;5;124;43margmin\u001b[39;49m\u001b[38;5;124;43m'\u001b[39;49m\u001b[43m,\u001b[49m\u001b[43m \u001b[49m\u001b[43maxis\u001b[49m\u001b[38;5;241;43m=\u001b[39;49m\u001b[43maxis\u001b[49m\u001b[43m,\u001b[49m\u001b[43m \u001b[49m\u001b[43mout\u001b[49m\u001b[38;5;241;43m=\u001b[39;49m\u001b[43mout\u001b[49m\u001b[43m,\u001b[49m\u001b[43m \u001b[49m\u001b[38;5;241;43m*\u001b[39;49m\u001b[38;5;241;43m*\u001b[39;49m\u001b[43mkwds\u001b[49m\u001b[43m)\u001b[49m\n",
      "File \u001b[1;32mc:\\Users\\sebas\\miniconda3\\Lib\\site-packages\\numpy\\core\\fromnumeric.py:56\u001b[0m, in \u001b[0;36m_wrapfunc\u001b[1;34m(obj, method, *args, **kwds)\u001b[0m\n\u001b[0;32m     54\u001b[0m bound \u001b[38;5;241m=\u001b[39m \u001b[38;5;28mgetattr\u001b[39m(obj, method, \u001b[38;5;28;01mNone\u001b[39;00m)\n\u001b[0;32m     55\u001b[0m \u001b[38;5;28;01mif\u001b[39;00m bound \u001b[38;5;129;01mis\u001b[39;00m \u001b[38;5;28;01mNone\u001b[39;00m:\n\u001b[1;32m---> 56\u001b[0m     \u001b[38;5;28;01mreturn\u001b[39;00m \u001b[43m_wrapit\u001b[49m\u001b[43m(\u001b[49m\u001b[43mobj\u001b[49m\u001b[43m,\u001b[49m\u001b[43m \u001b[49m\u001b[43mmethod\u001b[49m\u001b[43m,\u001b[49m\u001b[43m \u001b[49m\u001b[38;5;241;43m*\u001b[39;49m\u001b[43margs\u001b[49m\u001b[43m,\u001b[49m\u001b[43m \u001b[49m\u001b[38;5;241;43m*\u001b[39;49m\u001b[38;5;241;43m*\u001b[39;49m\u001b[43mkwds\u001b[49m\u001b[43m)\u001b[49m\n\u001b[0;32m     58\u001b[0m \u001b[38;5;28;01mtry\u001b[39;00m:\n\u001b[0;32m     59\u001b[0m     \u001b[38;5;28;01mreturn\u001b[39;00m bound(\u001b[38;5;241m*\u001b[39margs, \u001b[38;5;241m*\u001b[39m\u001b[38;5;241m*\u001b[39mkwds)\n",
      "File \u001b[1;32mc:\\Users\\sebas\\miniconda3\\Lib\\site-packages\\numpy\\core\\fromnumeric.py:45\u001b[0m, in \u001b[0;36m_wrapit\u001b[1;34m(obj, method, *args, **kwds)\u001b[0m\n\u001b[0;32m     43\u001b[0m \u001b[38;5;28;01mexcept\u001b[39;00m \u001b[38;5;167;01mAttributeError\u001b[39;00m:\n\u001b[0;32m     44\u001b[0m     wrap \u001b[38;5;241m=\u001b[39m \u001b[38;5;28;01mNone\u001b[39;00m\n\u001b[1;32m---> 45\u001b[0m result \u001b[38;5;241m=\u001b[39m \u001b[38;5;28;43mgetattr\u001b[39;49m\u001b[43m(\u001b[49m\u001b[43masarray\u001b[49m\u001b[43m(\u001b[49m\u001b[43mobj\u001b[49m\u001b[43m)\u001b[49m\u001b[43m,\u001b[49m\u001b[43m \u001b[49m\u001b[43mmethod\u001b[49m\u001b[43m)\u001b[49m\u001b[43m(\u001b[49m\u001b[38;5;241;43m*\u001b[39;49m\u001b[43margs\u001b[49m\u001b[43m,\u001b[49m\u001b[43m \u001b[49m\u001b[38;5;241;43m*\u001b[39;49m\u001b[38;5;241;43m*\u001b[39;49m\u001b[43mkwds\u001b[49m\u001b[43m)\u001b[49m\n\u001b[0;32m     46\u001b[0m \u001b[38;5;28;01mif\u001b[39;00m wrap:\n\u001b[0;32m     47\u001b[0m     \u001b[38;5;28;01mif\u001b[39;00m \u001b[38;5;129;01mnot\u001b[39;00m \u001b[38;5;28misinstance\u001b[39m(result, mu\u001b[38;5;241m.\u001b[39mndarray):\n",
      "\u001b[1;31mValueError\u001b[0m: attempt to get argmin of an empty sequence"
     ]
    }
   ],
   "source": [
    "import matplotlib.pyplot as plt\n",
    "\n",
    "epoch_cutoff = np.argmin(loss_history)\n",
    "epoch_cutoff = 10\n",
    "\n",
    "# Create a figure and primary y-axis\n",
    "fig, ax1 = plt.subplots()\n",
    "# loss_history[0] = 50\n",
    "\n",
    "# Plot data on the primary y-axis\n",
    "ax1.plot(val_loss_history[:epoch_cutoff], color='green', label='Validation loss')\n",
    "ax1.plot(loss_history[:epoch_cutoff], color='blue', label='Training loss')\n",
    "ax1.set_ylabel('Training loss', color='blue')\n",
    "ax1.set_ylim(0, max(val_losses) + 1)\n",
    "\n",
    "# Create a secondary y-axis\n",
    "ax2 = ax1.twinx()\n",
    "ax2.set_ylim(0, 100)\n",
    "\n",
    "# Plot data on the secondary y-axis\n",
    "ax2.plot(accuracy_history[:epoch_cutoff], color='red', label='Validation accuracy')\n",
    "ax2.set_ylabel('Validation accuracy [%]', color='red')\n",
    "\n",
    "# Add legend\n",
    "ax1.legend(loc='lower left')\n",
    "ax2.legend(loc='lower right')\n",
    "ax1.set_xlabel(\"Epoch\")\n",
    "ax1.set_xticks([2 * i for i in range(epoch_cutoff // 2)])\n",
    "# Show plot\n",
    "plt.show()"
   ]
  }
 ],
 "metadata": {
  "kernelspec": {
   "display_name": "torch",
   "language": "python",
   "name": "python3"
  },
  "language_info": {
   "codemirror_mode": {
    "name": "ipython",
    "version": 3
   },
   "file_extension": ".py",
   "mimetype": "text/x-python",
   "name": "python",
   "nbconvert_exporter": "python",
   "pygments_lexer": "ipython3",
   "version": "3.11.5"
  },
  "orig_nbformat": 4
 },
 "nbformat": 4,
 "nbformat_minor": 2
}

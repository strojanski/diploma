{
 "cells": [
  {
   "cell_type": "code",
   "execution_count": 132,
   "metadata": {},
   "outputs": [],
   "source": [
    "# import matplotlib.pyplot as plt\n",
    "import numpy as np\n",
    "import torch\n",
    "import torchvision.models as models\n",
    "from PIL import Image\n",
    "from sklearn.metrics import accuracy_score, precision_score\n",
    "from torch import nn\n",
    "from torchvision import transforms as T\n",
    "import torchvision.models as models\n",
    "\n",
    "from torch.utils.data import DataLoader"
   ]
  },
  {
   "cell_type": "code",
   "execution_count": 133,
   "metadata": {},
   "outputs": [
    {
     "data": {
      "text/plain": [
       "device(type='cuda')"
      ]
     },
     "execution_count": 133,
     "metadata": {},
     "output_type": "execute_result"
    }
   ],
   "source": [
    "device = torch.device(\"cuda\" if torch.cuda.is_available() else \"cpu\")\n",
    "device"
   ]
  },
  {
   "attachments": {},
   "cell_type": "markdown",
   "metadata": {},
   "source": [
    "### 1. Load dataloaders"
   ]
  },
  {
   "cell_type": "code",
   "execution_count": 134,
   "metadata": {},
   "outputs": [],
   "source": [
    "from triplet_dataset import TripletDataset"
   ]
  },
  {
   "cell_type": "code",
   "execution_count": 135,
   "metadata": {},
   "outputs": [],
   "source": [
    "train_ds = torch.load(\"data/train_dataset_shuffled.pt\")\n",
    "eval_ds = torch.load(\"data/eval_dataset_shuffled.pt\")"
   ]
  },
  {
   "cell_type": "code",
   "execution_count": 136,
   "metadata": {},
   "outputs": [],
   "source": [
    "# train_ds.reshuffle()\n",
    "# eval_ds.reshuffle()"
   ]
  },
  {
   "cell_type": "code",
   "execution_count": 137,
   "metadata": {},
   "outputs": [
    {
     "data": {
      "text/plain": [
       "(52270, 52270, 52270)"
      ]
     },
     "execution_count": 137,
     "metadata": {},
     "output_type": "execute_result"
    }
   ],
   "source": [
    "len(eval_ds.data), len(eval_ds.labels), len(eval_ds.triplets)"
   ]
  },
  {
   "cell_type": "code",
   "execution_count": 138,
   "metadata": {},
   "outputs": [],
   "source": [
    "eval_set_size = len(eval_ds)\n",
    "eval_set_size = 35_000"
   ]
  },
  {
   "cell_type": "code",
   "execution_count": 139,
   "metadata": {},
   "outputs": [],
   "source": [
    "eval_ds.data = eval_ds.data[:eval_set_size]\n",
    "eval_ds.labels = eval_ds.labels[:eval_set_size]\n",
    "eval_ds.triplets = eval_ds.triplets[:eval_set_size]"
   ]
  },
  {
   "cell_type": "code",
   "execution_count": 140,
   "metadata": {},
   "outputs": [],
   "source": [
    "def get_majority(ds, get_value_counts=False):\n",
    "    \"\"\"Returns accuracy of the majority classifier\"\"\"\n",
    "    # Get the labels from the dataset\n",
    "    labels = [ys[0] for Xs, ys in ds.triplets]\n",
    "    \n",
    "    # Calculate the majority class label and its count\n",
    "    majority_class = np.argmax(np.bincount(labels))\n",
    "    majority_class_count = np.sum(labels == majority_class)\n",
    "    \n",
    "    # Calculate the accuracy of the majority classifier\n",
    "    accuracy = majority_class_count / len(labels)\n",
    "    \n",
    "    if get_value_counts:\n",
    "        return majority_class, accuracy, np.bincount(labels)\n",
    "    \n",
    "    return majority_class, accuracy"
   ]
  },
  {
   "cell_type": "code",
   "execution_count": 141,
   "metadata": {},
   "outputs": [],
   "source": [
    "# print(get_majority(train_ds))\n",
    "# print(get_majority(eval_ds, get_value_counts=True))"
   ]
  },
  {
   "cell_type": "code",
   "execution_count": 142,
   "metadata": {},
   "outputs": [
    {
     "data": {
      "text/plain": [
       "(35000, 35000, 35000)"
      ]
     },
     "execution_count": 142,
     "metadata": {},
     "output_type": "execute_result"
    }
   ],
   "source": [
    "len(eval_ds.data), len(eval_ds.labels), len(eval_ds.triplets)"
   ]
  },
  {
   "cell_type": "code",
   "execution_count": 143,
   "metadata": {},
   "outputs": [],
   "source": [
    "BATCH_SIZE = 64\n",
    "\n",
    "train_dl = DataLoader(train_ds, batch_size=BATCH_SIZE, shuffle=True)\n",
    "eval_dl = DataLoader(eval_ds, batch_size=BATCH_SIZE, shuffle=True)"
   ]
  },
  {
   "cell_type": "code",
   "execution_count": 144,
   "metadata": {},
   "outputs": [],
   "source": [
    "special_embeddings_batch = []"
   ]
  },
  {
   "cell_type": "code",
   "execution_count": 145,
   "metadata": {},
   "outputs": [],
   "source": [
    "def min_max_normalize_batch(batch):\n",
    "    min_vals = np.min(batch, axis=1, keepdims=True)\n",
    "    max_vals = np.max(batch, axis=1, keepdims=True)\n",
    "    normalized_batch = (batch - min_vals) / (max_vals - min_vals)\n",
    "    return normalized_batch"
   ]
  },
  {
   "cell_type": "code",
   "execution_count": 146,
   "metadata": {},
   "outputs": [],
   "source": [
    "\n",
    "from sklearn.metrics.pairwise import cosine_similarity\n",
    "\n",
    "\n",
    "loss_history = []\n",
    "val_loss_history = []\n",
    "accuracy_history = []\n",
    "\n",
    "def train(model, criterion, optimizer, train_loader, valid_loader, epochs, save_path=\"models/model\"):\n",
    "    a = True\n",
    "    best_val_loss = float('inf')  # Initialize with infinity\n",
    "    \n",
    "    model = model.to(device)\n",
    "    scheduler = torch.optim.lr_scheduler.ReduceLROnPlateau(optimizer, mode='min', factor=0.1, patience=3, verbose=True)    \n",
    "    \n",
    "    try:\n",
    "        for epoch in range(epochs):\n",
    "            # Training loop\n",
    "            model.train()\n",
    "            train_loss = 0.0\n",
    "            val_loss = 0\n",
    "            \n",
    "            for inputs, labels in train_loader:\n",
    "                \n",
    "                input_anchor, input_pos, input_neg = inputs\n",
    "                # label_anchor, label_pos, label_neg = labels\n",
    "                \n",
    "                input_anchor = input_anchor.to(device)\n",
    "                input_pos = input_pos.to(device)\n",
    "                input_neg = input_neg.to(device)\n",
    "                \n",
    "                emb_anchor = model(input_anchor)\n",
    "                emb_pos = model(input_pos)\n",
    "                emb_neg = model(input_neg)\n",
    "                \n",
    "                loss = criterion(emb_anchor, emb_pos, emb_neg)\n",
    "                loss.backward()\n",
    "                optimizer.step()\n",
    "                optimizer.zero_grad()\n",
    "                \n",
    "                train_loss += loss.item()\n",
    "                \n",
    "            loss_history.append(loss.item())    \n",
    "            \n",
    "            scheduler.step(val_loss)\n",
    "            \n",
    "            # Validation loop\n",
    "            model.eval()\n",
    "            val_loss = 0\n",
    "            \n",
    "            embeddings = []\n",
    "            targets = []\n",
    "            \n",
    "            with torch.no_grad():\n",
    "                for inputs, labels in valid_loader:\n",
    "                    input_anchor, input_pos, input_neg = inputs\n",
    "                    label_anchor, label_pos, label_neg = labels\n",
    "                    \n",
    "                    batch_emb, batch_lab = [], []\n",
    "                    \n",
    "                    input_anchor = input_anchor.to(device)\n",
    "                    input_pos = input_pos.to(device)\n",
    "                    input_neg = input_neg.to(device)\n",
    "                    \n",
    "                    emb_anchor = model(input_anchor)\n",
    "                    emb_pos = model(input_pos)\n",
    "                    emb_neg = model(input_neg)\n",
    "                    \n",
    "                    # embeddings.extend(emb_anchor)\n",
    "                    batch_emb.extend(emb_pos.cpu())\n",
    "                    batch_emb.extend(emb_neg.cpu())\n",
    "                    \n",
    "                    # labels.extend(label_anchor)\n",
    "                    batch_lab.extend(label_pos.cpu().tolist())\n",
    "                    batch_lab.extend(label_neg.cpu().tolist())\n",
    "                    \n",
    "                    embeddings.extend(batch_emb)\n",
    "                    targets.extend(batch_lab)\n",
    "                    \n",
    "                    \n",
    "                    loss = criterion(emb_anchor, emb_pos, emb_neg)\n",
    "                    val_loss += loss.item()\n",
    "            \n",
    "            # Average losses\n",
    "            train_loss /= len(train_loader)\n",
    "            val_loss /= len(valid_loader)\n",
    "            \n",
    "            for i in range(len(embeddings)):\n",
    "                embeddings[i] = embeddings[i].detach().numpy()\n",
    "                \n",
    "            embeddings = np.array(embeddings)        \n",
    "            targets = np.array(targets)\n",
    "            \n",
    "            # Min max normalize embeddings\n",
    "            embeddings = min_max_normalize_batch(embeddings)\n",
    "            \n",
    "            # Get cosine similarity for all embeddings\n",
    "            similarity_matrix = cosine_similarity(embeddings)\n",
    "            \n",
    "            # Fill diagonal with inf\n",
    "            np.fill_diagonal(similarity_matrix, -np.inf)\n",
    "            \n",
    "            # Find the index of max sim for each embedding\n",
    "            most_similar_indices = np.argmax(similarity_matrix, axis=1)\n",
    "            \n",
    "            # Extract the labels of the most similar items\n",
    "            predicted_labels = [targets[i] for i in most_similar_indices]\n",
    "            \n",
    "            # Get number of correct predictions\n",
    "            # n_correct = sum(1 for true_label, predicted_label in zip(labels, predicted_labels) if true_label == predicted_label)\n",
    "            n_correct = sum(1 for true, pred in zip(targets, predicted_labels) if true == pred)\n",
    "            \n",
    "            print(\"Number of correct matches: \", n_correct)\n",
    "\n",
    "            val_acc = 100 * (n_correct / len(embeddings))\n",
    "\n",
    "            accuracy_history.append(val_acc)\n",
    "            \n",
    "            print(f\"Validation accuracy: {val_acc:0.3f}%\")\n",
    "            \n",
    "            print(f'Epoch {epoch+1}/{epochs}, Train Loss: {train_loss:.4f}, Valid Loss: {val_loss:.4f}')\n",
    "            val_loss_history.append(val_loss)\n",
    "            \n",
    "            if a:\n",
    "                special_embeddings_batch.append(embeddings)\n",
    "                a = False\n",
    "            \n",
    "            # Save the model if validation loss is improved\n",
    "            if val_loss < best_val_loss:\n",
    "                best_val_loss = val_loss\n",
    "                torch.save(model.state_dict(), f\"{save_path}_{epoch+1}\")\n",
    "                print(\"Model saved with validation loss:\", best_val_loss)\n",
    "            \n",
    "            embeddings = []\n",
    "            similarity_matrix = None\n",
    "    except KeyboardInterrupt:\n",
    "        # Save the model if validation loss is improved\n",
    "        if val_loss < best_val_loss:\n",
    "            best_val_loss = val_loss\n",
    "            torch.save(model.state_dict(), f\"{save_path}_{epoch+1}\")\n",
    "            print(\"Model saved with validation loss:\", best_val_loss)"
   ]
  },
  {
   "attachments": {},
   "cell_type": "markdown",
   "metadata": {},
   "source": [
    "### 2. Get model & train"
   ]
  },
  {
   "cell_type": "code",
   "execution_count": 147,
   "metadata": {},
   "outputs": [],
   "source": [
    "RESNET_VERSION = 18"
   ]
  },
  {
   "cell_type": "code",
   "execution_count": 148,
   "metadata": {},
   "outputs": [],
   "source": [
    "# import os\n",
    "\n",
    "# baseline = models.resnet50(pretrained=True)\n",
    "    \n",
    "# baseline.fc = nn.Linear(2048, 910)\n",
    "    \n",
    "# if os.path.exists(f\"models/baseline_resnet50.pt.pt\"):\n",
    "#     baseline.load_state_dict(torch.load(f\"models/baseline_resnet50.pt\"))\n",
    "\n",
    "# baseline.fc = torch.nn.Identity()\n",
    "# model = baseline"
   ]
  },
  {
   "cell_type": "code",
   "execution_count": 149,
   "metadata": {},
   "outputs": [
    {
     "name": "stdout",
     "output_type": "stream",
     "text": [
      "AlexNet(\n",
      "  (features): Sequential(\n",
      "    (0): Conv2d(3, 64, kernel_size=(11, 11), stride=(4, 4), padding=(2, 2))\n",
      "    (1): ReLU(inplace=True)\n",
      "    (2): MaxPool2d(kernel_size=3, stride=2, padding=0, dilation=1, ceil_mode=False)\n",
      "    (3): Conv2d(64, 192, kernel_size=(5, 5), stride=(1, 1), padding=(2, 2))\n",
      "    (4): ReLU(inplace=True)\n",
      "    (5): MaxPool2d(kernel_size=3, stride=2, padding=0, dilation=1, ceil_mode=False)\n",
      "    (6): Conv2d(192, 384, kernel_size=(3, 3), stride=(1, 1), padding=(1, 1))\n",
      "    (7): ReLU(inplace=True)\n",
      "    (8): Conv2d(384, 256, kernel_size=(3, 3), stride=(1, 1), padding=(1, 1))\n",
      "    (9): ReLU(inplace=True)\n",
      "    (10): Conv2d(256, 256, kernel_size=(3, 3), stride=(1, 1), padding=(1, 1))\n",
      "    (11): ReLU(inplace=True)\n",
      "    (12): MaxPool2d(kernel_size=3, stride=2, padding=0, dilation=1, ceil_mode=False)\n",
      "  )\n",
      "  (avgpool): AdaptiveAvgPool2d(output_size=(6, 6))\n",
      "  (classifier): Identity()\n",
      ")\n"
     ]
    }
   ],
   "source": [
    "import os\n",
    "\n",
    "if RESNET_VERSION == 50:\n",
    "    model = models.resnet50(pretrained=True)\n",
    "else:\n",
    "    model = models.resnet18(pretrained=True)\n",
    "    \n",
    "    \n",
    "model = models.alexnet(pretrained=True)\n",
    "\n",
    "model.classifier = torch.nn.Identity()\n",
    "print(model)\n",
    "\n",
    "\n",
    "if os.path.exists(f\"models/alexnet_18.pt\"):\n",
    "    model.load_state_dict(torch.load(f\"models/alexnet_18.pt\"))\n"
   ]
  },
  {
   "cell_type": "code",
   "execution_count": 150,
   "metadata": {},
   "outputs": [
    {
     "data": {
      "text/plain": [
       "torch.Size([3, 64, 64])"
      ]
     },
     "execution_count": 150,
     "metadata": {},
     "output_type": "execute_result"
    }
   ],
   "source": [
    "train_ds[0][0][0].shape"
   ]
  },
  {
   "cell_type": "code",
   "execution_count": 151,
   "metadata": {},
   "outputs": [],
   "source": [
    "out = model(train_ds[0][0][0])"
   ]
  },
  {
   "cell_type": "code",
   "execution_count": 152,
   "metadata": {},
   "outputs": [
    {
     "data": {
      "text/plain": [
       "torch.Size([256, 36])"
      ]
     },
     "execution_count": 152,
     "metadata": {},
     "output_type": "execute_result"
    }
   ],
   "source": [
    "out.to(\"cpu\").shape"
   ]
  },
  {
   "cell_type": "code",
   "execution_count": 153,
   "metadata": {},
   "outputs": [],
   "source": [
    "import warnings\n",
    "\n",
    "warnings.filterwarnings(\"ignore\")"
   ]
  },
  {
   "cell_type": "code",
   "execution_count": 154,
   "metadata": {},
   "outputs": [],
   "source": [
    "LR = 1e-4\n",
    "\n",
    "n_epochs = 10\n",
    "\n",
    "# TODO: Fix margin\n",
    "criterion = torch.nn.TripletMarginLoss(margin=100, p=2) \n",
    "optimizer = torch.optim.Adam(model.parameters(), lr=LR)"
   ]
  },
  {
   "cell_type": "code",
   "execution_count": 155,
   "metadata": {},
   "outputs": [
    {
     "name": "stdout",
     "output_type": "stream",
     "text": [
      "Number of correct matches:  54055\n",
      "Validation accuracy: 77.221%\n",
      "Epoch 1/10, Train Loss: 26.7827, Valid Loss: 35.3701\n",
      "Model saved with validation loss: 35.370058289409556\n",
      "Number of correct matches:  54221\n",
      "Validation accuracy: 77.459%\n",
      "Epoch 2/10, Train Loss: 24.2886, Valid Loss: 33.6419\n",
      "Model saved with validation loss: 33.64187537144571\n",
      "Number of correct matches:  54333\n",
      "Validation accuracy: 77.619%\n",
      "Epoch 3/10, Train Loss: 22.0681, Valid Loss: 33.5508\n",
      "Model saved with validation loss: 33.55078561462625\n",
      "Number of correct matches:  54334\n",
      "Validation accuracy: 77.620%\n",
      "Epoch 4/10, Train Loss: 19.9248, Valid Loss: 33.9779\n",
      "Number of correct matches:  54494\n",
      "Validation accuracy: 77.849%\n",
      "Epoch 5/10, Train Loss: 18.0315, Valid Loss: 32.5447\n",
      "Model saved with validation loss: 32.544666582650514\n",
      "Number of correct matches:  54620\n",
      "Validation accuracy: 78.029%\n",
      "Epoch 6/10, Train Loss: 13.0311, Valid Loss: 31.1716\n",
      "Model saved with validation loss: 31.171646480142634\n",
      "Number of correct matches:  54635\n",
      "Validation accuracy: 78.050%\n",
      "Epoch 7/10, Train Loss: 12.0591, Valid Loss: 31.1081\n",
      "Model saved with validation loss: 31.10807819436066\n",
      "Number of correct matches:  54676\n",
      "Validation accuracy: 78.109%\n",
      "Epoch 8/10, Train Loss: 11.5495, Valid Loss: 31.0774\n",
      "Model saved with validation loss: 31.077361399239866\n",
      "Number of correct matches:  54644\n",
      "Validation accuracy: 78.063%\n",
      "Epoch 9/10, Train Loss: 11.1608, Valid Loss: 31.2314\n",
      "Number of correct matches:  54659\n",
      "Validation accuracy: 78.084%\n",
      "Epoch 10/10, Train Loss: 10.4542, Valid Loss: 31.0977\n"
     ]
    }
   ],
   "source": [
    "train(model, criterion, optimizer, train_dl, eval_dl, n_epochs, f\"models/alexnet{RESNET_VERSION}.pt\")"
   ]
  },
  {
   "cell_type": "code",
   "execution_count": 156,
   "metadata": {},
   "outputs": [],
   "source": [
    "torch.save(model.state_dict(), f\"models/alexnet_{RESNET_VERSION}.pt\")"
   ]
  },
  {
   "cell_type": "code",
   "execution_count": 157,
   "metadata": {},
   "outputs": [],
   "source": [
    "# import matplotlib.pyplot as plt\n",
    "\n",
    "# means = []\n",
    "# mins = []\n",
    "# maxs = []\n",
    "# medians = []\n",
    "# distances = []\n",
    "\n",
    "# special_embeddings_batch = np.array(special_embeddings_batch).squeeze()\n",
    "\n",
    "# for emb in special_embeddings_batch:\n",
    "#     if emb is None:\n",
    "#         continue\n",
    "#     means.append(np.mean(emb))\n",
    "#     mins.append(np.min(emb))\n",
    "#     maxs.append(np.max(emb))\n",
    "#     medians.append(np.median(emb))\n",
    "    \n",
    "# subset = np.random.permutation(special_embeddings_batch[:10000])\n",
    "# subset = subset.squeeze()\n",
    "# print(subset.shape)\n",
    "\n",
    "# similarity_matrix = cosine_similarity(subset)\n",
    "\n",
    "# print(similarity_matrix)\n",
    "\n",
    "# plt.plot(means, label=\"mean\")\n",
    "# plt.plot(mins, label=\"min\")\n",
    "# plt.plot(medians, label=\"medians\")\n",
    "# plt.plot(maxs, label=\"max\")\n",
    "# plt.legend()\n"
   ]
  },
  {
   "cell_type": "code",
   "execution_count": 158,
   "metadata": {},
   "outputs": [],
   "source": [
    "# plt.title(\"Distances between emb1 and 10 other embeddings\")\n",
    "# plt.plot([i for i in range(100)], similarity_matrix[0][:100])\n",
    "# plt.ylim(0,1)\n"
   ]
  },
  {
   "cell_type": "code",
   "execution_count": 159,
   "metadata": {},
   "outputs": [
    {
     "data": {
      "text/plain": [
       "<matplotlib.legend.Legend at 0x18baf5923d0>"
      ]
     },
     "execution_count": 159,
     "metadata": {},
     "output_type": "execute_result"
    },
    {
     "data": {
      "image/png": "[encoded data removed]",
      "text/plain": [
       "<Figure size 640x480 with 1 Axes>"
      ]
     },
     "metadata": {},
     "output_type": "display_data"
    }
   ],
   "source": [
    "import matplotlib.pyplot as plt\n",
    "\n",
    "\n",
    "plt.plot(loss_history, label=\"loss\")\n",
    "plt.plot(accuracy_history, label=\"accuracy\") \n",
    "plt.legend()"
   ]
  },
  {
   "cell_type": "code",
   "execution_count": 160,
   "metadata": {},
   "outputs": [],
   "source": [
    "val_losses = [99.5542,98.5022,95.2130,98.5903,98.8151,97.7996,98.3577,98.3070,98.8736,98.4011]"
   ]
  },
  {
   "cell_type": "code",
   "execution_count": 161,
   "metadata": {},
   "outputs": [
    {
     "data": {
      "text/plain": [
       "[25.26823616027832,\n",
       " 26.444141387939453,\n",
       " 26.471364974975586,\n",
       " 28.646488189697266,\n",
       " 28.227388381958008,\n",
       " 12.045987129211426,\n",
       " 14.471874237060547,\n",
       " 13.046003341674805,\n",
       " 8.175924301147461,\n",
       " 10.31430435180664]"
      ]
     },
     "execution_count": 161,
     "metadata": {},
     "output_type": "execute_result"
    }
   ],
   "source": [
    "loss_history"
   ]
  },
  {
   "cell_type": "code",
   "execution_count": 162,
   "metadata": {},
   "outputs": [
    {
     "data": {
      "text/plain": [
       "[35.370058289409556,\n",
       " 33.64187537144571,\n",
       " 33.55078561462625,\n",
       " 33.97794181238996,\n",
       " 32.544666582650514,\n",
       " 31.171646480142634,\n",
       " 31.10807819436066,\n",
       " 31.077361399239866,\n",
       " 31.231418867180818,\n",
       " 31.0976707012984]"
      ]
     },
     "execution_count": 162,
     "metadata": {},
     "output_type": "execute_result"
    }
   ],
   "source": [
    "val_loss_history    "
   ]
  },
  {
   "cell_type": "code",
   "execution_count": 163,
   "metadata": {},
   "outputs": [
    {
     "data": {
      "image/png": "[encoded data removed]",
      "text/plain": [
       "<Figure size 640x480 with 2 Axes>"
      ]
     },
     "metadata": {},
     "output_type": "display_data"
    }
   ],
   "source": [
    "import matplotlib.pyplot as plt\n",
    "\n",
    "epoch_cutoff = np.argmin(loss_history)\n",
    "epoch_cutoff = 10\n",
    "\n",
    "# Create a figure and primary y-axis\n",
    "fig, ax1 = plt.subplots()\n",
    "loss_history[0] = 100\n",
    "\n",
    "# Plot data on the primary y-axis\n",
    "ax1.plot(val_loss_history[:epoch_cutoff], color='green', label='Validation loss')\n",
    "ax1.plot(loss_history[:epoch_cutoff], color='blue', label='Training loss')\n",
    "ax1.set_ylabel('Training loss', color='blue')\n",
    "ax1.set_ylim(0, max(val_losses) + 1)\n",
    "\n",
    "# Create a secondary y-axis\n",
    "ax2 = ax1.twinx()\n",
    "ax2.set_ylim(0, 100)\n",
    "\n",
    "# Plot data on the secondary y-axis\n",
    "ax2.plot(accuracy_history[:epoch_cutoff], color='red', label='Validation accuracy')\n",
    "ax2.set_ylabel('Validation accuracy [%]', color='red')\n",
    "\n",
    "# Add legend\n",
    "ax1.legend(loc='lower left')\n",
    "ax2.legend(loc='lower right')\n",
    "ax1.set_xlabel(\"Epoch\")\n",
    "ax1.set_xticks([2 * i for i in range(epoch_cutoff // 2)])\n",
    "# Show plot\n",
    "plt.show()"
   ]
  }
 ],
 "metadata": {
  "kernelspec": {
   "display_name": "torch",
   "language": "python",
   "name": "python3"
  },
  "language_info": {
   "codemirror_mode": {
    "name": "ipython",
    "version": 3
   },
   "file_extension": ".py",
   "mimetype": "text/x-python",
   "name": "python",
   "nbconvert_exporter": "python",
   "pygments_lexer": "ipython3",
   "version": "3.11.5"
  },
  "orig_nbformat": 4
 },
 "nbformat": 4,
 "nbformat_minor": 2
}

{
 "cells": [
  {
   "cell_type": "code",
   "execution_count": 1,
   "metadata": {},
   "outputs": [],
   "source": [
    "# import matplotlib.pyplot as plt\n",
    "import numpy as np\n",
    "import torch\n",
    "import torchvision.models as models\n",
    "from PIL import Image\n",
    "from sklearn.metrics import accuracy_score, precision_score\n",
    "from torch import nn\n",
    "from torchvision import transforms as T\n",
    "import torchvision.models as models\n",
    "\n",
    "from torch.utils.data import DataLoader"
   ]
  },
  {
   "cell_type": "code",
   "execution_count": 2,
   "metadata": {},
   "outputs": [
    {
     "data": {
      "text/plain": [
       "device(type='cuda')"
      ]
     },
     "execution_count": 2,
     "metadata": {},
     "output_type": "execute_result"
    }
   ],
   "source": [
    "device = torch.device(\"cuda\" if torch.cuda.is_available() else \"cpu\")\n",
    "device"
   ]
  },
  {
   "attachments": {},
   "cell_type": "markdown",
   "metadata": {},
   "source": [
    "### 1. Load dataloaders"
   ]
  },
  {
   "cell_type": "code",
   "execution_count": 3,
   "metadata": {},
   "outputs": [],
   "source": [
    "from triplet_dataset import TripletDataset"
   ]
  },
  {
   "cell_type": "code",
   "execution_count": 4,
   "metadata": {},
   "outputs": [],
   "source": [
    "train_ds = torch.load(\"data/train_dataset_shuffled.pt\")\n",
    "eval_ds = torch.load(\"data/eval_dataset_shuffled.pt\")"
   ]
  },
  {
   "cell_type": "code",
   "execution_count": 5,
   "metadata": {},
   "outputs": [],
   "source": [
    "# train_ds.reshuffle()\n",
    "# eval_ds.reshuffle()"
   ]
  },
  {
   "cell_type": "code",
   "execution_count": 6,
   "metadata": {},
   "outputs": [
    {
     "data": {
      "text/plain": [
       "(52270, 52270, 52270)"
      ]
     },
     "execution_count": 6,
     "metadata": {},
     "output_type": "execute_result"
    }
   ],
   "source": [
    "len(eval_ds.data), len(eval_ds.labels), len(eval_ds.triplets)"
   ]
  },
  {
   "cell_type": "code",
   "execution_count": 7,
   "metadata": {},
   "outputs": [],
   "source": [
    "eval_set_size = len(eval_ds)\n",
    "eval_set_size = 35_000"
   ]
  },
  {
   "cell_type": "code",
   "execution_count": 8,
   "metadata": {},
   "outputs": [],
   "source": [
    "eval_ds.data = eval_ds.data[:eval_set_size]\n",
    "eval_ds.labels = eval_ds.labels[:eval_set_size]\n",
    "eval_ds.triplets = eval_ds.triplets[:eval_set_size]"
   ]
  },
  {
   "cell_type": "code",
   "execution_count": 9,
   "metadata": {},
   "outputs": [],
   "source": [
    "def get_majority(ds, get_value_counts=False):\n",
    "    \"\"\"Returns accuracy of the majority classifier\"\"\"\n",
    "    # Get the labels from the dataset\n",
    "    labels = [ys[0] for Xs, ys in ds.triplets]\n",
    "    \n",
    "    # Calculate the majority class label and its count\n",
    "    majority_class = np.argmax(np.bincount(labels))\n",
    "    majority_class_count = np.sum(labels == majority_class)\n",
    "    \n",
    "    # Calculate the accuracy of the majority classifier\n",
    "    accuracy = majority_class_count / len(labels)\n",
    "    \n",
    "    if get_value_counts:\n",
    "        return majority_class, accuracy, np.bincount(labels)\n",
    "    \n",
    "    return majority_class, accuracy"
   ]
  },
  {
   "cell_type": "code",
   "execution_count": 10,
   "metadata": {},
   "outputs": [],
   "source": [
    "# print(get_majority(train_ds))\n",
    "# print(get_majority(eval_ds, get_value_counts=True))"
   ]
  },
  {
   "cell_type": "code",
   "execution_count": 11,
   "metadata": {},
   "outputs": [
    {
     "data": {
      "text/plain": [
       "(35000, 35000, 35000)"
      ]
     },
     "execution_count": 11,
     "metadata": {},
     "output_type": "execute_result"
    }
   ],
   "source": [
    "len(eval_ds.data), len(eval_ds.labels), len(eval_ds.triplets)"
   ]
  },
  {
   "cell_type": "code",
   "execution_count": 12,
   "metadata": {},
   "outputs": [],
   "source": [
    "BATCH_SIZE = 1024\n",
    "\n",
    "train_dl = DataLoader(train_ds, batch_size=BATCH_SIZE, shuffle=True)\n",
    "eval_dl = DataLoader(eval_ds, batch_size=BATCH_SIZE, shuffle=True)"
   ]
  },
  {
   "cell_type": "code",
   "execution_count": 13,
   "metadata": {},
   "outputs": [],
   "source": [
    "special_embeddings_batch = []"
   ]
  },
  {
   "cell_type": "code",
   "execution_count": 14,
   "metadata": {},
   "outputs": [],
   "source": [
    "def min_max_normalize_batch(batch):\n",
    "    min_vals = np.min(batch, axis=1, keepdims=True)\n",
    "    max_vals = np.max(batch, axis=1, keepdims=True)\n",
    "    normalized_batch = (batch - min_vals) / (max_vals - min_vals)\n",
    "    return normalized_batch"
   ]
  },
  {
   "cell_type": "code",
   "execution_count": 15,
   "metadata": {},
   "outputs": [],
   "source": [
    "\n",
    "from sklearn.metrics.pairwise import cosine_similarity\n",
    "\n",
    "\n",
    "loss_history = []\n",
    "val_loss_history = []\n",
    "accuracy_history = []\n",
    "\n",
    "def train(model, criterion, optimizer, train_loader, valid_loader, epochs, save_path=\"models/model\"):\n",
    "    a = True\n",
    "    best_val_loss = float('inf')  # Initialize with infinity\n",
    "    \n",
    "    model = model.to(device)\n",
    "    scheduler = torch.optim.lr_scheduler.ReduceLROnPlateau(optimizer, mode='min', factor=0.1, patience=3, verbose=True)    \n",
    "    \n",
    "    try:\n",
    "        for epoch in range(epochs):\n",
    "            # Training loop\n",
    "            model.train()\n",
    "            train_loss = 0.0\n",
    "            val_loss = 0\n",
    "            \n",
    "            for inputs, labels in train_loader:\n",
    "                \n",
    "                input_anchor, input_pos, input_neg = inputs\n",
    "                # label_anchor, label_pos, label_neg = labels\n",
    "                \n",
    "                input_anchor = input_anchor.to(device)\n",
    "                input_pos = input_pos.to(device)\n",
    "                input_neg = input_neg.to(device)\n",
    "                \n",
    "                emb_anchor = model(input_anchor)\n",
    "                emb_pos = model(input_pos)\n",
    "                emb_neg = model(input_neg)\n",
    "                \n",
    "                loss = criterion(emb_anchor, emb_pos, emb_neg)\n",
    "                loss.backward()\n",
    "                optimizer.step()\n",
    "                optimizer.zero_grad()\n",
    "                \n",
    "                train_loss += loss.item()\n",
    "                \n",
    "            loss_history.append(loss.item())    \n",
    "            \n",
    "            scheduler.step(val_loss)\n",
    "            \n",
    "            # Validation loop\n",
    "            model.eval()\n",
    "            val_loss = 0\n",
    "            \n",
    "            embeddings = []\n",
    "            targets = []\n",
    "            \n",
    "            with torch.no_grad():\n",
    "                for inputs, labels in valid_loader:\n",
    "                    input_anchor, input_pos, input_neg = inputs\n",
    "                    label_anchor, label_pos, label_neg = labels\n",
    "                    \n",
    "                    batch_emb, batch_lab = [], []\n",
    "                    \n",
    "                    input_anchor = input_anchor.to(device)\n",
    "                    input_pos = input_pos.to(device)\n",
    "                    input_neg = input_neg.to(device)\n",
    "                    \n",
    "                    emb_anchor = model(input_anchor)\n",
    "                    emb_pos = model(input_pos)\n",
    "                    emb_neg = model(input_neg)\n",
    "                    \n",
    "                    # embeddings.extend(emb_anchor)\n",
    "                    batch_emb.extend(emb_pos.cpu())\n",
    "                    batch_emb.extend(emb_neg.cpu())\n",
    "                    \n",
    "                    # labels.extend(label_anchor)\n",
    "                    batch_lab.extend(label_pos.cpu().tolist())\n",
    "                    batch_lab.extend(label_neg.cpu().tolist())\n",
    "                    \n",
    "                    embeddings.extend(batch_emb)\n",
    "                    targets.extend(batch_lab)\n",
    "                    \n",
    "                    \n",
    "                    loss = criterion(emb_anchor, emb_pos, emb_neg)\n",
    "                    val_loss += loss.item()\n",
    "            \n",
    "            # Average losses\n",
    "            train_loss /= len(train_loader)\n",
    "            val_loss /= len(valid_loader)\n",
    "            \n",
    "            for i in range(len(embeddings)):\n",
    "                embeddings[i] = embeddings[i].detach().numpy()\n",
    "                \n",
    "            embeddings = np.array(embeddings)        \n",
    "            targets = np.array(targets)\n",
    "            \n",
    "            # Min max normalize embeddings\n",
    "            embeddings = min_max_normalize_batch(embeddings)\n",
    "            \n",
    "            # Get cosine similarity for all embeddings\n",
    "            similarity_matrix = cosine_similarity(embeddings)\n",
    "            \n",
    "            # Fill diagonal with inf\n",
    "            np.fill_diagonal(similarity_matrix, -np.inf)\n",
    "            \n",
    "            # Find the index of max sim for each embedding\n",
    "            most_similar_indices = np.argmax(similarity_matrix, axis=1)\n",
    "            \n",
    "            # Extract the labels of the most similar items\n",
    "            predicted_labels = [targets[i] for i in most_similar_indices]\n",
    "            \n",
    "            # Get number of correct predictions\n",
    "            # n_correct = sum(1 for true_label, predicted_label in zip(labels, predicted_labels) if true_label == predicted_label)\n",
    "            n_correct = sum(1 for true, pred in zip(targets, predicted_labels) if true == pred)\n",
    "            \n",
    "            print(\"Number of correct matches: \", n_correct)\n",
    "\n",
    "            val_acc = 100 * (n_correct / len(embeddings))\n",
    "\n",
    "            accuracy_history.append(val_acc)\n",
    "            \n",
    "            print(f\"Validation accuracy: {val_acc:0.3f}%\")\n",
    "            \n",
    "            print(f'Epoch {epoch+1}/{epochs}, Train Loss: {train_loss:.4f}, Valid Loss: {val_loss:.4f}')\n",
    "            val_loss_history.append(val_loss)\n",
    "            \n",
    "            if a:\n",
    "                special_embeddings_batch.append(embeddings)\n",
    "                a = False\n",
    "            \n",
    "            # Save the model if validation loss is improved\n",
    "            if val_loss < best_val_loss:\n",
    "                best_val_loss = val_loss\n",
    "                torch.save(model.state_dict(), f\"{save_path}_{epoch+1}\")\n",
    "                print(\"Model saved with validation loss:\", best_val_loss)\n",
    "            \n",
    "            embeddings = []\n",
    "            similarity_matrix = None\n",
    "    except KeyboardInterrupt:\n",
    "        # Save the model if validation loss is improved\n",
    "        if val_loss < best_val_loss:\n",
    "            best_val_loss = val_loss\n",
    "            torch.save(model.state_dict(), f\"{save_path}_{epoch+1}\")\n",
    "            print(\"Model saved with validation loss:\", best_val_loss)"
   ]
  },
  {
   "attachments": {},
   "cell_type": "markdown",
   "metadata": {},
   "source": [
    "### 2. Get model & train"
   ]
  },
  {
   "cell_type": "code",
   "execution_count": 16,
   "metadata": {},
   "outputs": [],
   "source": [
    "RESNET_VERSION = 18"
   ]
  },
  {
   "cell_type": "code",
   "execution_count": 17,
   "metadata": {},
   "outputs": [],
   "source": [
    "# import os\n",
    "\n",
    "# baseline = models.resnet50(pretrained=True)\n",
    "    \n",
    "# baseline.fc = nn.Linear(2048, 910)\n",
    "    \n",
    "# if os.path.exists(f\"models/baseline_resnet50.pt.pt\"):\n",
    "#     baseline.load_state_dict(torch.load(f\"models/baseline_resnet50.pt\"))\n",
    "\n",
    "# baseline.fc = torch.nn.Identity()\n",
    "# model = baseline"
   ]
  },
  {
   "cell_type": "code",
   "execution_count": 18,
   "metadata": {},
   "outputs": [
    {
     "name": "stdout",
     "output_type": "stream",
     "text": [
      "SqueezeNet(\n",
      "  (features): Sequential(\n",
      "    (0): Conv2d(3, 64, kernel_size=(3, 3), stride=(2, 2))\n",
      "    (1): ReLU(inplace=True)\n",
      "    (2): MaxPool2d(kernel_size=3, stride=2, padding=0, dilation=1, ceil_mode=True)\n",
      "    (3): Fire(\n",
      "      (squeeze): Conv2d(64, 16, kernel_size=(1, 1), stride=(1, 1))\n",
      "      (squeeze_activation): ReLU(inplace=True)\n",
      "      (expand1x1): Conv2d(16, 64, kernel_size=(1, 1), stride=(1, 1))\n",
      "      (expand1x1_activation): ReLU(inplace=True)\n",
      "      (expand3x3): Conv2d(16, 64, kernel_size=(3, 3), stride=(1, 1), padding=(1, 1))\n",
      "      (expand3x3_activation): ReLU(inplace=True)\n",
      "    )\n",
      "    (4): Fire(\n",
      "      (squeeze): Conv2d(128, 16, kernel_size=(1, 1), stride=(1, 1))\n",
      "      (squeeze_activation): ReLU(inplace=True)\n",
      "      (expand1x1): Conv2d(16, 64, kernel_size=(1, 1), stride=(1, 1))\n",
      "      (expand1x1_activation): ReLU(inplace=True)\n",
      "      (expand3x3): Conv2d(16, 64, kernel_size=(3, 3), stride=(1, 1), padding=(1, 1))\n",
      "      (expand3x3_activation): ReLU(inplace=True)\n",
      "    )\n",
      "    (5): MaxPool2d(kernel_size=3, stride=2, padding=0, dilation=1, ceil_mode=True)\n",
      "    (6): Fire(\n",
      "      (squeeze): Conv2d(128, 32, kernel_size=(1, 1), stride=(1, 1))\n",
      "      (squeeze_activation): ReLU(inplace=True)\n",
      "      (expand1x1): Conv2d(32, 128, kernel_size=(1, 1), stride=(1, 1))\n",
      "      (expand1x1_activation): ReLU(inplace=True)\n",
      "      (expand3x3): Conv2d(32, 128, kernel_size=(3, 3), stride=(1, 1), padding=(1, 1))\n",
      "      (expand3x3_activation): ReLU(inplace=True)\n",
      "    )\n",
      "    (7): Fire(\n",
      "      (squeeze): Conv2d(256, 32, kernel_size=(1, 1), stride=(1, 1))\n",
      "      (squeeze_activation): ReLU(inplace=True)\n",
      "      (expand1x1): Conv2d(32, 128, kernel_size=(1, 1), stride=(1, 1))\n",
      "      (expand1x1_activation): ReLU(inplace=True)\n",
      "      (expand3x3): Conv2d(32, 128, kernel_size=(3, 3), stride=(1, 1), padding=(1, 1))\n",
      "      (expand3x3_activation): ReLU(inplace=True)\n",
      "    )\n",
      "    (8): MaxPool2d(kernel_size=3, stride=2, padding=0, dilation=1, ceil_mode=True)\n",
      "    (9): Fire(\n",
      "      (squeeze): Conv2d(256, 48, kernel_size=(1, 1), stride=(1, 1))\n",
      "      (squeeze_activation): ReLU(inplace=True)\n",
      "      (expand1x1): Conv2d(48, 192, kernel_size=(1, 1), stride=(1, 1))\n",
      "      (expand1x1_activation): ReLU(inplace=True)\n",
      "      (expand3x3): Conv2d(48, 192, kernel_size=(3, 3), stride=(1, 1), padding=(1, 1))\n",
      "      (expand3x3_activation): ReLU(inplace=True)\n",
      "    )\n",
      "    (10): Fire(\n",
      "      (squeeze): Conv2d(384, 48, kernel_size=(1, 1), stride=(1, 1))\n",
      "      (squeeze_activation): ReLU(inplace=True)\n",
      "      (expand1x1): Conv2d(48, 192, kernel_size=(1, 1), stride=(1, 1))\n",
      "      (expand1x1_activation): ReLU(inplace=True)\n",
      "      (expand3x3): Conv2d(48, 192, kernel_size=(3, 3), stride=(1, 1), padding=(1, 1))\n",
      "      (expand3x3_activation): ReLU(inplace=True)\n",
      "    )\n",
      "    (11): Fire(\n",
      "      (squeeze): Conv2d(384, 64, kernel_size=(1, 1), stride=(1, 1))\n",
      "      (squeeze_activation): ReLU(inplace=True)\n",
      "      (expand1x1): Conv2d(64, 256, kernel_size=(1, 1), stride=(1, 1))\n",
      "      (expand1x1_activation): ReLU(inplace=True)\n",
      "      (expand3x3): Conv2d(64, 256, kernel_size=(3, 3), stride=(1, 1), padding=(1, 1))\n",
      "      (expand3x3_activation): ReLU(inplace=True)\n",
      "    )\n",
      "    (12): Fire(\n",
      "      (squeeze): Conv2d(512, 64, kernel_size=(1, 1), stride=(1, 1))\n",
      "      (squeeze_activation): ReLU(inplace=True)\n",
      "      (expand1x1): Conv2d(64, 256, kernel_size=(1, 1), stride=(1, 1))\n",
      "      (expand1x1_activation): ReLU(inplace=True)\n",
      "      (expand3x3): Conv2d(64, 256, kernel_size=(3, 3), stride=(1, 1), padding=(1, 1))\n",
      "      (expand3x3_activation): ReLU(inplace=True)\n",
      "    )\n",
      "  )\n",
      "  (classifier): Identity()\n",
      ")\n",
      "models/squeezenet_1024.pt\n"
     ]
    }
   ],
   "source": [
    "import os\n",
    "\n",
    "if RESNET_VERSION == 50:\n",
    "    model = models.resnet50(pretrained=True)\n",
    "else:\n",
    "    model = models.resnet18(pretrained=True)\n",
    "    \n",
    "    \n",
    "model = models.alexnet(pretrained=True)\n",
    "model = models.maxvit_t(pretrained=True)\n",
    "model = models.squeezenet1_1(pretrained=True)\n",
    "\n",
    "model.classifier = torch.nn.Identity()\n",
    "print(model)\n",
    "n = 1024\n",
    "if os.path.exists(f\"models/squeezenet_{n}.pt\"):\n",
    "    model.load_state_dict(torch.load(f\"models/squeezenet_{n}.pt\"))\n",
    "print((f\"models/squeezenet_{n}.pt\"))"
   ]
  },
  {
   "cell_type": "code",
   "execution_count": 19,
   "metadata": {},
   "outputs": [
    {
     "data": {
      "text/plain": [
       "torch.Size([3, 64, 64])"
      ]
     },
     "execution_count": 19,
     "metadata": {},
     "output_type": "execute_result"
    }
   ],
   "source": [
    "train_ds[0][0][0].shape"
   ]
  },
  {
   "cell_type": "code",
   "execution_count": 20,
   "metadata": {},
   "outputs": [],
   "source": [
    "import warnings\n",
    "\n",
    "warnings.filterwarnings(\"ignore\")"
   ]
  },
  {
   "cell_type": "code",
   "execution_count": 21,
   "metadata": {},
   "outputs": [],
   "source": [
    "LR = 1e-5\n",
    "\n",
    "n_epochs = 20\n",
    "\n",
    "# TODO: Fix margin\n",
    "criterion = torch.nn.TripletMarginLoss(margin=100, p=2) \n",
    "optimizer = torch.optim.Adam(model.parameters(), lr=LR)"
   ]
  },
  {
   "cell_type": "code",
   "execution_count": 22,
   "metadata": {},
   "outputs": [
    {
     "name": "stdout",
     "output_type": "stream",
     "text": [
      "Number of correct matches:  55783\n",
      "Validation accuracy: 79.690%\n",
      "Epoch 1/20, Train Loss: 12.3106, Valid Loss: 25.6973\n",
      "Model saved with validation loss: 25.697336850847517\n",
      "Number of correct matches:  55808\n",
      "Validation accuracy: 79.726%\n",
      "Epoch 2/20, Train Loss: 12.1715, Valid Loss: 25.8294\n",
      "Number of correct matches:  55795\n",
      "Validation accuracy: 79.707%\n",
      "Epoch 3/20, Train Loss: 12.0646, Valid Loss: 25.8447\n",
      "Number of correct matches:  55794\n",
      "Validation accuracy: 79.706%\n",
      "Epoch 4/20, Train Loss: 11.9598, Valid Loss: 25.7692\n",
      "Number of correct matches:  55803\n",
      "Validation accuracy: 79.719%\n",
      "Epoch 5/20, Train Loss: 11.8781, Valid Loss: 25.6865\n",
      "Model saved with validation loss: 25.686538369315013\n",
      "Number of correct matches:  55799\n",
      "Validation accuracy: 79.713%\n",
      "Epoch 6/20, Train Loss: 11.7130, Valid Loss: 25.7978\n",
      "Number of correct matches:  55798\n",
      "Validation accuracy: 79.711%\n",
      "Epoch 7/20, Train Loss: 11.6951, Valid Loss: 25.7905\n",
      "Number of correct matches:  55800\n",
      "Validation accuracy: 79.714%\n",
      "Epoch 8/20, Train Loss: 11.6842, Valid Loss: 25.7381\n",
      "Number of correct matches:  55792\n",
      "Validation accuracy: 79.703%\n",
      "Epoch 9/20, Train Loss: 11.6739, Valid Loss: 25.6521\n",
      "Model saved with validation loss: 25.6520573752267\n",
      "Number of correct matches:  55790\n",
      "Validation accuracy: 79.700%\n",
      "Epoch 10/20, Train Loss: 11.6551, Valid Loss: 25.7371\n",
      "Number of correct matches:  55792\n",
      "Validation accuracy: 79.703%\n",
      "Epoch 11/20, Train Loss: 11.6540, Valid Loss: 25.7122\n",
      "Number of correct matches:  55791\n",
      "Validation accuracy: 79.701%\n",
      "Epoch 12/20, Train Loss: 11.6524, Valid Loss: 25.7438\n",
      "Number of correct matches:  55790\n",
      "Validation accuracy: 79.700%\n",
      "Epoch 13/20, Train Loss: 11.6517, Valid Loss: 25.8801\n",
      "Number of correct matches:  55791\n",
      "Validation accuracy: 79.701%\n",
      "Epoch 14/20, Train Loss: 11.6498, Valid Loss: 25.8921\n",
      "Number of correct matches:  55791\n",
      "Validation accuracy: 79.701%\n",
      "Epoch 15/20, Train Loss: 11.6498, Valid Loss: 25.8800\n",
      "Number of correct matches:  55791\n",
      "Validation accuracy: 79.701%\n",
      "Epoch 16/20, Train Loss: 11.6496, Valid Loss: 25.7089\n",
      "Number of correct matches:  55791\n",
      "Validation accuracy: 79.701%\n",
      "Epoch 17/20, Train Loss: 11.6496, Valid Loss: 25.4711\n",
      "Model saved with validation loss: 25.471122169494627\n",
      "Number of correct matches:  55791\n",
      "Validation accuracy: 79.701%\n",
      "Epoch 18/20, Train Loss: 11.6491, Valid Loss: 25.7209\n",
      "Number of correct matches:  55791\n",
      "Validation accuracy: 79.701%\n",
      "Epoch 19/20, Train Loss: 11.6495, Valid Loss: 25.8452\n",
      "Number of correct matches:  55791\n",
      "Validation accuracy: 79.701%\n",
      "Epoch 20/20, Train Loss: 11.6490, Valid Loss: 25.5306\n"
     ]
    }
   ],
   "source": [
    "train(model, criterion, optimizer, train_dl, eval_dl, n_epochs, f\"models/squeezenet_{BATCH_SIZE}.pt\")"
   ]
  },
  {
   "cell_type": "code",
   "execution_count": 23,
   "metadata": {},
   "outputs": [],
   "source": [
    "torch.save(model.state_dict(), f\"models/squeezenet_{BATCH_SIZE}.pt\")"
   ]
  },
  {
   "cell_type": "code",
   "execution_count": 24,
   "metadata": {},
   "outputs": [],
   "source": [
    "# import matplotlib.pyplot as plt\n",
    "\n",
    "# means = []\n",
    "# mins = []\n",
    "# maxs = []\n",
    "# medians = []\n",
    "# distances = []\n",
    "\n",
    "# special_embeddings_batch = np.array(special_embeddings_batch).squeeze()\n",
    "\n",
    "# for emb in special_embeddings_batch:\n",
    "#     if emb is None:\n",
    "#         continue\n",
    "#     means.append(np.mean(emb))\n",
    "#     mins.append(np.min(emb))\n",
    "#     maxs.append(np.max(emb))\n",
    "#     medians.append(np.median(emb))\n",
    "    \n",
    "# subset = np.random.permutation(special_embeddings_batch[:10000])\n",
    "# subset = subset.squeeze()\n",
    "# print(subset.shape)\n",
    "\n",
    "# similarity_matrix = cosine_similarity(subset)\n",
    "\n",
    "# print(similarity_matrix)\n",
    "\n",
    "# plt.plot(means, label=\"mean\")\n",
    "# plt.plot(mins, label=\"min\")\n",
    "# plt.plot(medians, label=\"medians\")\n",
    "# plt.plot(maxs, label=\"max\")\n",
    "# plt.legend()\n"
   ]
  },
  {
   "cell_type": "code",
   "execution_count": 25,
   "metadata": {},
   "outputs": [],
   "source": [
    "# plt.title(\"Distances between emb1 and 10 other embeddings\")\n",
    "# plt.plot([i for i in range(100)], similarity_matrix[0][:100])\n",
    "# plt.ylim(0,1)\n"
   ]
  },
  {
   "cell_type": "code",
   "execution_count": 26,
   "metadata": {},
   "outputs": [
    {
     "data": {
      "text/plain": [
       "<matplotlib.legend.Legend at 0x27795947850>"
      ]
     },
     "execution_count": 26,
     "metadata": {},
     "output_type": "execute_result"
    },
    {
     "data": {
      "image/png": "[encoded data removed]",
      "text/plain": [
       "<Figure size 640x480 with 1 Axes>"
      ]
     },
     "metadata": {},
     "output_type": "display_data"
    }
   ],
   "source": [
    "import matplotlib.pyplot as plt\n",
    "\n",
    "\n",
    "plt.plot(loss_history, label=\"loss\")\n",
    "plt.plot(accuracy_history, label=\"accuracy\") \n",
    "plt.legend()"
   ]
  },
  {
   "cell_type": "code",
   "execution_count": 27,
   "metadata": {},
   "outputs": [],
   "source": [
    "val_losses = [99.5542,98.5022,95.2130,98.5903,98.8151,97.7996,98.3577,98.3070,98.8736,98.4011]"
   ]
  },
  {
   "cell_type": "code",
   "execution_count": 28,
   "metadata": {},
   "outputs": [
    {
     "data": {
      "text/plain": [
       "[11.445099830627441,\n",
       " 12.596409797668457,\n",
       " 10.229941368103027,\n",
       " 12.868830680847168,\n",
       " 11.693328857421875,\n",
       " 12.808272361755371,\n",
       " 11.101693153381348,\n",
       " 12.852219581604004,\n",
       " 11.70402717590332,\n",
       " 13.959182739257812,\n",
       " 13.30939769744873,\n",
       " 10.58791446685791,\n",
       " 11.768588066101074,\n",
       " 11.94097900390625,\n",
       " 12.809863090515137,\n",
       " 11.853829383850098,\n",
       " 12.490082740783691,\n",
       " 9.919453620910645,\n",
       " 12.568618774414062,\n",
       " 10.611333847045898]"
      ]
     },
     "execution_count": 28,
     "metadata": {},
     "output_type": "execute_result"
    }
   ],
   "source": [
    "loss_history"
   ]
  },
  {
   "cell_type": "code",
   "execution_count": 29,
   "metadata": {},
   "outputs": [
    {
     "data": {
      "text/plain": [
       "[25.697336850847517,\n",
       " 25.82935115269252,\n",
       " 25.844687380109516,\n",
       " 25.769193267822267,\n",
       " 25.686538369315013,\n",
       " 25.797776576450893,\n",
       " 25.790482929774694,\n",
       " 25.738103921072824,\n",
       " 25.6520573752267,\n",
       " 25.737098802839007,\n",
       " 25.712191445486887,\n",
       " 25.74377735682896,\n",
       " 25.88008940560477,\n",
       " 25.89209703717913,\n",
       " 25.880045645577567,\n",
       " 25.70888557434082,\n",
       " 25.471122169494627,\n",
       " 25.720891734531946,\n",
       " 25.845160402570453,\n",
       " 25.53059937613351]"
      ]
     },
     "execution_count": 29,
     "metadata": {},
     "output_type": "execute_result"
    }
   ],
   "source": [
    "val_loss_history    "
   ]
  },
  {
   "cell_type": "code",
   "execution_count": 30,
   "metadata": {},
   "outputs": [
    {
     "data": {
      "image/png": "[encoded data removed]",
      "text/plain": [
       "<Figure size 640x480 with 2 Axes>"
      ]
     },
     "metadata": {},
     "output_type": "display_data"
    }
   ],
   "source": [
    "import matplotlib.pyplot as plt\n",
    "\n",
    "epoch_cutoff = np.argmin(loss_history)\n",
    "epoch_cutoff = 10\n",
    "\n",
    "# Create a figure and primary y-axis\n",
    "fig, ax1 = plt.subplots()\n",
    "# loss_history[0] = 50\n",
    "\n",
    "# Plot data on the primary y-axis\n",
    "ax1.plot(val_loss_history[:epoch_cutoff], color='green', label='Validation loss')\n",
    "ax1.plot(loss_history[:epoch_cutoff], color='blue', label='Training loss')\n",
    "ax1.set_ylabel('Training loss', color='blue')\n",
    "ax1.set_ylim(0, max(val_losses) + 1)\n",
    "\n",
    "# Create a secondary y-axis\n",
    "ax2 = ax1.twinx()\n",
    "ax2.set_ylim(0, 100)\n",
    "\n",
    "# Plot data on the secondary y-axis\n",
    "ax2.plot(accuracy_history[:epoch_cutoff], color='red', label='Validation accuracy')\n",
    "ax2.set_ylabel('Validation accuracy [%]', color='red')\n",
    "\n",
    "# Add legend\n",
    "ax1.legend(loc='lower left')\n",
    "ax2.legend(loc='lower right')\n",
    "ax1.set_xlabel(\"Epoch\")\n",
    "ax1.set_xticks([2 * i for i in range(epoch_cutoff // 2)])\n",
    "# Show plot\n",
    "plt.show()"
   ]
  }
 ],
 "metadata": {
  "kernelspec": {
   "display_name": "torch",
   "language": "python",
   "name": "python3"
  },
  "language_info": {
   "codemirror_mode": {
    "name": "ipython",
    "version": 3
   },
   "file_extension": ".py",
   "mimetype": "text/x-python",
   "name": "python",
   "nbconvert_exporter": "python",
   "pygments_lexer": "ipython3",
   "version": "3.11.5"
  },
  "orig_nbformat": 4
 },
 "nbformat": 4,
 "nbformat_minor": 2
}

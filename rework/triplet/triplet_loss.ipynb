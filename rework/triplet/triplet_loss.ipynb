{
 "cells": [
  {
   "cell_type": "code",
   "execution_count": 1,
   "metadata": {},
   "outputs": [],
   "source": [
    "# import matplotlib.pyplot as plt\n",
    "import numpy as np\n",
    "import torch\n",
    "import torchvision.models as models\n",
    "from PIL import Image\n",
    "from sklearn.metrics import accuracy_score, precision_score\n",
    "from torch import nn\n",
    "from torchvision import transforms as T\n",
    "import torchvision.models as models\n",
    "\n",
    "from torch.utils.data import DataLoader"
   ]
  },
  {
   "cell_type": "code",
   "execution_count": 2,
   "metadata": {},
   "outputs": [
    {
     "data": {
      "text/plain": [
       "device(type='cuda')"
      ]
     },
     "execution_count": 2,
     "metadata": {},
     "output_type": "execute_result"
    }
   ],
   "source": [
    "device = torch.device(\"cuda\" if torch.cuda.is_available() else \"cpu\")\n",
    "device"
   ]
  },
  {
   "attachments": {},
   "cell_type": "markdown",
   "metadata": {},
   "source": [
    "### 1. Load dataloaders"
   ]
  },
  {
   "cell_type": "code",
   "execution_count": 3,
   "metadata": {},
   "outputs": [],
   "source": [
    "from triplet_dataset import TripletDataset"
   ]
  },
  {
   "cell_type": "code",
   "execution_count": 4,
   "metadata": {},
   "outputs": [],
   "source": [
    "train_ds = torch.load(\"data/train_dataset.pt\")\n",
    "eval_ds = torch.load(\"data/eval_dataset.pt\")"
   ]
  },
  {
   "cell_type": "code",
   "execution_count": 5,
   "metadata": {},
   "outputs": [],
   "source": [
    "train_ds.reshuffle()\n",
    "eval_ds.reshuffle()"
   ]
  },
  {
   "cell_type": "code",
   "execution_count": 6,
   "metadata": {},
   "outputs": [
    {
     "data": {
      "text/plain": [
       "(52270, 52270, 52270)"
      ]
     },
     "execution_count": 6,
     "metadata": {},
     "output_type": "execute_result"
    }
   ],
   "source": [
    "len(eval_ds.data), len(eval_ds.labels), len(eval_ds.triplets)"
   ]
  },
  {
   "cell_type": "code",
   "execution_count": 7,
   "metadata": {},
   "outputs": [],
   "source": [
    "eval_set_size = 25_000"
   ]
  },
  {
   "cell_type": "code",
   "execution_count": 8,
   "metadata": {},
   "outputs": [],
   "source": [
    "eval_ds.data = eval_ds.data[:eval_set_size]\n",
    "eval_ds.labels = eval_ds.labels[:eval_set_size]\n",
    "eval_ds.triplets = eval_ds.triplets[:eval_set_size]"
   ]
  },
  {
   "cell_type": "code",
   "execution_count": 9,
   "metadata": {},
   "outputs": [],
   "source": [
    "def get_majority(ds, get_value_counts=False):\n",
    "    \"\"\"Returns accuracy of the majority classifier\"\"\"\n",
    "    # Get the labels from the dataset\n",
    "    labels = [ys[0] for Xs, ys in ds.triplets]\n",
    "    \n",
    "    # Calculate the majority class label and its count\n",
    "    majority_class = np.argmax(np.bincount(labels))\n",
    "    majority_class_count = np.sum(labels == majority_class)\n",
    "    \n",
    "    # Calculate the accuracy of the majority classifier\n",
    "    accuracy = majority_class_count / len(labels)\n",
    "    \n",
    "    if get_value_counts:\n",
    "        return majority_class, accuracy, np.bincount(labels)\n",
    "    \n",
    "    return majority_class, accuracy"
   ]
  },
  {
   "cell_type": "code",
   "execution_count": 10,
   "metadata": {},
   "outputs": [
    {
     "name": "stdout",
     "output_type": "stream",
     "text": [
      "(1028, 0.003733165575412428)\n",
      "(1028, 0.00388, array([ 2,  1,  0, ..., 22, 24, 23], dtype=int64))\n"
     ]
    }
   ],
   "source": [
    "print(get_majority(train_ds))\n",
    "print(get_majority(eval_ds, get_value_counts=True))"
   ]
  },
  {
   "cell_type": "code",
   "execution_count": 11,
   "metadata": {},
   "outputs": [
    {
     "data": {
      "text/plain": [
       "(25000, 25000, 25000)"
      ]
     },
     "execution_count": 11,
     "metadata": {},
     "output_type": "execute_result"
    }
   ],
   "source": [
    "len(eval_ds.data), len(eval_ds.labels), len(eval_ds.triplets)"
   ]
  },
  {
   "cell_type": "code",
   "execution_count": 12,
   "metadata": {},
   "outputs": [],
   "source": [
    "BATCH_SIZE = 8\n",
    "\n",
    "train_dl = DataLoader(train_ds, batch_size=BATCH_SIZE, shuffle=True)\n",
    "eval_dl = DataLoader(eval_ds, batch_size=BATCH_SIZE, shuffle=True)"
   ]
  },
  {
   "cell_type": "code",
   "execution_count": 13,
   "metadata": {},
   "outputs": [],
   "source": [
    "from sklearn.metrics.pairwise import cosine_similarity\n",
    "\n",
    "\n",
    "loss_history = []\n",
    "accuracy_history = []\n",
    "\n",
    "def train(model, criterion, optimizer, train_loader, valid_loader, epochs, save_path=\"models/model\"):\n",
    "    best_val_loss = float('inf')  # Initialize with infinity\n",
    "    \n",
    "    model = model.to(device)\n",
    "    scheduler = torch.optim.lr_scheduler.ReduceLROnPlateau(optimizer, mode='min', factor=0.1, patience=3, verbose=True)    \n",
    "    \n",
    "    for epoch in range(epochs):\n",
    "        # Training loop\n",
    "        model.train()\n",
    "        train_loss = 0.0\n",
    "        val_loss = 0\n",
    "        \n",
    "        for inputs, labels in train_loader:\n",
    "            \n",
    "            input_anchor, input_pos, input_neg = inputs\n",
    "            # label_anchor, label_pos, label_neg = labels\n",
    "            \n",
    "            input_anchor = input_anchor.to(device)\n",
    "            input_pos = input_pos.to(device)\n",
    "            input_neg = input_neg.to(device)\n",
    "            \n",
    "            emb_anchor = model(input_anchor)\n",
    "            emb_pos = model(input_pos)\n",
    "            emb_neg = model(input_neg)\n",
    "            \n",
    "            loss = criterion(emb_anchor, emb_pos, emb_neg)\n",
    "            loss.backward()\n",
    "            optimizer.step()\n",
    "            optimizer.zero_grad()\n",
    "            \n",
    "            train_loss += loss.item()\n",
    "            \n",
    "        loss_history.append(loss.item())    \n",
    "        \n",
    "        scheduler.step(val_loss)\n",
    "        \n",
    "        # Validation loop\n",
    "        model.eval()\n",
    "        val_loss = 0\n",
    "        \n",
    "        embeddings = []\n",
    "        targets = []\n",
    "        \n",
    "        with torch.no_grad():\n",
    "            for inputs, labels in valid_loader:\n",
    "                input_anchor, input_pos, input_neg = inputs\n",
    "                label_anchor, label_pos, label_neg = labels\n",
    "                \n",
    "                batch_emb, batch_lab = [], []\n",
    "                \n",
    "                input_anchor = input_anchor.to(device)\n",
    "                input_pos = input_pos.to(device)\n",
    "                input_neg = input_neg.to(device)\n",
    "                \n",
    "                emb_anchor = model(input_anchor)\n",
    "                emb_pos = model(input_pos)\n",
    "                emb_neg = model(input_neg)\n",
    "                \n",
    "                # embeddings.extend(emb_anchor)\n",
    "                batch_emb.extend(emb_pos.cpu())\n",
    "                batch_emb.extend(emb_neg.cpu())\n",
    "                \n",
    "                # labels.extend(label_anchor)\n",
    "                batch_lab.extend(label_pos.cpu().tolist())\n",
    "                batch_lab.extend(label_neg.cpu().tolist())\n",
    "                \n",
    "                embeddings.extend(batch_emb)\n",
    "                targets.extend(batch_lab)\n",
    "                \n",
    "                \n",
    "                loss = criterion(emb_anchor, emb_pos, emb_neg)\n",
    "                val_loss += loss.item()\n",
    "        \n",
    "        # Average losses\n",
    "        train_loss /= len(train_loader)\n",
    "        val_loss /= len(valid_loader)\n",
    "        \n",
    "        for i in range(len(embeddings)):\n",
    "            embeddings[i] = embeddings[i].detach().numpy()\n",
    "            \n",
    "        embeddings = np.array(embeddings)\n",
    "        targets = np.array(targets)\n",
    "        \n",
    "        # Get cosine similarity for all embeddings\n",
    "        similarity_matrix = cosine_similarity(embeddings)\n",
    "        \n",
    "        # Fill diagonal with inf\n",
    "        np.fill_diagonal(similarity_matrix, -np.inf)\n",
    "        \n",
    "        # Find the index of max sim for each embedding\n",
    "        most_similar_indices = np.argmax(similarity_matrix, axis=1)\n",
    "        \n",
    "        # Extract the labels of the most similar items\n",
    "        predicted_labels = [targets[i] for i in most_similar_indices]\n",
    "        \n",
    "        \n",
    "        # Get number of correct predictions\n",
    "        # n_correct = sum(1 for true_label, predicted_label in zip(labels, predicted_labels) if true_label == predicted_label)\n",
    "        n_correct = sum(1 for true, pred in zip(targets, predicted_labels) if true == pred)\n",
    "        \n",
    "        print(\"Number of correct matches: \", n_correct)\n",
    "\n",
    "        val_acc = 100 * (n_correct / len(embeddings))\n",
    "\n",
    "        accuracy_history.append(val_acc)\n",
    "        \n",
    "        print(f\"Validation accuracy: {val_acc:0.3f}%\")\n",
    "        \n",
    "        print(f'Epoch {epoch+1}/{epochs}, Train Loss: {train_loss:.4f}, Valid Loss: {val_loss:.4f}')\n",
    "        \n",
    "        # Save the model if validation loss is improved\n",
    "        if val_loss < best_val_loss:\n",
    "            best_val_loss = val_loss\n",
    "            torch.save(model.state_dict(), f\"{save_path}_{epoch}\")\n",
    "            print(\"Model saved with validation loss:\", best_val_loss)\n",
    "        \n",
    "        embeddings = []\n",
    "        similarity_matrix = None"
   ]
  },
  {
   "attachments": {},
   "cell_type": "markdown",
   "metadata": {},
   "source": [
    "### 2. Get model & train"
   ]
  },
  {
   "cell_type": "code",
   "execution_count": 14,
   "metadata": {},
   "outputs": [],
   "source": [
    "RESNET_VERSION = 18"
   ]
  },
  {
   "cell_type": "code",
   "execution_count": 15,
   "metadata": {},
   "outputs": [],
   "source": [
    "import os\n",
    "\n",
    "if RESNET_VERSION == 50:\n",
    "    model = models.resnet50(pretrained=True)\n",
    "else:\n",
    "    model = models.resnet18(pretrained=True)\n",
    "    \n",
    "    \n",
    "model.fc = torch.nn.Identity()\n",
    "\n",
    "if os.path.exists(f\"models/resnet{RESNET_VERSION}.pt\"):\n",
    "    model.load_state_dict(torch.load(f\"models/resnet{RESNET_VERSION}.pt\"))\n"
   ]
  },
  {
   "cell_type": "code",
   "execution_count": 16,
   "metadata": {},
   "outputs": [],
   "source": [
    "import warnings\n",
    "\n",
    "warnings.filterwarnings(\"ignore\")"
   ]
  },
  {
   "cell_type": "code",
   "execution_count": 17,
   "metadata": {},
   "outputs": [],
   "source": [
    "LR = 1e-2\n",
    "\n",
    "n_epochs = 10\n",
    "\n",
    "criterion = torch.nn.TripletMarginLoss(margin=1000, p=2) \n",
    "optimizer = torch.optim.Adam(model.parameters(), lr=LR)"
   ]
  },
  {
   "cell_type": "code",
   "execution_count": 18,
   "metadata": {},
   "outputs": [],
   "source": [
    "train(model, criterion, optimizer, train_dl, eval_dl, n_epochs, f\"models/resnet{RESNET_VERSION}.pt\")"
   ]
  },
  {
   "cell_type": "code",
   "execution_count": null,
   "metadata": {},
   "outputs": [
    {
     "data": {
      "text/plain": [
       "<matplotlib.legend.Legend at 0x281f1bacb90>"
      ]
     },
     "execution_count": 19,
     "metadata": {},
     "output_type": "execute_result"
    },
    {
     "data": {
      "image/png": "[encoded data removed]",
      "text/plain": [
       "<Figure size 640x480 with 1 Axes>"
      ]
     },
     "metadata": {},
     "output_type": "display_data"
    }
   ],
   "source": [
    "import matplotlib.pyplot as plt\n",
    "\n",
    "\n",
    "plt.plot(loss_history, label=\"loss\")\n",
    "plt.plot(accuracy_history, label=\"accuracy\") \n",
    "plt.legend()"
   ]
  },
  {
   "cell_type": "code",
   "execution_count": null,
   "metadata": {},
   "outputs": [
    {
     "data": {
      "text/plain": [
       "[1, 2, 3, 4, 4]"
      ]
     },
     "execution_count": 20,
     "metadata": {},
     "output_type": "execute_result"
    }
   ],
   "source": [
    "a = torch.tensor([1,2,3,4,4])\n",
    "a\n",
    "b = []\n",
    "b.extend(a.tolist())\n",
    "b"
   ]
  },
  {
   "cell_type": "code",
   "execution_count": null,
   "metadata": {},
   "outputs": [
    {
     "data": {
      "image/png": "[encoded data removed]",
      "text/plain": [
       "<Figure size 640x480 with 2 Axes>"
      ]
     },
     "metadata": {},
     "output_type": "display_data"
    }
   ],
   "source": [
    "import matplotlib.pyplot as plt\n",
    "\n",
    "epoch_cutoff = 10\n",
    "\n",
    "# Create a figure and primary y-axis\n",
    "fig, ax1 = plt.subplots()\n",
    "\n",
    "# Plot data on the primary y-axis\n",
    "ax1.plot(loss_history[:epoch_cutoff], color='blue', label='Training loss')\n",
    "ax1.set_ylabel('Training loss', color='blue')\n",
    "ax1.set_ylim(0, max(loss_history) + 50)\n",
    "\n",
    "# Create a secondary y-axis\n",
    "ax2 = ax1.twinx()\n",
    "ax2.set_ylim(0, 100)\n",
    "\n",
    "# Plot data on the secondary y-axis\n",
    "ax2.plot(accuracy_history[:epoch_cutoff], color='red', label='Validation accuracy')\n",
    "ax2.set_ylabel('Validation accuracy [%]', color='red')\n",
    "\n",
    "# Add legend\n",
    "ax1.legend(loc='best')\n",
    "ax2.legend(loc='best')\n",
    "ax1.set_xlabel(\"Epoch\")\n",
    "ax1.set_xticks([2 * i for i in range(epoch_cutoff // 2)])\n",
    "# Show plot\n",
    "plt.show()"
   ]
  }
 ],
 "metadata": {
  "kernelspec": {
   "display_name": "torch",
   "language": "python",
   "name": "python3"
  },
  "language_info": {
   "codemirror_mode": {
    "name": "ipython",
    "version": 3
   },
   "file_extension": ".py",
   "mimetype": "text/x-python",
   "name": "python",
   "nbconvert_exporter": "python",
   "pygments_lexer": "ipython3",
   "version": "3.11.5"
  },
  "orig_nbformat": 4
 },
 "nbformat": 4,
 "nbformat_minor": 2
}
